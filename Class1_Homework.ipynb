{
  "nbformat": 4,
  "nbformat_minor": 0,
  "metadata": {
    "colab": {
      "name": "Copy of Python4AI.ipynb",
      "provenance": [],
      "collapsed_sections": [
        "U2QQKrwd-Jy4",
        "uQ1OLiMezFUA"
      ],
      "toc_visible": true,
      "mount_file_id": "1Vg9zZDThoFZ74VPdT38Z-S4ACFhvzVwu",
      "authorship_tag": "ABX9TyMZtxBR59oat5YQYQmlwaBu",
      "include_colab_link": true
    },
    "kernelspec": {
      "name": "python3",
      "display_name": "Python 3"
    },
    "language_info": {
      "name": "python"
    }
  },
  "cells": [
    {
      "cell_type": "markdown",
      "metadata": {
        "id": "view-in-github",
        "colab_type": "text"
      },
      "source": [
        "<a href=\"https://colab.research.google.com/github/aaroncdvd/HRBS-CA_Python_AI/blob/main/Class1_Homework.ipynb\" target=\"_parent\"><img src=\"https://colab.research.google.com/assets/colab-badge.svg\" alt=\"Open In Colab\"/></a>"
      ]
    },
    {
      "cell_type": "markdown",
      "metadata": {
        "id": "gnfPLQUQCMD5"
      },
      "source": [
        "# Class 1 Homework Template"
      ]
    },
    {
      "cell_type": "markdown",
      "metadata": {
        "id": "BwcnK3lW51wM"
      },
      "source": [
        "See Class 1 Notes for basics.  \n",
        "\n",
        "*   variables (example usage: x=1)\n",
        "*   lists (example usage: [1,2,3])\n",
        "*   functions (example usage: def plus(a, b): return a + b)\n",
        "*   conditional (example usage: if this == that: print('equal') else: print('not equal')) "
      ]
    },
    {
      "cell_type": "markdown",
      "metadata": {
        "id": "X40pq0zJV5Bg"
      },
      "source": [
        "##Review Step -> Variables, Lists, Functions, Conditionals"
      ]
    },
    {
      "cell_type": "code",
      "metadata": {
        "colab": {
          "base_uri": "https://localhost:8080/"
        },
        "id": "83zToccPTeyM",
        "outputId": "cd65bde1-4d0c-4ba4-a37c-5c45a73da448"
      },
      "source": [
        "#variable\n",
        "x=1 \n",
        "print(x)\n",
        "\n",
        "#list\n",
        "y=[1, 2, 3]\n",
        "print(y) \n",
        "\n",
        "#function\n",
        "def plus(a, b): \n",
        "  return a + b \n",
        "print(plus(1,2))\n",
        "\n",
        "#conditional\n",
        "if x == x: \n",
        "  print('equal') \n",
        "else: \n",
        "  print('not equal') "
      ],
      "execution_count": null,
      "outputs": [
        {
          "output_type": "stream",
          "text": [
            "1\n",
            "[1, 2, 3]\n",
            "3\n",
            "equal\n"
          ],
          "name": "stdout"
        }
      ]
    },
    {
      "cell_type": "markdown",
      "metadata": {
        "id": "dPH7aVIp8pSy"
      },
      "source": [
        "## [>](https://stackoverflow.com/questions/432842/how-do-you-get-the-logical-xor-of-two-variables-in-python) ***XOR***"
      ]
    },
    {
      "cell_type": "markdown",
      "metadata": {
        "id": "3o0lm6tR7a0X"
      },
      "source": [
        "The examples below ONLY use the information from class including: \n",
        "\n",
        "Bitwise exclusive-or is already built-in to Python, in the operator module (which is identical to the ^ operator):"
      ]
    },
    {
      "cell_type": "markdown",
      "metadata": {
        "id": "E2Gundg4-hAV"
      },
      "source": [
        "Set a equal to 1:"
      ]
    },
    {
      "cell_type": "code",
      "metadata": {
        "id": "vzxaY2CV8H9i"
      },
      "source": [
        "a=1"
      ],
      "execution_count": null,
      "outputs": []
    },
    {
      "cell_type": "markdown",
      "metadata": {
        "id": "vt5L0uKs-eM0"
      },
      "source": [
        "Set b equal to 1:"
      ]
    },
    {
      "cell_type": "code",
      "metadata": {
        "id": "MZvuGI-h8Hzj"
      },
      "source": [
        "b=1"
      ],
      "execution_count": null,
      "outputs": []
    },
    {
      "cell_type": "markdown",
      "metadata": {
        "id": "D7YjFyXq-agb"
      },
      "source": [
        "Import XOR from Operator library:"
      ]
    },
    {
      "cell_type": "code",
      "metadata": {
        "id": "Qt6y-p-X8CMI"
      },
      "source": [
        "from operator import xor"
      ],
      "execution_count": null,
      "outputs": []
    },
    {
      "cell_type": "markdown",
      "metadata": {
        "id": "Ht7N-qum-TuB"
      },
      "source": [
        "Example XOR Usage:\n",
        "Note: converting to bools is sometimes essential xor(bool(a), bool(b))"
      ]
    },
    {
      "cell_type": "code",
      "metadata": {
        "colab": {
          "base_uri": "https://localhost:8080/"
        },
        "id": "-Z9GP7aJHexo",
        "outputId": "e8bc906f-5b1f-415b-e42e-4708fb512106"
      },
      "source": [
        "xor(a, b) "
      ],
      "execution_count": null,
      "outputs": [
        {
          "output_type": "execute_result",
          "data": {
            "text/plain": [
              "0"
            ]
          },
          "metadata": {
            "tags": []
          },
          "execution_count": 226
        }
      ]
    },
    {
      "cell_type": "markdown",
      "metadata": {
        "id": "jr6x6uOl-Rd9"
      },
      "source": [
        "Use XOR from Examples:"
      ]
    },
    {
      "cell_type": "code",
      "metadata": {
        "id": "ahLLi4lV-HS0"
      },
      "source": [
        "example1 = xor(1, 1)\n",
        "example2 = xor(1, 0)\n",
        "example3 = xor(0, 1)\n",
        "example4 = xor(0, 0)"
      ],
      "execution_count": null,
      "outputs": []
    },
    {
      "cell_type": "code",
      "metadata": {
        "colab": {
          "base_uri": "https://localhost:8080/"
        },
        "id": "13tpCj8a_M8K",
        "outputId": "a35509bb-7131-4373-a49e-107b9abd0b38"
      },
      "source": [
        "print(\"xor(1, 1) =>\",example1)\n",
        "print(\"xor(1, 0) =>\",example2)\n",
        "print(\"xor(0, 1) =>\",example3)\n",
        "print(\"xor(0, 0) =>\",example4)"
      ],
      "execution_count": null,
      "outputs": [
        {
          "output_type": "stream",
          "text": [
            "xor(1, 1) => 0\n",
            "xor(1, 0) => 1\n",
            "xor(0, 1) => 1\n",
            "xor(0, 0) => 0\n"
          ],
          "name": "stdout"
        }
      ]
    },
    {
      "cell_type": "markdown",
      "metadata": {
        "id": "D7F5SNQw7awR"
      },
      "source": [
        "Make our own xor called my_xor:"
      ]
    },
    {
      "cell_type": "code",
      "metadata": {
        "id": "Pe9mq02H8eav"
      },
      "source": [
        "def my_xor(a, b):\n",
        "    if bool(a) == bool(b):\n",
        "        return 0\n",
        "    else:\n",
        "        return a or b"
      ],
      "execution_count": null,
      "outputs": []
    },
    {
      "cell_type": "markdown",
      "metadata": {
        "id": "vXn5XzaC7agk"
      },
      "source": [
        "Call our own XOR function:"
      ]
    },
    {
      "cell_type": "code",
      "metadata": {
        "colab": {
          "base_uri": "https://localhost:8080/"
        },
        "id": "84LnKb_s8g5c",
        "outputId": "3890e444-f4e2-48ee-ccd0-bd922f17a05c"
      },
      "source": [
        "my_xor(a,b)"
      ],
      "execution_count": null,
      "outputs": [
        {
          "output_type": "execute_result",
          "data": {
            "text/plain": [
              "0"
            ]
          },
          "metadata": {
            "tags": []
          },
          "execution_count": 230
        }
      ]
    },
    {
      "cell_type": "markdown",
      "metadata": {
        "id": "9TF5_zwb7asq"
      },
      "source": [
        "Use our own new my_xor function:"
      ]
    },
    {
      "cell_type": "code",
      "metadata": {
        "id": "uS5suvhe_xrN"
      },
      "source": [
        "example1 = my_xor(1, 1)\n",
        "example2 = my_xor(1, 0)\n",
        "example3 = my_xor(0, 1)\n",
        "example4 = my_xor(0, 0)"
      ],
      "execution_count": null,
      "outputs": []
    },
    {
      "cell_type": "code",
      "metadata": {
        "colab": {
          "base_uri": "https://localhost:8080/"
        },
        "id": "-ifiycPe-Ia4",
        "outputId": "44ab2481-4ee6-4d90-fda7-1751f7060515"
      },
      "source": [
        "print(\"my_xor(1, 1) =>\",example1)\n",
        "print(\"my_xor(1, 0) =>\",example2)\n",
        "print(\"my_xor(0, 1) =>\",example3)\n",
        "print(\"my_xor(0, 0) =>\",example4)"
      ],
      "execution_count": null,
      "outputs": [
        {
          "output_type": "stream",
          "text": [
            "my_xor(1, 1) => 0\n",
            "my_xor(1, 0) => 1\n",
            "my_xor(0, 1) => 1\n",
            "my_xor(0, 0) => 0\n"
          ],
          "name": "stdout"
        }
      ]
    },
    {
      "cell_type": "markdown",
      "metadata": {
        "id": "QUL2zKgzW9nG"
      },
      "source": [
        "Place YOUR CODE HERE:"
      ]
    },
    {
      "cell_type": "code",
      "metadata": {
        "id": "V4G_6uErXAxJ"
      },
      "source": [
        "#ENTER YOUR CODE BELOW THS LINE\n",
        "\n",
        "\n",
        "\n"
      ],
      "execution_count": null,
      "outputs": []
    }
  ]
}
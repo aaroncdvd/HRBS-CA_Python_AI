{
  "nbformat": 4,
  "nbformat_minor": 0,
  "metadata": {
    "colab": {
      "name": "Setup.ipynb",
      "provenance": [],
      "collapsed_sections": [
        "5zzdXei7xCSD",
        "U2QQKrwd-Jy4"
      ],
      "toc_visible": true,
      "mount_file_id": "1mJ2X8TpwzR3rSsftsZG-0Jt-7GxeRdo0",
      "authorship_tag": "ABX9TyOyKNLTb/7RNzvsoYAF/eVl",
      "include_colab_link": true
    },
    "kernelspec": {
      "name": "python3",
      "display_name": "Python 3"
    },
    "language_info": {
      "name": "python"
    }
  },
  "cells": [
    {
      "cell_type": "markdown",
      "metadata": {
        "id": "view-in-github",
        "colab_type": "text"
      },
      "source": [
        "<a href=\"https://colab.research.google.com/github/aaroncdvd/HRBS-CA_Python_AI/blob/main/Setup.ipynb\" target=\"_parent\"><img src=\"https://colab.research.google.com/assets/colab-badge.svg\" alt=\"Open In Colab\"/></a>"
      ]
    },
    {
      "cell_type": "markdown",
      "metadata": {
        "id": "5zzdXei7xCSD"
      },
      "source": [
        "#mount google drive"
      ]
    },
    {
      "cell_type": "code",
      "metadata": {
        "colab": {
          "base_uri": "https://localhost:8080/"
        },
        "id": "nEGW9m0WqQJY",
        "outputId": "2d34d70c-8ea9-446a-dc0f-b0377e86f47d"
      },
      "source": [
        "from google.colab import drive\n",
        "drive.mount('/content/drive')"
      ],
      "execution_count": 123,
      "outputs": [
        {
          "output_type": "stream",
          "text": [
            "Drive already mounted at /content/drive; to attempt to forcibly remount, call drive.mount(\"/content/drive\", force_remount=True).\n"
          ],
          "name": "stdout"
        }
      ]
    },
    {
      "cell_type": "markdown",
      "metadata": {
        "id": "U2QQKrwd-Jy4"
      },
      "source": [
        "# update course files "
      ]
    },
    {
      "cell_type": "code",
      "metadata": {
        "id": "Dw_mtBzwmCyd"
      },
      "source": [
        "!rm -rf '/content/drive/MyDrive/Colab Notebooks/HRBS-CA_Python_AI'"
      ],
      "execution_count": 128,
      "outputs": []
    },
    {
      "cell_type": "code",
      "metadata": {
        "id": "hrrC4Hhuo237"
      },
      "source": [
        "mkdir -p '/content/drive/MyDrive/Colab Notebooks/HRBS-CA_Python_AI/'"
      ],
      "execution_count": 129,
      "outputs": []
    },
    {
      "cell_type": "code",
      "metadata": {
        "colab": {
          "base_uri": "https://localhost:8080/"
        },
        "id": "vJTfGV_id1RC",
        "outputId": "341621a2-49c6-46bf-a490-479114a6355b"
      },
      "source": [
        "pip install GitPython"
      ],
      "execution_count": 130,
      "outputs": [
        {
          "output_type": "stream",
          "text": [
            "Requirement already satisfied: GitPython in /usr/local/lib/python3.7/dist-packages (3.1.14)\n",
            "Requirement already satisfied: gitdb<5,>=4.0.1 in /usr/local/lib/python3.7/dist-packages (from GitPython) (4.0.5)\n",
            "Requirement already satisfied: smmap<4,>=3.0.1 in /usr/local/lib/python3.7/dist-packages (from gitdb<5,>=4.0.1->GitPython) (3.0.5)\n"
          ],
          "name": "stdout"
        }
      ]
    },
    {
      "cell_type": "code",
      "metadata": {
        "colab": {
          "base_uri": "https://localhost:8080/"
        },
        "id": "VNLpsqhVdW2w",
        "outputId": "721d6637-9bbe-4b55-8033-c6431b84f39d"
      },
      "source": [
        "from git import Repo\n",
        "git_url = \"https://github.com/aaroncdvd/HRBS-CA_Python_AI.git\"\n",
        "repo_dir = \"/content/drive/MyDrive/Colab Notebooks/HRBS-CA_Python_AI\"\n",
        "Repo.clone_from(git_url, repo_dir)"
      ],
      "execution_count": 131,
      "outputs": [
        {
          "output_type": "execute_result",
          "data": {
            "text/plain": [
              "<git.repo.base.Repo '/content/drive/MyDrive/Colab Notebooks/HRBS-CA_Python_AI/.git'>"
            ]
          },
          "metadata": {
            "tags": []
          },
          "execution_count": 131
        }
      ]
    }
  ]
}
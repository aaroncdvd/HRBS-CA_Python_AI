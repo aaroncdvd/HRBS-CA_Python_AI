{
  "nbformat": 4,
  "nbformat_minor": 0,
  "metadata": {
    "colab": {
      "name": "Copy of Setup.ipynb",
      "provenance": [],
      "collapsed_sections": [
        "U2QQKrwd-Jy4"
      ],
      "toc_visible": true,
      "mount_file_id": "1Vg9zZDThoFZ74VPdT38Z-S4ACFhvzVwu",
      "authorship_tag": "ABX9TyNZLheemjJK+GFNYLaEsYo4",
      "include_colab_link": true
    },
    "kernelspec": {
      "name": "python3",
      "display_name": "Python 3"
    },
    "language_info": {
      "name": "python"
    }
  },
  "cells": [
    {
      "cell_type": "markdown",
      "metadata": {
        "id": "view-in-github",
        "colab_type": "text"
      },
      "source": [
        "<a href=\"https://colab.research.google.com/github/aaroncdvd/HRBS-CA_Python_AI/blob/main/Setup.ipynb\" target=\"_parent\"><img src=\"https://colab.research.google.com/assets/colab-badge.svg\" alt=\"Open In Colab\"/></a>"
      ]
    },
    {
      "cell_type": "markdown",
      "metadata": {
        "id": "U2QQKrwd-Jy4"
      },
      "source": [
        "# load course files "
      ]
    },
    {
      "cell_type": "code",
      "metadata": {
        "colab": {
          "base_uri": "https://localhost:8080/"
        },
        "id": "nEGW9m0WqQJY",
        "outputId": "5594698b-50a1-46e0-ff01-fb9af355d7df"
      },
      "source": [
        "from google.colab import drive\n",
        "drive.mount('/content/drive')"
      ],
      "execution_count": 7,
      "outputs": [
        {
          "output_type": "stream",
          "text": [
            "Drive already mounted at /content/drive; to attempt to forcibly remount, call drive.mount(\"/content/drive\", force_remount=True).\n"
          ],
          "name": "stdout"
        }
      ]
    },
    {
      "cell_type": "code",
      "metadata": {
        "id": "Dw_mtBzwmCyd"
      },
      "source": [
        "!rm -rf '/content/drive/MyDrive/Colab Notebooks/HRBS-CA_Python_AI'"
      ],
      "execution_count": 8,
      "outputs": []
    },
    {
      "cell_type": "code",
      "metadata": {
        "id": "hrrC4Hhuo237"
      },
      "source": [
        "mkdir -p '/content/drive/MyDrive/Colab Notebooks/HRBS-CA_Python_AI/'"
      ],
      "execution_count": 9,
      "outputs": []
    },
    {
      "cell_type": "code",
      "metadata": {
        "colab": {
          "base_uri": "https://localhost:8080/"
        },
        "id": "vJTfGV_id1RC",
        "outputId": "a6b79564-e271-452a-9de4-4834a087f235"
      },
      "source": [
        "pip install GitPython"
      ],
      "execution_count": 10,
      "outputs": [
        {
          "output_type": "stream",
          "text": [
            "Requirement already satisfied: GitPython in /usr/local/lib/python3.7/dist-packages (3.1.14)\n",
            "Requirement already satisfied: gitdb<5,>=4.0.1 in /usr/local/lib/python3.7/dist-packages (from GitPython) (4.0.5)\n",
            "Requirement already satisfied: smmap<4,>=3.0.1 in /usr/local/lib/python3.7/dist-packages (from gitdb<5,>=4.0.1->GitPython) (3.0.5)\n"
          ],
          "name": "stdout"
        }
      ]
    },
    {
      "cell_type": "code",
      "metadata": {
        "colab": {
          "base_uri": "https://localhost:8080/"
        },
        "id": "VNLpsqhVdW2w",
        "outputId": "b845bbdf-876b-4e94-b5a7-18d3bcac44c4"
      },
      "source": [
        "from git import Repo\n",
        "git_url = \"https://github.com/aaroncdvd/HRBS-CA_Python_AI.git\"\n",
        "repo_dir = \"/content/drive/MyDrive/Colab Notebooks/HRBS-CA_Python_AI\"\n",
        "Repo.clone_from(git_url, repo_dir)"
      ],
      "execution_count": 11,
      "outputs": [
        {
          "output_type": "execute_result",
          "data": {
            "text/plain": [
              "<git.repo.base.Repo '/content/drive/MyDrive/Colab Notebooks/HRBS-CA_Python_AI/.git'>"
            ]
          },
          "metadata": {
            "tags": []
          },
          "execution_count": 11
        }
      ]
    }
  ]
}
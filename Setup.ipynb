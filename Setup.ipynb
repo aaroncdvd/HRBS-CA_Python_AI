{
  "nbformat": 4,
  "nbformat_minor": 0,
  "metadata": {
    "colab": {
      "name": "Setup.ipynb",
      "provenance": [],
      "toc_visible": true,
      "mount_file_id": "1mJ2X8TpwzR3rSsftsZG-0Jt-7GxeRdo0",
      "authorship_tag": "ABX9TyMPAzGOJ0mglSpECW/d9vs7",
      "include_colab_link": true
    },
    "kernelspec": {
      "name": "python3",
      "display_name": "Python 3"
    },
    "language_info": {
      "name": "python"
    }
  },
  "cells": [
    {
      "cell_type": "markdown",
      "metadata": {
        "id": "view-in-github",
        "colab_type": "text"
      },
      "source": [
        "<a href=\"https://colab.research.google.com/github/aaroncdvd/HRBS-CA_Python_AI/blob/main/Setup.ipynb\" target=\"_parent\"><img src=\"https://colab.research.google.com/assets/colab-badge.svg\" alt=\"Open In Colab\"/></a>"
      ]
    },
    {
      "cell_type": "markdown",
      "metadata": {
        "id": "U2QQKrwd-Jy4"
      },
      "source": [
        "# update course files "
      ]
    },
    {
      "cell_type": "code",
      "metadata": {
        "colab": {
          "base_uri": "https://localhost:8080/"
        },
        "id": "nEGW9m0WqQJY",
        "outputId": "057d21af-d33f-4371-ab9d-4519808f02aa"
      },
      "source": [
        "from google.colab import drive\n",
        "drive.mount('/content/drive')"
      ],
      "execution_count": 104,
      "outputs": [
        {
          "output_type": "stream",
          "text": [
            "Drive already mounted at /content/drive; to attempt to forcibly remount, call drive.mount(\"/content/drive\", force_remount=True).\n"
          ],
          "name": "stdout"
        }
      ]
    },
    {
      "cell_type": "code",
      "metadata": {
        "id": "Dw_mtBzwmCyd"
      },
      "source": [
        "!rm -rf '/content/drive/MyDrive/Colab Notebooks/HRBS-CA_Python_AI'"
      ],
      "execution_count": 101,
      "outputs": []
    },
    {
      "cell_type": "code",
      "metadata": {
        "id": "hrrC4Hhuo237"
      },
      "source": [
        "mkdir -p '/content/drive/MyDrive/Colab Notebooks/HRBS-CA_Python_AI'"
      ],
      "execution_count": 102,
      "outputs": []
    },
    {
      "cell_type": "code",
      "metadata": {
        "colab": {
          "base_uri": "https://localhost:8080/"
        },
        "id": "vJTfGV_id1RC",
        "outputId": "85da8c27-3010-48db-90bd-76033078e916"
      },
      "source": [
        "pip install GitPython"
      ],
      "execution_count": 103,
      "outputs": [
        {
          "output_type": "stream",
          "text": [
            "Requirement already satisfied: GitPython in /usr/local/lib/python3.7/dist-packages (3.1.14)\n",
            "Requirement already satisfied: gitdb<5,>=4.0.1 in /usr/local/lib/python3.7/dist-packages (from GitPython) (4.0.5)\n",
            "Requirement already satisfied: smmap<4,>=3.0.1 in /usr/local/lib/python3.7/dist-packages (from gitdb<5,>=4.0.1->GitPython) (3.0.5)\n"
          ],
          "name": "stdout"
        }
      ]
    },
    {
      "cell_type": "code",
      "metadata": {
        "colab": {
          "base_uri": "https://localhost:8080/"
        },
        "id": "VNLpsqhVdW2w",
        "outputId": "9696022b-dcca-4c99-9a30-b72cc3e5c393"
      },
      "source": [
        "from git import Repo\n",
        "git_url = \"https://github.com/aaroncdvd/HRBS-CA_Python_AI.git\"\n",
        "repo_dir = \"/content/drive/MyDrive/Colab Notebooks/HRBS-CA_Python_AI\"\n",
        "Repo.clone_from(git_url, repo_dir)"
      ],
      "execution_count": 105,
      "outputs": [
        {
          "output_type": "execute_result",
          "data": {
            "text/plain": [
              "<git.repo.base.Repo '/content/drive/MyDrive/Colab Notebooks/HRBS-CA_Python_AI/.git'>"
            ]
          },
          "metadata": {
            "tags": []
          },
          "execution_count": 105
        }
      ]
    }
  ]
}
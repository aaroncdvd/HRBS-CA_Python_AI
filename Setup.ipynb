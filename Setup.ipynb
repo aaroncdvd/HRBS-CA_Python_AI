{
  "nbformat": 4,
  "nbformat_minor": 0,
  "metadata": {
    "colab": {
      "name": "Setup.ipynb",
      "provenance": [],
      "toc_visible": true,
      "mount_file_id": "1mJ2X8TpwzR3rSsftsZG-0Jt-7GxeRdo0",
      "authorship_tag": "ABX9TyO7KkNApG3mdvZHEgX1I0Q3",
      "include_colab_link": true
    },
    "kernelspec": {
      "name": "python3",
      "display_name": "Python 3"
    },
    "language_info": {
      "name": "python"
    }
  },
  "cells": [
    {
      "cell_type": "markdown",
      "metadata": {
        "id": "view-in-github",
        "colab_type": "text"
      },
      "source": [
        "<a href=\"https://colab.research.google.com/github/aaroncdvd/HRBS-CA_Python_AI/blob/main/Setup.ipynb\" target=\"_parent\"><img src=\"https://colab.research.google.com/assets/colab-badge.svg\" alt=\"Open In Colab\"/></a>"
      ]
    },
    {
      "cell_type": "code",
      "metadata": {
        "colab": {
          "base_uri": "https://localhost:8080/"
        },
        "id": "wr7yxiSd9j4w",
        "outputId": "89ff4fd7-a12c-4023-b715-8075528e3146"
      },
      "source": [
        "print('hello world')"
      ],
      "execution_count": 3,
      "outputs": [
        {
          "output_type": "stream",
          "text": [
            "hello world\n"
          ],
          "name": "stdout"
        }
      ]
    },
    {
      "cell_type": "markdown",
      "metadata": {
        "id": "ZGR1md24rKSa"
      },
      "source": [
        ""
      ]
    },
    {
      "cell_type": "code",
      "metadata": {
        "colab": {
          "base_uri": "https://localhost:8080/"
        },
        "id": "nEGW9m0WqQJY",
        "outputId": "781bd7f8-8cbf-4ca9-d25b-038c01438a49"
      },
      "source": [
        "from google.colab import drive\n",
        "drive.mount('/content/drive')"
      ],
      "execution_count": null,
      "outputs": [
        {
          "output_type": "stream",
          "text": [
            "Drive already mounted at /content/drive; to attempt to forcibly remount, call drive.mount(\"/content/drive\", force_remount=True).\n"
          ],
          "name": "stdout"
        }
      ]
    },
    {
      "cell_type": "markdown",
      "metadata": {
        "id": "U2QQKrwd-Jy4"
      },
      "source": [
        "# update HRBS-CA_Python_AI course files "
      ]
    },
    {
      "cell_type": "code",
      "metadata": {
        "id": "Dw_mtBzwmCyd"
      },
      "source": [
        "!rm -rf 'HRBS-CA_Python_AI'"
      ],
      "execution_count": 72,
      "outputs": []
    },
    {
      "cell_type": "code",
      "metadata": {
        "id": "hrrC4Hhuo237"
      },
      "source": [
        "mkdir -p 'HRBS-CA_Python_AI'"
      ],
      "execution_count": 73,
      "outputs": []
    },
    {
      "cell_type": "code",
      "metadata": {
        "colab": {
          "base_uri": "https://localhost:8080/"
        },
        "id": "vJTfGV_id1RC",
        "outputId": "7b0fb3b9-f4c7-41b8-e905-7335a268e6d0"
      },
      "source": [
        "pip install GitPython"
      ],
      "execution_count": 74,
      "outputs": [
        {
          "output_type": "stream",
          "text": [
            "Requirement already satisfied: GitPython in /usr/local/lib/python3.7/dist-packages (3.1.14)\n",
            "Requirement already satisfied: gitdb<5,>=4.0.1 in /usr/local/lib/python3.7/dist-packages (from GitPython) (4.0.5)\n",
            "Requirement already satisfied: smmap<4,>=3.0.1 in /usr/local/lib/python3.7/dist-packages (from gitdb<5,>=4.0.1->GitPython) (3.0.5)\n"
          ],
          "name": "stdout"
        }
      ]
    },
    {
      "cell_type": "code",
      "metadata": {
        "colab": {
          "base_uri": "https://localhost:8080/"
        },
        "id": "VNLpsqhVdW2w",
        "outputId": "1d0deb17-b2ab-4aa2-d2f7-3b831dfda558"
      },
      "source": [
        "from git import Repo\n",
        "git_url = \"https://github.com/aaroncdvd/HRBS-CA_Python_AI.git\"\n",
        "repo_dir = \"HRBS-CA_Python_AI\"\n",
        "Repo.clone_from(git_url, repo_dir)"
      ],
      "execution_count": 75,
      "outputs": [
        {
          "output_type": "execute_result",
          "data": {
            "text/plain": [
              "<git.repo.base.Repo '/content/HRBS-CA_Python_AI/.git'>"
            ]
          },
          "metadata": {
            "tags": []
          },
          "execution_count": 75
        }
      ]
    },
    {
      "cell_type": "code",
      "metadata": {
        "colab": {
          "base_uri": "https://localhost:8080/"
        },
        "id": "nUn1zwoahCT8",
        "outputId": "98d22e26-ffc4-4329-e09c-a65b35ae18f7"
      },
      "source": [
        "import os\n",
        "\n",
        "def get_size(start_path = 'drive/MyDrive/data/'):\n",
        "    total_size = 0\n",
        "    for dirpath, dirnames, filenames in os.walk(start_path):\n",
        "        for f in filenames:\n",
        "            fp = os.path.join(dirpath, f)\n",
        "            # skip if it is symbolic link\n",
        "            if not os.path.islink(fp):\n",
        "                total_size += os.path.getsize(fp)\n",
        "\n",
        "    return total_size\n",
        "\n",
        "print(get_size()/1024/1024, 'Mbytes')"
      ],
      "execution_count": 76,
      "outputs": [
        {
          "output_type": "stream",
          "text": [
            "1299.4707288742065 Mbytes\n"
          ],
          "name": "stdout"
        }
      ]
    }
  ]
}
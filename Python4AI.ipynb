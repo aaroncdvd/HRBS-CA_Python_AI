{
  "nbformat": 4,
  "nbformat_minor": 0,
  "metadata": {
    "colab": {
      "name": "Python4AI.ipynb",
      "provenance": [],
      "collapsed_sections": [
        "U2QQKrwd-Jy4",
        "uQ1OLiMezFUA"
      ],
      "toc_visible": true,
      "mount_file_id": "1Vg9zZDThoFZ74VPdT38Z-S4ACFhvzVwu",
      "authorship_tag": "ABX9TyPFQ4HpOt6A0p/wU/2gOfe/",
      "include_colab_link": true
    },
    "kernelspec": {
      "name": "python3",
      "display_name": "Python 3"
    },
    "language_info": {
      "name": "python"
    }
  },
  "cells": [
    {
      "cell_type": "markdown",
      "metadata": {
        "id": "view-in-github",
        "colab_type": "text"
      },
      "source": [
        "<a href=\"https://colab.research.google.com/github/aaroncdvd/HRBS-CA_Python_AI/blob/main/Python4AI.ipynb\" target=\"_parent\"><img src=\"https://colab.research.google.com/assets/colab-badge.svg\" alt=\"Open In Colab\"/></a>"
      ]
    },
    {
      "cell_type": "markdown",
      "metadata": {
        "id": "U2QQKrwd-Jy4"
      },
      "source": [
        "### load course files "
      ]
    },
    {
      "cell_type": "code",
      "metadata": {
        "colab": {
          "base_uri": "https://localhost:8080/"
        },
        "id": "nEGW9m0WqQJY",
        "outputId": "aec40260-1a04-471d-b09a-2ecc86114cbc"
      },
      "source": [
        "from google.colab import drive\n",
        "drive.mount('/content/drive')"
      ],
      "execution_count": 78,
      "outputs": [
        {
          "output_type": "stream",
          "text": [
            "Drive already mounted at /content/drive; to attempt to forcibly remount, call drive.mount(\"/content/drive\", force_remount=True).\n"
          ],
          "name": "stdout"
        }
      ]
    },
    {
      "cell_type": "code",
      "metadata": {
        "id": "Dw_mtBzwmCyd"
      },
      "source": [
        "!rm -rf '/content/drive/MyDrive/Colab Notebooks/HRBS-CA_Python_AI'"
      ],
      "execution_count": 79,
      "outputs": []
    },
    {
      "cell_type": "code",
      "metadata": {
        "id": "hrrC4Hhuo237"
      },
      "source": [
        "mkdir -p '/content/drive/MyDrive/Colab Notebooks/HRBS-CA_Python_AI/'"
      ],
      "execution_count": 80,
      "outputs": []
    },
    {
      "cell_type": "code",
      "metadata": {
        "colab": {
          "base_uri": "https://localhost:8080/"
        },
        "id": "vJTfGV_id1RC",
        "outputId": "123f3f06-c3a0-415e-ac59-7c48648e435c"
      },
      "source": [
        "pip install GitPython"
      ],
      "execution_count": 81,
      "outputs": [
        {
          "output_type": "stream",
          "text": [
            "Requirement already satisfied: GitPython in /usr/local/lib/python3.7/dist-packages (3.1.14)\n",
            "Requirement already satisfied: gitdb<5,>=4.0.1 in /usr/local/lib/python3.7/dist-packages (from GitPython) (4.0.5)\n",
            "Requirement already satisfied: smmap<4,>=3.0.1 in /usr/local/lib/python3.7/dist-packages (from gitdb<5,>=4.0.1->GitPython) (3.0.5)\n"
          ],
          "name": "stdout"
        }
      ]
    },
    {
      "cell_type": "code",
      "metadata": {
        "colab": {
          "base_uri": "https://localhost:8080/"
        },
        "id": "VNLpsqhVdW2w",
        "outputId": "1e62769e-0fef-4838-b3c6-66010a4efca0"
      },
      "source": [
        "from git import Repo\n",
        "git_url = \"https://github.com/aaroncdvd/HRBS-CA_Python_AI.git\"\n",
        "repo_dir = \"/content/drive/MyDrive/Colab Notebooks/HRBS-CA_Python_AI\"\n",
        "Repo.clone_from(git_url, repo_dir)"
      ],
      "execution_count": 82,
      "outputs": [
        {
          "output_type": "execute_result",
          "data": {
            "text/plain": [
              "<git.repo.base.Repo '/content/drive/MyDrive/Colab Notebooks/HRBS-CA_Python_AI/.git'>"
            ]
          },
          "metadata": {
            "tags": []
          },
          "execution_count": 82
        }
      ]
    },
    {
      "cell_type": "markdown",
      "metadata": {
        "id": "uQ1OLiMezFUA"
      },
      "source": [
        "# Class 1 March 24 2021"
      ]
    },
    {
      "cell_type": "markdown",
      "metadata": {
        "id": "OcuMYnepzKyz"
      },
      "source": [
        "1. Make Google Accounts, Cloud and Colab Intro\n",
        "2. Python\n",
        "3. Example"
      ]
    },
    {
      "cell_type": "markdown",
      "metadata": {
        "id": "AIvjkzyh3Uqc"
      },
      "source": [
        "## [>](https://jupyter.brynmawr.edu/services/public/dblank/CS245%20Programming%20Languages/2016-Fall/Labs/Chapter%2002%20-%20Introduction%20to%20Python.ipynb) **PYTHON** "
      ]
    },
    {
      "cell_type": "markdown",
      "metadata": {
        "id": "R-WdHvrF3Uqc"
      },
      "source": [
        "Python is a programming language that has been under development for over 25 years.\n",
        "\n",
        "This Chapter will not cover everything in Python. If you would like, please consider the following resources:\n",
        "\n",
        "**Getting Started with Python**:\n",
        "\n",
        "* https://www.codecademy.com/learn/python\n",
        "* http://docs.python-guide.org/en/latest/intro/learning/\n",
        "* https://learnpythonthehardway.org/book/\n",
        "* https://www.codementor.io/learn-python-online\n",
        "* https://websitesetup.org/python-cheat-sheet/\n",
        "\n",
        "**Learning Python in Notebooks**:\n",
        "\n",
        "* http://mbakker7.github.io/exploratory_computing_with_python/\n",
        "\n",
        "This is handy to always have available for reference:\n",
        "\n",
        "**Python Reference**:\n",
        "\n",
        "* https://docs.python.org/3.5/reference/\n"
      ]
    },
    {
      "cell_type": "markdown",
      "metadata": {
        "id": "EJcvRAzm3Uqd"
      },
      "source": [
        "* Numbers\n",
        "  * integers\n",
        "  * floating-point\n",
        "  * complex numbers\n",
        "* strings\n",
        "* boolean values\n",
        "* lists and dicts"
      ]
    },
    {
      "cell_type": "markdown",
      "metadata": {
        "id": "ULY_dtAm3Uqd"
      },
      "source": [
        "#### Numbers"
      ]
    },
    {
      "cell_type": "code",
      "metadata": {
        "colab": {
          "base_uri": "https://localhost:8080/"
        },
        "id": "q6_NRewL3Uqd",
        "outputId": "70dd43cf-df20-4d74-eeea-742094c1a89b"
      },
      "source": [
        "number=1\n",
        "print(number)"
      ],
      "execution_count": 108,
      "outputs": [
        {
          "output_type": "stream",
          "text": [
            "1\n"
          ],
          "name": "stdout"
        }
      ]
    },
    {
      "cell_type": "markdown",
      "metadata": {
        "id": "Djerd8fU3Uqe"
      },
      "source": [
        "#### Strings"
      ]
    },
    {
      "cell_type": "code",
      "metadata": {
        "colab": {
          "base_uri": "https://localhost:8080/"
        },
        "id": "wlPHPhzS3Uqe",
        "outputId": "85a20d18-2d02-4932-83b1-e8fb71641ff0"
      },
      "source": [
        "fruit = 'apple'\n",
        "print(fruit)"
      ],
      "execution_count": 109,
      "outputs": [
        {
          "output_type": "stream",
          "text": [
            "apple\n"
          ],
          "name": "stdout"
        }
      ]
    },
    {
      "cell_type": "markdown",
      "metadata": {
        "id": "U-Ot4Ytx3Uqf"
      },
      "source": [
        "#### Boolean Values"
      ]
    },
    {
      "cell_type": "code",
      "metadata": {
        "colab": {
          "base_uri": "https://localhost:8080/"
        },
        "id": "5KdPk9lq3Uqf",
        "outputId": "0ba843c8-1301-46a7-c993-ca02da3a3418"
      },
      "source": [
        "this = True\n",
        "print(this)"
      ],
      "execution_count": 110,
      "outputs": [
        {
          "output_type": "stream",
          "text": [
            "True\n"
          ],
          "name": "stdout"
        }
      ]
    },
    {
      "cell_type": "code",
      "metadata": {
        "colab": {
          "base_uri": "https://localhost:8080/"
        },
        "id": "Y8OXjMQp3Uqf",
        "outputId": "3c6f68a8-92f4-419e-f194-e05279278968"
      },
      "source": [
        "that = True\n",
        "print(that)"
      ],
      "execution_count": 111,
      "outputs": [
        {
          "output_type": "stream",
          "text": [
            "True\n"
          ],
          "name": "stdout"
        }
      ]
    },
    {
      "cell_type": "code",
      "metadata": {
        "colab": {
          "base_uri": "https://localhost:8080/"
        },
        "id": "JGbAJCDf6fMN",
        "outputId": "c2a52128-551f-4b31-a01f-a44bf9b82684"
      },
      "source": [
        "if this == that: \n",
        "  print('equal') \n",
        "else: \n",
        "  print('not equal')"
      ],
      "execution_count": 112,
      "outputs": [
        {
          "output_type": "stream",
          "text": [
            "equal\n"
          ],
          "name": "stdout"
        }
      ]
    },
    {
      "cell_type": "markdown",
      "metadata": {
        "id": "q5gUTgzw3Uqf"
      },
      "source": [
        "#### Lists and Dicts"
      ]
    },
    {
      "cell_type": "markdown",
      "metadata": {
        "id": "QLfKbqwJ3Uqf"
      },
      "source": [
        "Python has three very useful data structures built into the language:\n",
        "\n",
        "* dictionaries (hash tables): {}\n",
        "* lists: []\n",
        "* tuples: (item, ...)\n",
        "\n",
        "List is a mutable list of items. Tuple is a read-only data structure (immutable)."
      ]
    },
    {
      "cell_type": "code",
      "metadata": {
        "colab": {
          "base_uri": "https://localhost:8080/"
        },
        "id": "F24eFsNd3Uqf",
        "outputId": "8430c7b6-9d5d-4e2a-c1de-9e22ef311ac1"
      },
      "source": [
        "[1, 2, 3]"
      ],
      "execution_count": 113,
      "outputs": [
        {
          "output_type": "execute_result",
          "data": {
            "text/plain": [
              "[1, 2, 3]"
            ]
          },
          "metadata": {
            "tags": []
          },
          "execution_count": 113
        }
      ]
    },
    {
      "cell_type": "code",
      "metadata": {
        "colab": {
          "base_uri": "https://localhost:8080/",
          "height": 36
        },
        "id": "Fg-TbQYr3Uqg",
        "outputId": "63e4ab43-5cfa-4bcd-9448-f2090bb8ddff"
      },
      "source": [
        "{\"apple\": \"a fruit\", \"banana\": \"an herb\", \"monkey\": \"a mammal\"}[\"apple\"]"
      ],
      "execution_count": 114,
      "outputs": [
        {
          "output_type": "execute_result",
          "data": {
            "application/vnd.google.colaboratory.intrinsic+json": {
              "type": "string"
            },
            "text/plain": [
              "'a fruit'"
            ]
          },
          "metadata": {
            "tags": []
          },
          "execution_count": 114
        }
      ]
    },
    {
      "cell_type": "markdown",
      "metadata": {
        "id": "_JHiEbZF3Uqg"
      },
      "source": [
        "#### Functions"
      ]
    },
    {
      "cell_type": "markdown",
      "metadata": {
        "id": "2OE3BNur3Uqg"
      },
      "source": [
        "There are two ways to call functions in Python:\n",
        "\n",
        "1. by pre-defined infix operator name\n",
        "2. by function name, followed by parentheses\n",
        "\n",
        "Infix operator name:"
      ]
    },
    {
      "cell_type": "code",
      "metadata": {
        "colab": {
          "base_uri": "https://localhost:8080/"
        },
        "id": "_fnKE55U3Uqg",
        "outputId": "a2233bf2-a467-4e34-b840-2417b5c7ea5b"
      },
      "source": [
        "1 + 2"
      ],
      "execution_count": 115,
      "outputs": [
        {
          "output_type": "execute_result",
          "data": {
            "text/plain": [
              "3"
            ]
          },
          "metadata": {
            "tags": []
          },
          "execution_count": 115
        }
      ]
    },
    {
      "cell_type": "code",
      "metadata": {
        "colab": {
          "base_uri": "https://localhost:8080/"
        },
        "id": "3pspj-TD3Uqg",
        "outputId": "83d131b5-2882-4203-d4ba-9f5aa1bd17cd"
      },
      "source": [
        "abs(-1)"
      ],
      "execution_count": 116,
      "outputs": [
        {
          "output_type": "execute_result",
          "data": {
            "text/plain": [
              "1"
            ]
          },
          "metadata": {
            "tags": []
          },
          "execution_count": 116
        }
      ]
    },
    {
      "cell_type": "code",
      "metadata": {
        "collapsed": true,
        "id": "192GUo1D3Uqg"
      },
      "source": [
        "import operator"
      ],
      "execution_count": 117,
      "outputs": []
    },
    {
      "cell_type": "code",
      "metadata": {
        "colab": {
          "base_uri": "https://localhost:8080/"
        },
        "id": "H63IJRcn3Uqg",
        "outputId": "a0e19ba4-39b3-4c6a-d407-0df3537a87b1"
      },
      "source": [
        "operator.add(1, 2)"
      ],
      "execution_count": 118,
      "outputs": [
        {
          "output_type": "execute_result",
          "data": {
            "text/plain": [
              "3"
            ]
          },
          "metadata": {
            "tags": []
          },
          "execution_count": 118
        }
      ]
    },
    {
      "cell_type": "markdown",
      "metadata": {
        "id": "kdljnODx3Uqh"
      },
      "source": [
        "Evaluating and display result as an Out, versus evaluating and printing result (side-effect)."
      ]
    },
    {
      "cell_type": "code",
      "metadata": {
        "colab": {
          "base_uri": "https://localhost:8080/"
        },
        "id": "CAN59DmL3Uqh",
        "outputId": "e0bbbc7a-24ca-49b6-95ce-dc9324287557"
      },
      "source": [
        "print(1)"
      ],
      "execution_count": 119,
      "outputs": [
        {
          "output_type": "stream",
          "text": [
            "1\n"
          ],
          "name": "stdout"
        }
      ]
    },
    {
      "cell_type": "code",
      "metadata": {
        "collapsed": true,
        "id": "vx9c7MMh3Uqh"
      },
      "source": [
        "def plus(a, b):\n",
        "    return a + b"
      ],
      "execution_count": 120,
      "outputs": []
    },
    {
      "cell_type": "code",
      "metadata": {
        "colab": {
          "base_uri": "https://localhost:8080/"
        },
        "id": "qPGb-Heb3Uqh",
        "outputId": "bdecf381-2cb0-46dc-fa7f-3702438c75d1"
      },
      "source": [
        "plus(3, 4)"
      ],
      "execution_count": 121,
      "outputs": [
        {
          "output_type": "execute_result",
          "data": {
            "text/plain": [
              "7"
            ]
          },
          "metadata": {
            "tags": []
          },
          "execution_count": 121
        }
      ]
    },
    {
      "cell_type": "code",
      "metadata": {
        "collapsed": true,
        "id": "s5uNn9ms3Uqh"
      },
      "source": [
        "def plus2(a, b):\n",
        "    a + b"
      ],
      "execution_count": 122,
      "outputs": []
    },
    {
      "cell_type": "code",
      "metadata": {
        "collapsed": true,
        "id": "5QffMf8R3Uqh"
      },
      "source": [
        "plus2(3, 4)"
      ],
      "execution_count": 123,
      "outputs": []
    },
    {
      "cell_type": "markdown",
      "metadata": {
        "id": "qSqgvD-Z3Uqi"
      },
      "source": [
        "What happened? All functions return *something*, even if you don't specify it. If you don't specify a return value, then it will default to returning `None`."
      ]
    },
    {
      "cell_type": "code",
      "metadata": {
        "id": "JOvsknN53Uqi"
      },
      "source": [
        "#\"a\" + 1"
      ],
      "execution_count": 124,
      "outputs": []
    },
    {
      "cell_type": "markdown",
      "metadata": {
        "id": "9ahY93Ao3Uqi"
      },
      "source": [
        "<div style=\"background-color: lightgrey\">\n",
        "<h2>How to Read Python Error Messages</h2>\n",
        "\n",
        "<p>\n",
        "Python error messages \n",
        "<p>\n",
        "<tt>TypeError: Can't convert 'int' object to str implicitly</tt>\n",
        "</p>\n",
        "\n",
        "<p>Above the error message is the \"traceback\" also called the \"call stack\". This is a representation of the sequence of procedure calls that lead to the error. If the procedure call originated from code from a file, the filename would be listed after the word \"File\" on each line. If the procedure call originated from a notebook cell, then the word \"ipython-input-#-HEX\".\n",
        "</p>\n",
        "</div>"
      ]
    },
    {
      "cell_type": "markdown",
      "metadata": {
        "id": "YaJfn3dz3Uqn"
      },
      "source": [
        "#### Libraries"
      ]
    },
    {
      "cell_type": "code",
      "metadata": {
        "collapsed": true,
        "id": "incDKhft3Uqo"
      },
      "source": [
        "import matplotlib.pyplot as plt"
      ],
      "execution_count": 125,
      "outputs": []
    },
    {
      "cell_type": "markdown",
      "metadata": {
        "id": "lshTUpF13Uqo"
      },
      "source": [
        "Python has many, many libraries. We will use a few over the course of the semester.\n",
        "\n",
        "To create a simple line plot, just give a list of y-values to the function plt.plot()."
      ]
    },
    {
      "cell_type": "code",
      "metadata": {
        "collapsed": true,
        "colab": {
          "base_uri": "https://localhost:8080/",
          "height": 283
        },
        "id": "_be8E6403Uqo",
        "outputId": "a877ef28-a46d-454a-b17e-52bd4a552d26"
      },
      "source": [
        "plt.plot([5, 8, 2, 6, 1, 8, 2, 3, 4, 5, 6])"
      ],
      "execution_count": 126,
      "outputs": [
        {
          "output_type": "execute_result",
          "data": {
            "text/plain": [
              "[<matplotlib.lines.Line2D at 0x7f58c40f8210>]"
            ]
          },
          "metadata": {
            "tags": []
          },
          "execution_count": 126
        },
        {
          "output_type": "display_data",
          "data": {
            "image/png": "[encoded data removed]",
            "text/plain": [
              "<Figure size 432x288 with 1 Axes>"
            ]
          },
          "metadata": {
            "tags": [],
            "needs_background": "light"
          }
        }
      ]
    },
    {
      "cell_type": "markdown",
      "metadata": {
        "id": "N7zKmHAt-YMD"
      },
      "source": [
        "## [>](https://ipython-books.github.io/74-estimating-the-correlation-between-two-variables-with-a-contingency-table-and-a-chi-squared-test/) **EXAMPLE** "
      ]
    },
    {
      "cell_type": "markdown",
      "metadata": {
        "id": "bcAxNXoT_0m-"
      },
      "source": [
        "####Import Data"
      ]
    },
    {
      "cell_type": "code",
      "metadata": {
        "colab": {
          "base_uri": "https://localhost:8080/"
        },
        "id": "hOpaolNV-Uko",
        "outputId": "c8cff681-91db-4109-ce14-d9c96ad55706"
      },
      "source": [
        "import numpy as np\n",
        "import pandas as pd\n",
        "import scipy.stats as st\n",
        "import matplotlib.pyplot as plt\n",
        "%matplotlib inline\n",
        "\n",
        "player = 'Roger Federer'\n",
        "df = pd.read_csv('https://github.com/ipython-books/'\n",
        "                 'cookbook-2nd-data/blob/master/'\n",
        "                 'federer.csv?raw=true',\n",
        "                 parse_dates=['start date'],\n",
        "                 dayfirst=True)\n",
        "print(df)"
      ],
      "execution_count": 127,
      "outputs": [
        {
          "output_type": "stream",
          "text": [
            "      year  ... player2 total points total\n",
            "0     1998  ...                      103.0\n",
            "1     1998  ...                      106.0\n",
            "2     1998  ...                      148.0\n",
            "3     1998  ...                      130.0\n",
            "4     1998  ...                        NaN\n",
            "...    ...  ...                        ...\n",
            "1174  2012  ...                      276.0\n",
            "1175  2012  ...                       86.0\n",
            "1176  2012  ...                       99.0\n",
            "1177  2012  ...                      173.0\n",
            "1178  2012  ...                        NaN\n",
            "\n",
            "[1179 rows x 70 columns]\n"
          ],
          "name": "stdout"
        }
      ]
    },
    {
      "cell_type": "markdown",
      "metadata": {
        "id": "mcHqx80w_252"
      },
      "source": [
        "####View"
      ]
    },
    {
      "cell_type": "code",
      "metadata": {
        "colab": {
          "base_uri": "https://localhost:8080/",
          "height": 217
        },
        "id": "1iI_ioXW-WUA",
        "outputId": "c7ca815a-1bea-4a4e-e529-dc75ed49af3f"
      },
      "source": [
        "print(f\"Number of columns: {len(df.columns)}\")\n",
        "df[df.columns[:4]].tail()"
      ],
      "execution_count": 128,
      "outputs": [
        {
          "output_type": "stream",
          "text": [
            "Number of columns: 70\n"
          ],
          "name": "stdout"
        },
        {
          "output_type": "execute_result",
          "data": {
            "text/html": [
              "<div>\n",
              "<style scoped>\n",
              "    .dataframe tbody tr th:only-of-type {\n",
              "        vertical-align: middle;\n",
              "    }\n",
              "\n",
              "    .dataframe tbody tr th {\n",
              "        vertical-align: top;\n",
              "    }\n",
              "\n",
              "    .dataframe thead th {\n",
              "        text-align: right;\n",
              "    }\n",
              "</style>\n",
              "<table border=\"1\" class=\"dataframe\">\n",
              "  <thead>\n",
              "    <tr style=\"text-align: right;\">\n",
              "      <th></th>\n",
              "      <th>year</th>\n",
              "      <th>tournament</th>\n",
              "      <th>start date</th>\n",
              "      <th>type</th>\n",
              "    </tr>\n",
              "  </thead>\n",
              "  <tbody>\n",
              "    <tr>\n",
              "      <th>1174</th>\n",
              "      <td>2012</td>\n",
              "      <td>Australian Open, Australia</td>\n",
              "      <td>2012-01-16</td>\n",
              "      <td>GS</td>\n",
              "    </tr>\n",
              "    <tr>\n",
              "      <th>1175</th>\n",
              "      <td>2012</td>\n",
              "      <td>Doha, Qatar</td>\n",
              "      <td>2012-01-02</td>\n",
              "      <td>250</td>\n",
              "    </tr>\n",
              "    <tr>\n",
              "      <th>1176</th>\n",
              "      <td>2012</td>\n",
              "      <td>Doha, Qatar</td>\n",
              "      <td>2012-01-02</td>\n",
              "      <td>250</td>\n",
              "    </tr>\n",
              "    <tr>\n",
              "      <th>1177</th>\n",
              "      <td>2012</td>\n",
              "      <td>Doha, Qatar</td>\n",
              "      <td>2012-01-02</td>\n",
              "      <td>250</td>\n",
              "    </tr>\n",
              "    <tr>\n",
              "      <th>1178</th>\n",
              "      <td>2012</td>\n",
              "      <td>Doha, Qatar</td>\n",
              "      <td>2012-01-02</td>\n",
              "      <td>250</td>\n",
              "    </tr>\n",
              "  </tbody>\n",
              "</table>\n",
              "</div>"
            ],
            "text/plain": [
              "      year                  tournament start date type\n",
              "1174  2012  Australian Open, Australia 2012-01-16   GS\n",
              "1175  2012                 Doha, Qatar 2012-01-02  250\n",
              "1176  2012                 Doha, Qatar 2012-01-02  250\n",
              "1177  2012                 Doha, Qatar 2012-01-02  250\n",
              "1178  2012                 Doha, Qatar 2012-01-02  250"
            ]
          },
          "metadata": {
            "tags": []
          },
          "execution_count": 128
        }
      ]
    },
    {
      "cell_type": "markdown",
      "metadata": {
        "id": "RpEvSWWS_6ad"
      },
      "source": [
        "#### Transform"
      ]
    },
    {
      "cell_type": "code",
      "metadata": {
        "colab": {
          "base_uri": "https://localhost:8080/"
        },
        "id": "ay73ex5E-WnE",
        "outputId": "f08183ed-03ed-42d2-a1bd-0097929049c6"
      },
      "source": [
        "npoints = df['player1 total points total']\n",
        "points = df['player1 total points won'] / npoints\n",
        "aces = df['player1 aces'] / npoints\n",
        "print(npoints,points,aces)"
      ],
      "execution_count": 129,
      "outputs": [
        {
          "output_type": "stream",
          "text": [
            "0       103.0\n",
            "1       106.0\n",
            "2       148.0\n",
            "3       130.0\n",
            "4         NaN\n",
            "        ...  \n",
            "1174    276.0\n",
            "1175     86.0\n",
            "1176     99.0\n",
            "1177    173.0\n",
            "1178      NaN\n",
            "Name: player1 total points total, Length: 1179, dtype: float64 0       0.398058\n",
            "1       0.613208\n",
            "2       0.533784\n",
            "3       0.461538\n",
            "4            NaN\n",
            "          ...   \n",
            "1174    0.471014\n",
            "1175    0.639535\n",
            "1176    0.606061\n",
            "1177    0.531792\n",
            "1178         NaN\n",
            "Length: 1179, dtype: float64 0       0.038835\n",
            "1       0.075472\n",
            "2       0.054054\n",
            "3       0.023077\n",
            "4            NaN\n",
            "          ...   \n",
            "1174    0.039855\n",
            "1175    0.046512\n",
            "1176    0.020202\n",
            "1177    0.069364\n",
            "1178         NaN\n",
            "Length: 1179, dtype: float64\n"
          ],
          "name": "stdout"
        }
      ]
    },
    {
      "cell_type": "markdown",
      "metadata": {
        "id": "bimMGXyI_-ZM"
      },
      "source": [
        "#### Visualize"
      ]
    },
    {
      "cell_type": "code",
      "metadata": {
        "colab": {
          "base_uri": "https://localhost:8080/",
          "height": 284
        },
        "id": "SQXUCqC_-W37",
        "outputId": "3ab20cc6-a616-43f0-a76e-d50e8609085c"
      },
      "source": [
        "fig, ax = plt.subplots(1, 1)\n",
        "ax.plot(points, aces, '.')"
      ],
      "execution_count": 130,
      "outputs": [
        {
          "output_type": "execute_result",
          "data": {
            "text/plain": [
              "[<matplotlib.lines.Line2D at 0x7f58c41e54d0>]"
            ]
          },
          "metadata": {
            "tags": []
          },
          "execution_count": 130
        },
        {
          "output_type": "display_data",
          "data": {
            "image/png": "[encoded data removed]",
            "text/plain": [
              "<Figure size 432x288 with 1 Axes>"
            ]
          },
          "metadata": {
            "tags": [],
            "needs_background": "light"
          }
        }
      ]
    },
    {
      "cell_type": "code",
      "metadata": {
        "colab": {
          "base_uri": "https://localhost:8080/",
          "height": 298
        },
        "id": "TpBkCoes_dZx",
        "outputId": "255dd765-f0f9-48d1-fb7f-397e90bce892"
      },
      "source": [
        "fig, ax = plt.subplots(1, 1)\n",
        "ax.plot(points, aces, '.')\n",
        "ax.set_xlabel('% of points won')\n",
        "ax.set_ylabel('% of aces')"
      ],
      "execution_count": 131,
      "outputs": [
        {
          "output_type": "execute_result",
          "data": {
            "text/plain": [
              "Text(0, 0.5, '% of aces')"
            ]
          },
          "metadata": {
            "tags": []
          },
          "execution_count": 131
        },
        {
          "output_type": "display_data",
          "data": {
            "image/png": "[encoded data removed]",
            "text/plain": [
              "<Figure size 432x288 with 1 Axes>"
            ]
          },
          "metadata": {
            "tags": [],
            "needs_background": "light"
          }
        }
      ]
    },
    {
      "cell_type": "code",
      "metadata": {
        "colab": {
          "base_uri": "https://localhost:8080/",
          "height": 297
        },
        "id": "ojnVorjy_h6-",
        "outputId": "dbc3d267-37dc-4bf4-c614-321381ffd1ee"
      },
      "source": [
        "fig, ax = plt.subplots(1, 1)\n",
        "ax.plot(points, aces, '.')\n",
        "ax.set_xlabel('% of points won')\n",
        "ax.set_ylabel('% of aces')\n",
        "ax.set_xlim(0., 1.)\n",
        "ax.set_ylim(0.)"
      ],
      "execution_count": 132,
      "outputs": [
        {
          "output_type": "execute_result",
          "data": {
            "text/plain": [
              "(0.0, 0.1629310344827586)"
            ]
          },
          "metadata": {
            "tags": []
          },
          "execution_count": 132
        },
        {
          "output_type": "display_data",
          "data": {
            "image/png": "[encoded data removed]",
            "text/plain": [
              "<Figure size 432x288 with 1 Axes>"
            ]
          },
          "metadata": {
            "tags": [],
            "needs_background": "light"
          }
        }
      ]
    }
  ]
}
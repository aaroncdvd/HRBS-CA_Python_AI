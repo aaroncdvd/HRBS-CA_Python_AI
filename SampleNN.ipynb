{
  "nbformat": 4,
  "nbformat_minor": 0,
  "metadata": {
    "colab": {
      "name": "SampleNN.ipynb",
      "provenance": [],
      "collapsed_sections": [
        "C70qYdSAWo--"
      ],
      "authorship_tag": "ABX9TyPAXskojQ/cMPLOQcwBymX0",
      "include_colab_link": true
    },
    "kernelspec": {
      "name": "python3",
      "display_name": "Python 3"
    },
    "language_info": {
      "name": "python"
    }
  },
  "cells": [
    {
      "cell_type": "markdown",
      "metadata": {
        "id": "view-in-github",
        "colab_type": "text"
      },
      "source": [
        "<a href=\"https://colab.research.google.com/github/aaroncdvd/HRBS-CA_Python_AI/blob/main/SampleNN.ipynb\" target=\"_parent\"><img src=\"https://colab.research.google.com/assets/colab-badge.svg\" alt=\"Open In Colab\"/></a>"
      ]
    },
    {
      "cell_type": "markdown",
      "metadata": {
        "id": "C70qYdSAWo--"
      },
      "source": [
        "#Sample NN\n",
        "\n",
        "[Click This Link For Sample NN on Google Sheets](https://docs.google.com/spreadsheets/d/1wS7riEg9P9vAzuik7S-TPu1Zk3OgCNgVlWHuoncF8R8/edit?usp=sharing)"
      ]
    },
    {
      "cell_type": "markdown",
      "metadata": {
        "id": "9ZmPiV7jYEEL"
      },
      "source": [
        "[Intro to Matrix Multiply np.dot()](https://towardsdatascience.com/a-complete-beginners-guide-to-matrix-multiplication-for-data-science-with-python-numpy-9274ecfc1dc6)\n",
        "\n",
        "![](https://miro.medium.com/max/1838/1*YGcMQSr0ge_DGn96WnEkZw.png)\n",
        "\n",
        "\n",
        "[Intro to Matrix Transpose np.data.T](https://www.google.com/url?sa=i&url=https%3A%2F%2Fwww.geeksforgeeks.org%2Fpython-program-to-find-transpose-of-a-matrix%2F&psig=AOvVaw2wjWPPPffkOKPzct1y2MqU&ust=1617919820057000&source=images&cd=vfe&ved=0CA0QjhxqFwoTCMjHzJ-T7e8CFQAAAAAdAAAAABAD)\n",
        "\n",
        "![](https://media.geeksforgeeks.org/wp-content/cdn-uploads/matrix-transpose.jpg)"
      ]
    },
    {
      "cell_type": "code",
      "metadata": {
        "id": "c_Jb5-rVrpcC"
      },
      "source": [
        "import numpy as np\n",
        "import pandas as pd"
      ],
      "execution_count": 1,
      "outputs": []
    },
    {
      "cell_type": "code",
      "metadata": {
        "id": "E0K06thAr3VA"
      },
      "source": [
        "inputs = np.array([[0, 1, 0], # input data\n",
        "                   [0, 1, 1],\n",
        "                   [0, 0, 0],\n",
        "                   [1, 0, 0],\n",
        "                   [1, 1, 1],\n",
        "                   [1, 0, 1]])\n",
        "X=pd.DataFrame(inputs)"
      ],
      "execution_count": 2,
      "outputs": []
    },
    {
      "cell_type": "code",
      "metadata": {
        "id": "V8xYhU_bsArB"
      },
      "source": [
        "outputs = np.array([[0], [0], [0], [1], [1], [1]]) # output data\n",
        "y=pd.DataFrame(outputs)"
      ],
      "execution_count": 3,
      "outputs": []
    },
    {
      "cell_type": "code",
      "metadata": {
        "colab": {
          "base_uri": "https://localhost:8080/",
          "height": 228
        },
        "id": "yE7RfrixHwx6",
        "outputId": "9e019651-2e8b-4272-fbe4-8b8904b860da"
      },
      "source": [
        "data=pd.concat([X,y],axis=1)\n",
        "data"
      ],
      "execution_count": 4,
      "outputs": [
        {
          "output_type": "execute_result",
          "data": {
            "text/html": [
              "<div>\n",
              "<style scoped>\n",
              "    .dataframe tbody tr th:only-of-type {\n",
              "        vertical-align: middle;\n",
              "    }\n",
              "\n",
              "    .dataframe tbody tr th {\n",
              "        vertical-align: top;\n",
              "    }\n",
              "\n",
              "    .dataframe thead th {\n",
              "        text-align: right;\n",
              "    }\n",
              "</style>\n",
              "<table border=\"1\" class=\"dataframe\">\n",
              "  <thead>\n",
              "    <tr style=\"text-align: right;\">\n",
              "      <th></th>\n",
              "      <th>0</th>\n",
              "      <th>1</th>\n",
              "      <th>2</th>\n",
              "      <th>0</th>\n",
              "    </tr>\n",
              "  </thead>\n",
              "  <tbody>\n",
              "    <tr>\n",
              "      <th>0</th>\n",
              "      <td>0</td>\n",
              "      <td>1</td>\n",
              "      <td>0</td>\n",
              "      <td>0</td>\n",
              "    </tr>\n",
              "    <tr>\n",
              "      <th>1</th>\n",
              "      <td>0</td>\n",
              "      <td>1</td>\n",
              "      <td>1</td>\n",
              "      <td>0</td>\n",
              "    </tr>\n",
              "    <tr>\n",
              "      <th>2</th>\n",
              "      <td>0</td>\n",
              "      <td>0</td>\n",
              "      <td>0</td>\n",
              "      <td>0</td>\n",
              "    </tr>\n",
              "    <tr>\n",
              "      <th>3</th>\n",
              "      <td>1</td>\n",
              "      <td>0</td>\n",
              "      <td>0</td>\n",
              "      <td>1</td>\n",
              "    </tr>\n",
              "    <tr>\n",
              "      <th>4</th>\n",
              "      <td>1</td>\n",
              "      <td>1</td>\n",
              "      <td>1</td>\n",
              "      <td>1</td>\n",
              "    </tr>\n",
              "    <tr>\n",
              "      <th>5</th>\n",
              "      <td>1</td>\n",
              "      <td>0</td>\n",
              "      <td>1</td>\n",
              "      <td>1</td>\n",
              "    </tr>\n",
              "  </tbody>\n",
              "</table>\n",
              "</div>"
            ],
            "text/plain": [
              "   0  1  2  0\n",
              "0  0  1  0  0\n",
              "1  0  1  1  0\n",
              "2  0  0  0  0\n",
              "3  1  0  0  1\n",
              "4  1  1  1  1\n",
              "5  1  0  1  1"
            ]
          },
          "metadata": {
            "tags": []
          },
          "execution_count": 4
        }
      ]
    },
    {
      "cell_type": "code",
      "metadata": {
        "id": "tPb8jCQ4N21g"
      },
      "source": [
        "weights = np.array([[.50], [.50], [.50]]) # initialize weights as .50 for simplicity\n",
        "error_history = []\n",
        "epoch_list = []\n",
        "epoch = 0"
      ],
      "execution_count": 5,
      "outputs": []
    },
    {
      "cell_type": "code",
      "metadata": {
        "colab": {
          "base_uri": "https://localhost:8080/",
          "height": 138
        },
        "id": "XieNZUuCu63T",
        "outputId": "4e02547c-2e9f-45e0-91f3-84287528d0db"
      },
      "source": [
        "pd.DataFrame(weights)"
      ],
      "execution_count": 6,
      "outputs": [
        {
          "output_type": "execute_result",
          "data": {
            "text/html": [
              "<div>\n",
              "<style scoped>\n",
              "    .dataframe tbody tr th:only-of-type {\n",
              "        vertical-align: middle;\n",
              "    }\n",
              "\n",
              "    .dataframe tbody tr th {\n",
              "        vertical-align: top;\n",
              "    }\n",
              "\n",
              "    .dataframe thead th {\n",
              "        text-align: right;\n",
              "    }\n",
              "</style>\n",
              "<table border=\"1\" class=\"dataframe\">\n",
              "  <thead>\n",
              "    <tr style=\"text-align: right;\">\n",
              "      <th></th>\n",
              "      <th>0</th>\n",
              "    </tr>\n",
              "  </thead>\n",
              "  <tbody>\n",
              "    <tr>\n",
              "      <th>0</th>\n",
              "      <td>0.5</td>\n",
              "    </tr>\n",
              "    <tr>\n",
              "      <th>1</th>\n",
              "      <td>0.5</td>\n",
              "    </tr>\n",
              "    <tr>\n",
              "      <th>2</th>\n",
              "      <td>0.5</td>\n",
              "    </tr>\n",
              "  </tbody>\n",
              "</table>\n",
              "</div>"
            ],
            "text/plain": [
              "     0\n",
              "0  0.5\n",
              "1  0.5\n",
              "2  0.5"
            ]
          },
          "metadata": {
            "tags": []
          },
          "execution_count": 6
        }
      ]
    },
    {
      "cell_type": "code",
      "metadata": {
        "id": "TV4ytnKQRF9z"
      },
      "source": [
        "epoch += 1 # add one to epoch alternative to > for epoch in range(250):\n",
        "hidden = 1/(1+np.exp(-np.dot(inputs, weights))) # make hidden : feed forward\n",
        "\n",
        "error    = outputs - hidden # make error based on the outputs - hidden\n",
        "delta    = error * (hidden*(1-hidden)) # make delta based on error\n",
        "weights += np.dot(inputs.T, delta) # update weights based on delta\n",
        "\n",
        "error_history.append(np.average(np.abs(error))) # add error to error_history\n",
        "epoch_list.append(epoch) # add epoch to epoch_list"
      ],
      "execution_count": 18,
      "outputs": []
    },
    {
      "cell_type": "code",
      "metadata": {
        "colab": {
          "base_uri": "https://localhost:8080/"
        },
        "id": "Ou1x_OCW8Bfe",
        "outputId": "5bc9bc88-363d-454c-a4e5-b7c5e5f1e09f"
      },
      "source": [
        "hidden"
      ],
      "execution_count": 24,
      "outputs": [
        {
          "output_type": "execute_result",
          "data": {
            "text/plain": [
              "array([[0.49631766],\n",
              "       [0.58758688],\n",
              "       [0.5       ],\n",
              "       [0.69533896],\n",
              "       [0.7648036 ],\n",
              "       [0.76744281]])"
            ]
          },
          "metadata": {
            "tags": []
          },
          "execution_count": 24
        }
      ]
    },
    {
      "cell_type": "code",
      "metadata": {
        "colab": {
          "base_uri": "https://localhost:8080/"
        },
        "id": "KDQZdtgk7SEH",
        "outputId": "af8ff3bc-a5f8-4065-b68e-1e8111043db2"
      },
      "source": [
        "error"
      ],
      "execution_count": 20,
      "outputs": [
        {
          "output_type": "execute_result",
          "data": {
            "text/plain": [
              "array([[-0.49631766],\n",
              "       [-0.58758688],\n",
              "       [-0.5       ],\n",
              "       [ 0.30466104],\n",
              "       [ 0.2351964 ],\n",
              "       [ 0.23255719]])"
            ]
          },
          "metadata": {
            "tags": []
          },
          "execution_count": 20
        }
      ]
    },
    {
      "cell_type": "code",
      "metadata": {
        "colab": {
          "base_uri": "https://localhost:8080/"
        },
        "id": "sZxqT4tUxbIu",
        "outputId": "fa53854b-803b-42d1-8369-7a33d2c0146e"
      },
      "source": [
        "delta"
      ],
      "execution_count": 25,
      "outputs": [
        {
          "output_type": "execute_result",
          "data": {
            "text/plain": [
              "array([[-0.12407268],\n",
              "       [-0.14238907],\n",
              "       [-0.125     ],\n",
              "       [ 0.06454021],\n",
              "       [ 0.04230691],\n",
              "       [ 0.04150549]])"
            ]
          },
          "metadata": {
            "tags": []
          },
          "execution_count": 25
        }
      ]
    },
    {
      "cell_type": "code",
      "metadata": {
        "colab": {
          "base_uri": "https://localhost:8080/"
        },
        "id": "To2xaYncARWJ",
        "outputId": "6e377733-86ad-4db2-d073-ca2bceddbd02"
      },
      "source": [
        "weights"
      ],
      "execution_count": 21,
      "outputs": [
        {
          "output_type": "execute_result",
          "data": {
            "text/plain": [
              "array([[ 0.97355223],\n",
              "       [-0.23888448],\n",
              "       [ 0.3101515 ]])"
            ]
          },
          "metadata": {
            "tags": []
          },
          "execution_count": 21
        }
      ]
    },
    {
      "cell_type": "code",
      "metadata": {
        "colab": {
          "base_uri": "https://localhost:8080/"
        },
        "id": "3kdnojBDJluP",
        "outputId": "53d3608a-9325-457f-8945-5563a0f3abc6"
      },
      "source": [
        "error_history"
      ],
      "execution_count": 26,
      "outputs": [
        {
          "output_type": "execute_result",
          "data": {
            "text/plain": [
              "[0.44707092063439274, 0.4193299336210381, 0.3927198606267786]"
            ]
          },
          "metadata": {
            "tags": []
          },
          "execution_count": 26
        }
      ]
    },
    {
      "cell_type": "code",
      "metadata": {
        "colab": {
          "base_uri": "https://localhost:8080/",
          "height": 281
        },
        "id": "em-DCjBwssR-",
        "outputId": "05d09e8d-6ee2-4db9-cec9-be2e244b612d"
      },
      "source": [
        "import matplotlib.pyplot as plt # plot error during training\n",
        "plt.figure(figsize=(15,5)) # plot the error over the entire training duration\n",
        "plt.plot(epoch_list, error_history)\n",
        "plt.xlabel('Epoch')\n",
        "plt.ylabel('Error')\n",
        "plt.show()"
      ],
      "execution_count": 22,
      "outputs": [
        {
          "output_type": "display_data",
          "data": {
            "image/png": "[encoded data removed]",
            "text/plain": [
              "<Figure size 1080x360 with 1 Axes>"
            ]
          },
          "metadata": {
            "tags": [],
            "needs_background": "light"
          }
        }
      ]
    },
    {
      "cell_type": "markdown",
      "metadata": {
        "id": "WQ8yvxalW5bB"
      },
      "source": [
        "##Run 250 Epochs"
      ]
    },
    {
      "cell_type": "code",
      "metadata": {
        "id": "sedGffBAk2jB"
      },
      "source": [
        "for epoch in range(250):\n",
        "  hidden = 1/(1+np.exp(-(np.dot(inputs, weights)))) # flow forward and produce an output\n",
        "  \n",
        "  error    = outputs - hidden # go back though the network to make corrections based on the output\n",
        "  delta    = error * (hidden*(1-hidden))\n",
        "  weights += np.dot(inputs.T, delta)\n",
        "\n",
        "  error_history.append(np.average(np.abs(error))) # keep track of the error history over each epoch\n",
        "  epoch_list.append(epoch)"
      ],
      "execution_count": 27,
      "outputs": []
    },
    {
      "cell_type": "markdown",
      "metadata": {
        "id": "lTil3ajXW-cW"
      },
      "source": [
        "##Make Predictions"
      ]
    },
    {
      "cell_type": "code",
      "metadata": {
        "colab": {
          "base_uri": "https://localhost:8080/"
        },
        "id": "cwJekyTaskiI",
        "outputId": "3f2dfbfb-c156-4f7c-f05e-1f41c4d08db3"
      },
      "source": [
        "example1 = np.array([[1, 1, 0]]) # create new example #1 to predict\n",
        "example1"
      ],
      "execution_count": 28,
      "outputs": [
        {
          "output_type": "execute_result",
          "data": {
            "text/plain": [
              "array([[1, 1, 0]])"
            ]
          },
          "metadata": {
            "tags": []
          },
          "execution_count": 28
        }
      ]
    },
    {
      "cell_type": "code",
      "metadata": {
        "colab": {
          "base_uri": "https://localhost:8080/"
        },
        "id": "bfWcJ91AvvTF",
        "outputId": "be87d9f9-1bec-4ee7-f299-2cd2c239855a"
      },
      "source": [
        "example2 = np.array([[0, 1, 1]]) # create new example #2 to predict\n",
        "example2"
      ],
      "execution_count": 29,
      "outputs": [
        {
          "output_type": "execute_result",
          "data": {
            "text/plain": [
              "array([[0, 1, 1]])"
            ]
          },
          "metadata": {
            "tags": []
          },
          "execution_count": 29
        }
      ]
    },
    {
      "cell_type": "code",
      "metadata": {
        "colab": {
          "base_uri": "https://localhost:8080/"
        },
        "id": "XJKn47E5sscz",
        "outputId": "7b17049e-dee6-4cdb-b09b-23d1731a02e5"
      },
      "source": [
        "prediction1 = 1/(1+np.exp(-np.dot(example1, weights)))\n",
        "prediction2 = 1/(1+np.exp(-np.dot(example2, weights)))\n",
        "\n",
        "print(prediction1, ' - Correct: ', example1[0][0]) # print the predictions for both examples\n",
        "print(prediction2, ' - Correct: ', example2[0][0])"
      ],
      "execution_count": 30,
      "outputs": [
        {
          "output_type": "stream",
          "text": [
            "[[0.90560244]]  - Correct:  1\n",
            "[[0.06813766]]  - Correct:  0\n"
          ],
          "name": "stdout"
        }
      ]
    },
    {
      "cell_type": "markdown",
      "metadata": {
        "id": "mAM1L-nuXBt9"
      },
      "source": [
        "##Original NN Example"
      ]
    },
    {
      "cell_type": "code",
      "metadata": {
        "id": "Ev6ikdI1rxMu"
      },
      "source": [
        "class NeuralNetwork: # create NeuralNetwork class\n",
        "\n",
        "    def __init__(self, inputs, outputs): # intialize variables in class\n",
        "        self.inputs  = inputs\n",
        "        self.outputs = outputs\n",
        "        self.weights = np.array([[.50], [.50], [.50]]) # initialize weights as .50 for simplicity\n",
        "        self.error_history = []\n",
        "        self.epoch_list = []\n",
        "\n",
        "    def sigmoid(self, x, deriv=False): #activation function ==> S(x) = 1/1+e^(-x)\n",
        "        if deriv == True:\n",
        "            return x * (1 - x)\n",
        "        return 1 / (1 + np.exp(-x))\n",
        "\n",
        "    def feed_forward(self): # data will flow through the neural network.\n",
        "        self.hidden = self.sigmoid(np.dot(self.inputs, self.weights))\n",
        "\n",
        "    def backpropagation(self): # going backwards through the network to update weights\n",
        "        self.error  = self.outputs - self.hidden\n",
        "        delta = self.error * self.sigmoid(self.hidden, deriv=True)\n",
        "        self.weights += np.dot(self.inputs.T, delta)\n",
        "\n",
        "    def train(self, epochs=250): # train the neural net for 25,000 iterations\n",
        "        for epoch in range(epochs):\n",
        "            self.feed_forward() # flow forward and produce an output\n",
        "            self.backpropagation() # go back though the network to make corrections based on the output\n",
        "            self.error_history.append(np.average(np.abs(self.error))) # keep track of the error history over each epoch\n",
        "            self.epoch_list.append(epoch)\n",
        "\n",
        "    def predict(self, new_input): # function to predict output on new and unseen input data\n",
        "        prediction = self.sigmoid(np.dot(new_input, self.weights))\n",
        "        return prediction"
      ],
      "execution_count": 41,
      "outputs": []
    },
    {
      "cell_type": "code",
      "metadata": {
        "id": "uo7nbAJTr0gg"
      },
      "source": [
        "NN = NeuralNetwork(inputs, outputs) # create neural network"
      ],
      "execution_count": 42,
      "outputs": []
    },
    {
      "cell_type": "code",
      "metadata": {
        "id": "bBMM5lfNx5L_"
      },
      "source": [
        "NN.train() "
      ],
      "execution_count": 43,
      "outputs": []
    },
    {
      "cell_type": "code",
      "metadata": {
        "id": "bRJlT25VsRMT"
      },
      "source": [
        "# create two new examples to predict\n",
        "example = np.array([[1, 1, 0]])\n",
        "example_2 = np.array([[0, 1, 1]])"
      ],
      "execution_count": 44,
      "outputs": []
    },
    {
      "cell_type": "code",
      "metadata": {
        "colab": {
          "base_uri": "https://localhost:8080/"
        },
        "id": "4ayC-IcHsSOs",
        "outputId": "8abb89c8-cc0d-420d-dfa5-5b048d49bab1"
      },
      "source": [
        "# print the predictions for both examples\n",
        "print(NN.predict(example), ' - Correct: ', example[0][0])\n",
        "print(NN.predict(example_2), ' - Correct: ', example_2[0][0])"
      ],
      "execution_count": 45,
      "outputs": [
        {
          "output_type": "stream",
          "text": [
            "[[0.90504239]]  - Correct:  1\n",
            "[[0.06856018]]  - Correct:  0\n"
          ],
          "name": "stdout"
        }
      ]
    },
    {
      "cell_type": "code",
      "metadata": {
        "colab": {
          "base_uri": "https://localhost:8080/",
          "height": 281
        },
        "id": "7jKTfqy7sVL5",
        "outputId": "2bb36e12-dfc1-4447-8adc-8b015fc9213e"
      },
      "source": [
        "# plot the error over the entire training duration\n",
        "plt.figure(figsize=(15,5))\n",
        "plt.plot(NN.epoch_list, NN.error_history)\n",
        "plt.xlabel('Epoch')\n",
        "plt.ylabel('Error')\n",
        "plt.show()"
      ],
      "execution_count": 46,
      "outputs": [
        {
          "output_type": "display_data",
          "data": {
            "image/png": "[encoded data removed]",
            "text/plain": [
              "<Figure size 1080x360 with 1 Axes>"
            ]
          },
          "metadata": {
            "tags": [],
            "needs_background": "light"
          }
        }
      ]
    }
  ]
}
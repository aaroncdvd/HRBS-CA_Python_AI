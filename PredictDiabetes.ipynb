{
  "nbformat": 4,
  "nbformat_minor": 0,
  "metadata": {
    "colab": {
      "name": "PredictDiabetes.ipynb",
      "provenance": [],
      "collapsed_sections": [
        "FuGLDVElIfZt",
        "OUknLIsX8Ob3",
        "NcuQuZjGJM4_",
        "P5_uCXVgJV5I",
        "O17tJgJEQgWx",
        "kBvyGeSsRfLD",
        "6slUNXmuJl3z"
      ],
      "authorship_tag": "ABX9TyNKKwrCwDhNPJIQmJlKPOa/",
      "include_colab_link": true
    },
    "kernelspec": {
      "name": "python3",
      "display_name": "Python 3"
    },
    "language_info": {
      "name": "python"
    }
  },
  "cells": [
    {
      "cell_type": "markdown",
      "metadata": {
        "id": "view-in-github",
        "colab_type": "text"
      },
      "source": [
        "<a href=\"https://colab.research.google.com/github/aaroncdvd/HRBS-CA_Python_AI/blob/main/PredictDiabetes.ipynb\" target=\"_parent\"><img src=\"https://colab.research.google.com/assets/colab-badge.svg\" alt=\"Open In Colab\"/></a>"
      ]
    },
    {
      "cell_type": "markdown",
      "metadata": {
        "id": "sDB97tWjIrsY"
      },
      "source": [
        "# How can we use an ML model with the diabetes patient data?"
      ]
    },
    {
      "cell_type": "markdown",
      "metadata": {
        "id": "tECH_Ww_RPGg"
      },
      "source": [
        "![](https://miro.medium.com/max/2066/1*wWRGcsBwoXw-WNJi5UpoOw.png)"
      ]
    },
    {
      "cell_type": "markdown",
      "metadata": {
        "id": "FuGLDVElIfZt"
      },
      "source": [
        "##Preparing your data!"
      ]
    },
    {
      "cell_type": "markdown",
      "metadata": {
        "id": "3ySabPjK27Qx"
      },
      "source": [
        "*Create SQL Database*"
      ]
    },
    {
      "cell_type": "markdown",
      "metadata": {
        "id": "RoBKCo0K6JPT"
      },
      "source": [
        "![](https://hackr.io/blog/sql-cheat-sheet/thumbnail/large)"
      ]
    },
    {
      "cell_type": "code",
      "metadata": {
        "colab": {
          "base_uri": "https://localhost:8080/"
        },
        "id": "gwQsK6GIsYUV",
        "outputId": "0f159d5e-1def-44ad-f7c0-eee4e999ce3d"
      },
      "source": [
        "!apt-get install sqlite3 # Install SQLite"
      ],
      "execution_count": 84,
      "outputs": [
        {
          "output_type": "stream",
          "text": [
            "Reading package lists... Done\n",
            "Building dependency tree       \n",
            "Reading state information... Done\n",
            "sqlite3 is already the newest version (3.22.0-1ubuntu0.4).\n",
            "The following package was automatically installed and is no longer required:\n",
            "  libnvidia-common-460\n",
            "Use 'apt autoremove' to remove it.\n",
            "0 upgraded, 0 newly installed, 0 to remove and 34 not upgraded.\n"
          ],
          "name": "stdout"
        }
      ]
    },
    {
      "cell_type": "code",
      "metadata": {
        "id": "AaQNOzShteAh"
      },
      "source": [
        "![ -e diabetes.csv.db ] && rm diabetes.csv.db # Remove Existing SQL Files and Load New SQL From CSV\n",
        "!wget -O - -o /dev/null 'https://raw.githubusercontent.com/plotly/datasets/master/diabetes.csv'|sqlite3 -csv diabetes.csv.db \".import /dev/stdin diabetes_csv\""
      ],
      "execution_count": 85,
      "outputs": []
    },
    {
      "cell_type": "code",
      "metadata": {
        "colab": {
          "base_uri": "https://localhost:8080/"
        },
        "id": "ooDHas5B2KL4",
        "outputId": "02c6e14b-3d26-4c92-a849-51b5a89d273b"
      },
      "source": [
        "!sqlite3 diabetes.csv.db \".tables\" # List SQL Tables (Like Excel 'Sheets')"
      ],
      "execution_count": 86,
      "outputs": [
        {
          "output_type": "stream",
          "text": [
            "diabetes_csv\n"
          ],
          "name": "stdout"
        }
      ]
    },
    {
      "cell_type": "markdown",
      "metadata": {
        "id": "B71U1Lr14qr4"
      },
      "source": [
        "*Query Diabetes.csv using SQL*"
      ]
    },
    {
      "cell_type": "code",
      "metadata": {
        "colab": {
          "base_uri": "https://localhost:8080/"
        },
        "id": "ZggcR26w7SUt",
        "outputId": "293a9cce-fed4-4cc0-cb9f-053fe8fd5b00"
      },
      "source": [
        "!sqlite3 -header -column diabetes.csv.db \" \\\n",
        "select case when Outcome=0 then 'Not Diabetic' else 'Diabetic' end as Diagnosis,round(avg(BMI),0) AverageBMI,count(*) as Patients,round(avg(Glucose),0) AverageGlucose,round(avg(Age),0) AverageAge from diabetes_csv group by Outcome\""
      ],
      "execution_count": 87,
      "outputs": [
        {
          "output_type": "stream",
          "text": [
            "Diagnosis     AverageBMI  Patients    AverageGlucose  AverageAge\n",
            "------------  ----------  ----------  --------------  ----------\n",
            "Not Diabetic  30.0        500         110.0           31.0      \n",
            "Diabetic      35.0        268         141.0           37.0      \n"
          ],
          "name": "stdout"
        }
      ]
    },
    {
      "cell_type": "markdown",
      "metadata": {
        "id": "OUknLIsX8Ob3"
      },
      "source": [
        "##Exercise: Let's find Average BMI for patients with and without diabetes!"
      ]
    },
    {
      "cell_type": "code",
      "metadata": {
        "colab": {
          "base_uri": "https://localhost:8080/"
        },
        "id": "zjwUTrPQznGr",
        "outputId": "97b46fb8-1046-46a0-bfbe-099131a775b7"
      },
      "source": [
        "!sqlite3 -header -column diabetes.csv.db \" \\\n",
        "select Outcome,avg(BMI) from diabetes_csv group by Outcome\""
      ],
      "execution_count": 88,
      "outputs": [
        {
          "output_type": "stream",
          "text": [
            "Outcome     avg(BMI)  \n",
            "----------  ----------\n",
            "0           30.3042   \n",
            "1           35.1425373\n"
          ],
          "name": "stdout"
        }
      ]
    },
    {
      "cell_type": "markdown",
      "metadata": {
        "id": "gStjg-ER74-d"
      },
      "source": [
        "*Make it Pretty!*"
      ]
    },
    {
      "cell_type": "code",
      "metadata": {
        "colab": {
          "base_uri": "https://localhost:8080/"
        },
        "id": "sSTQYd7E74Vd",
        "outputId": "2d5f5cf7-282e-4961-fed5-18d53c0c75b5"
      },
      "source": [
        "!sqlite3 -header -column diabetes.csv.db \" \\\n",
        "select case when Outcome=0 then 'no diabetes' else 'diabetes' end as Outcome,avg(BMI) AveraveBMI from diabetes_csv group by Outcome\""
      ],
      "execution_count": 89,
      "outputs": [
        {
          "output_type": "stream",
          "text": [
            "Outcome      AveraveBMI\n",
            "-----------  ----------\n",
            "no diabetes  30.3042   \n",
            "diabetes     35.1425373\n"
          ],
          "name": "stdout"
        }
      ]
    },
    {
      "cell_type": "markdown",
      "metadata": {
        "id": "UUcd8syR2JzD"
      },
      "source": [
        "*Save the results as a Virtual Table: Average_BMI*"
      ]
    },
    {
      "cell_type": "code",
      "metadata": {
        "id": "5cdoivNmzjOE"
      },
      "source": [
        "!sqlite3 diabetes.csv.db \"drop view if exists average_xyz; create view average_xyz as \\\n",
        "select case when Outcome=0 then 'no diabetes' else 'diabetes' end as Outcome,avg(BMI) AverageBMI, avg(age) AverageAge from diabetes_csv group by Outcome\""
      ],
      "execution_count": 90,
      "outputs": []
    },
    {
      "cell_type": "code",
      "metadata": {
        "colab": {
          "base_uri": "https://localhost:8080/"
        },
        "id": "YJRAEBzH5Z9e",
        "outputId": "62232fca-8dfa-4136-e2e4-694bc7bdedd0"
      },
      "source": [
        "!sqlite3 diabetes.csv.db \".tables\" # List SQL Tables (Like Excel 'Sheets')"
      ],
      "execution_count": 91,
      "outputs": [
        {
          "output_type": "stream",
          "text": [
            "average_xyz   diabetes_csv\n"
          ],
          "name": "stdout"
        }
      ]
    },
    {
      "cell_type": "code",
      "metadata": {
        "id": "Lg4fLntF1EsD",
        "outputId": "100e234d-1b67-4dab-a8cc-f77b43e54a89",
        "colab": {
          "base_uri": "https://localhost:8080/"
        }
      },
      "source": [
        "!sqlite3 -header -column diabetes.csv.db \" \\\n",
        "select * from average_xyz\""
      ],
      "execution_count": 92,
      "outputs": [
        {
          "output_type": "stream",
          "text": [
            "Outcome      AverageBMI  AverageAge\n",
            "-----------  ----------  ----------\n",
            "no diabetes  30.3042     31.19     \n",
            "diabetes     35.1425373  37.0671641\n"
          ],
          "name": "stdout"
        }
      ]
    },
    {
      "cell_type": "markdown",
      "metadata": {
        "id": "pY_6m-9x2MxI"
      },
      "source": [
        "*Query Virtual Table*"
      ]
    },
    {
      "cell_type": "code",
      "metadata": {
        "colab": {
          "base_uri": "https://localhost:8080/"
        },
        "id": "dhOPGH9-1h3U",
        "outputId": "c7c4c35c-1f91-41da-92ee-f816e39c3880"
      },
      "source": [
        "!sqlite3 -header -column diabetes.csv.db \" \\\n",
        "select * from average_BMI\""
      ],
      "execution_count": 93,
      "outputs": [
        {
          "output_type": "stream",
          "text": [
            "Error: no such table: average_BMI\n"
          ],
          "name": "stdout"
        }
      ]
    },
    {
      "cell_type": "markdown",
      "metadata": {
        "id": "NcuQuZjGJM4_"
      },
      "source": [
        "## Load Data to Python"
      ]
    },
    {
      "cell_type": "markdown",
      "metadata": {
        "id": "A6AJNGW50qAm"
      },
      "source": [
        "*Import SQL to Pandas*"
      ]
    },
    {
      "cell_type": "code",
      "metadata": {
        "id": "aVbYQxEKxAAH"
      },
      "source": [
        "import pandas as pd # Import Pandas\n",
        "import sqlite3 # Import SQL"
      ],
      "execution_count": 94,
      "outputs": []
    },
    {
      "cell_type": "code",
      "metadata": {
        "id": "BQslw4v1xden"
      },
      "source": [
        "sqlite = sqlite3.connect(\"diabetes.csv.db\") # Connect to Diabetes"
      ],
      "execution_count": 95,
      "outputs": []
    },
    {
      "cell_type": "code",
      "metadata": {
        "id": "VJxcEsiryBuF",
        "colab": {
          "base_uri": "https://localhost:8080/",
          "height": 0
        },
        "outputId": "8b04b498-3ab6-4537-d40c-7618b06b69f3"
      },
      "source": [
        "diabetes_df = pd.read_sql_query(\"select * from diabetes_csv\",sqlite) # Load SQL to Pandas\n",
        "diabetes_df"
      ],
      "execution_count": 96,
      "outputs": [
        {
          "output_type": "execute_result",
          "data": {
            "text/html": [
              "<div>\n",
              "<style scoped>\n",
              "    .dataframe tbody tr th:only-of-type {\n",
              "        vertical-align: middle;\n",
              "    }\n",
              "\n",
              "    .dataframe tbody tr th {\n",
              "        vertical-align: top;\n",
              "    }\n",
              "\n",
              "    .dataframe thead th {\n",
              "        text-align: right;\n",
              "    }\n",
              "</style>\n",
              "<table border=\"1\" class=\"dataframe\">\n",
              "  <thead>\n",
              "    <tr style=\"text-align: right;\">\n",
              "      <th></th>\n",
              "      <th>Pregnancies</th>\n",
              "      <th>Glucose</th>\n",
              "      <th>BloodPressure</th>\n",
              "      <th>SkinThickness</th>\n",
              "      <th>Insulin</th>\n",
              "      <th>BMI</th>\n",
              "      <th>DiabetesPedigreeFunction</th>\n",
              "      <th>Age</th>\n",
              "      <th>Outcome</th>\n",
              "    </tr>\n",
              "  </thead>\n",
              "  <tbody>\n",
              "    <tr>\n",
              "      <th>0</th>\n",
              "      <td>6</td>\n",
              "      <td>148</td>\n",
              "      <td>72</td>\n",
              "      <td>35</td>\n",
              "      <td>0</td>\n",
              "      <td>33.6</td>\n",
              "      <td>0.627</td>\n",
              "      <td>50</td>\n",
              "      <td>1</td>\n",
              "    </tr>\n",
              "    <tr>\n",
              "      <th>1</th>\n",
              "      <td>1</td>\n",
              "      <td>85</td>\n",
              "      <td>66</td>\n",
              "      <td>29</td>\n",
              "      <td>0</td>\n",
              "      <td>26.6</td>\n",
              "      <td>0.351</td>\n",
              "      <td>31</td>\n",
              "      <td>0</td>\n",
              "    </tr>\n",
              "    <tr>\n",
              "      <th>2</th>\n",
              "      <td>8</td>\n",
              "      <td>183</td>\n",
              "      <td>64</td>\n",
              "      <td>0</td>\n",
              "      <td>0</td>\n",
              "      <td>23.3</td>\n",
              "      <td>0.672</td>\n",
              "      <td>32</td>\n",
              "      <td>1</td>\n",
              "    </tr>\n",
              "    <tr>\n",
              "      <th>3</th>\n",
              "      <td>1</td>\n",
              "      <td>89</td>\n",
              "      <td>66</td>\n",
              "      <td>23</td>\n",
              "      <td>94</td>\n",
              "      <td>28.1</td>\n",
              "      <td>0.167</td>\n",
              "      <td>21</td>\n",
              "      <td>0</td>\n",
              "    </tr>\n",
              "    <tr>\n",
              "      <th>4</th>\n",
              "      <td>0</td>\n",
              "      <td>137</td>\n",
              "      <td>40</td>\n",
              "      <td>35</td>\n",
              "      <td>168</td>\n",
              "      <td>43.1</td>\n",
              "      <td>2.288</td>\n",
              "      <td>33</td>\n",
              "      <td>1</td>\n",
              "    </tr>\n",
              "    <tr>\n",
              "      <th>...</th>\n",
              "      <td>...</td>\n",
              "      <td>...</td>\n",
              "      <td>...</td>\n",
              "      <td>...</td>\n",
              "      <td>...</td>\n",
              "      <td>...</td>\n",
              "      <td>...</td>\n",
              "      <td>...</td>\n",
              "      <td>...</td>\n",
              "    </tr>\n",
              "    <tr>\n",
              "      <th>763</th>\n",
              "      <td>10</td>\n",
              "      <td>101</td>\n",
              "      <td>76</td>\n",
              "      <td>48</td>\n",
              "      <td>180</td>\n",
              "      <td>32.9</td>\n",
              "      <td>0.171</td>\n",
              "      <td>63</td>\n",
              "      <td>0</td>\n",
              "    </tr>\n",
              "    <tr>\n",
              "      <th>764</th>\n",
              "      <td>2</td>\n",
              "      <td>122</td>\n",
              "      <td>70</td>\n",
              "      <td>27</td>\n",
              "      <td>0</td>\n",
              "      <td>36.8</td>\n",
              "      <td>0.34</td>\n",
              "      <td>27</td>\n",
              "      <td>0</td>\n",
              "    </tr>\n",
              "    <tr>\n",
              "      <th>765</th>\n",
              "      <td>5</td>\n",
              "      <td>121</td>\n",
              "      <td>72</td>\n",
              "      <td>23</td>\n",
              "      <td>112</td>\n",
              "      <td>26.2</td>\n",
              "      <td>0.245</td>\n",
              "      <td>30</td>\n",
              "      <td>0</td>\n",
              "    </tr>\n",
              "    <tr>\n",
              "      <th>766</th>\n",
              "      <td>1</td>\n",
              "      <td>126</td>\n",
              "      <td>60</td>\n",
              "      <td>0</td>\n",
              "      <td>0</td>\n",
              "      <td>30.1</td>\n",
              "      <td>0.349</td>\n",
              "      <td>47</td>\n",
              "      <td>1</td>\n",
              "    </tr>\n",
              "    <tr>\n",
              "      <th>767</th>\n",
              "      <td>1</td>\n",
              "      <td>93</td>\n",
              "      <td>70</td>\n",
              "      <td>31</td>\n",
              "      <td>0</td>\n",
              "      <td>30.4</td>\n",
              "      <td>0.315</td>\n",
              "      <td>23</td>\n",
              "      <td>0</td>\n",
              "    </tr>\n",
              "  </tbody>\n",
              "</table>\n",
              "<p>768 rows × 9 columns</p>\n",
              "</div>"
            ],
            "text/plain": [
              "    Pregnancies Glucose BloodPressure  ... DiabetesPedigreeFunction Age Outcome\n",
              "0             6     148            72  ...                    0.627  50       1\n",
              "1             1      85            66  ...                    0.351  31       0\n",
              "2             8     183            64  ...                    0.672  32       1\n",
              "3             1      89            66  ...                    0.167  21       0\n",
              "4             0     137            40  ...                    2.288  33       1\n",
              "..          ...     ...           ...  ...                      ...  ..     ...\n",
              "763          10     101            76  ...                    0.171  63       0\n",
              "764           2     122            70  ...                     0.34  27       0\n",
              "765           5     121            72  ...                    0.245  30       0\n",
              "766           1     126            60  ...                    0.349  47       1\n",
              "767           1      93            70  ...                    0.315  23       0\n",
              "\n",
              "[768 rows x 9 columns]"
            ]
          },
          "metadata": {
            "tags": []
          },
          "execution_count": 96
        }
      ]
    },
    {
      "cell_type": "code",
      "metadata": {
        "id": "uRC9--nY-PKB"
      },
      "source": [
        "diabetesX=diabetes_df[diabetes_df.columns[:8]]"
      ],
      "execution_count": 97,
      "outputs": []
    },
    {
      "cell_type": "code",
      "metadata": {
        "id": "RQN8R94A-_qk"
      },
      "source": [
        "diabetesY=diabetes_df[diabetes_df.columns[8:]]"
      ],
      "execution_count": 98,
      "outputs": []
    },
    {
      "cell_type": "markdown",
      "metadata": {
        "id": "P5_uCXVgJV5I"
      },
      "source": [
        "## [>](https://datascienceplus.com/machine-learning-for-diabetes-with-python/) Do Machine Learning!"
      ]
    },
    {
      "cell_type": "markdown",
      "metadata": {
        "id": "v_6ewekhHmlt"
      },
      "source": [
        "*Split into Test and Training*"
      ]
    },
    {
      "cell_type": "code",
      "metadata": {
        "id": "dhsvkcUpC8WJ",
        "outputId": "d8925e3d-f033-4008-9e5c-7ff4074a9784",
        "colab": {
          "base_uri": "https://localhost:8080/"
        }
      },
      "source": [
        "from sklearn.model_selection import train_test_split\n",
        "from sklearn.preprocessing import StandardScaler\n",
        "X_train, X_test, y_train, y_test = train_test_split(StandardScaler().fit_transform(diabetesX), diabetesY, test_size=0.5, random_state=42)\n",
        "X_train"
      ],
      "execution_count": 99,
      "outputs": [
        {
          "output_type": "execute_result",
          "data": {
            "text/plain": [
              "array([[-1.14185152,  0.62924378,  0.77001375, ...,  0.05170968,\n",
              "        -0.11741105, -0.95646168],\n",
              "       [-0.54791859, -0.184482  , -0.26394125, ..., -0.15136112,\n",
              "        -0.15365247, -1.04154944],\n",
              "       [ 0.3429808 ,  0.28497518,  0.66661825, ...,  0.90206862,\n",
              "         1.46211102,  0.31985461],\n",
              "       ...,\n",
              "       [ 1.82781311, -0.62264204,  0.87340925, ...,  1.72704372,\n",
              "         2.00573238,  0.40494237],\n",
              "       [-1.14185152,  0.62924378, -3.57259724, ...,  1.32090213,\n",
              "        -0.8059981 , -0.36084741],\n",
              "       [-1.14185152,  0.12848945,  1.39038675, ..., -1.20479085,\n",
              "        -0.63385134, -1.04154944]])"
            ]
          },
          "metadata": {
            "tags": []
          },
          "execution_count": 99
        }
      ]
    },
    {
      "cell_type": "markdown",
      "metadata": {
        "id": "-s-lkGmrHdKe"
      },
      "source": [
        "*Predict Diabetes Using ML Model*"
      ]
    },
    {
      "cell_type": "code",
      "metadata": {
        "colab": {
          "base_uri": "https://localhost:8080/"
        },
        "id": "mJdbH6eY9Oo4",
        "outputId": "10c1d68e-ee60-4cd5-84b9-e7f0a3513679"
      },
      "source": [
        "import sklearn\n",
        "from sklearn.linear_model import LogisticRegression\n",
        "logreg = LogisticRegression().fit(X_train, y_train)\n",
        "print(\"Training set score: {:.3f}\".format(logreg.score(X_train, y_train)))\n",
        "print(\"Test set score: {:.3f}\".format(logreg.score(X_test, y_test)))"
      ],
      "execution_count": 100,
      "outputs": [
        {
          "output_type": "stream",
          "text": [
            "Training set score: 0.768\n",
            "Test set score: 0.786\n"
          ],
          "name": "stdout"
        },
        {
          "output_type": "stream",
          "text": [
            "/usr/local/lib/python3.7/dist-packages/sklearn/utils/validation.py:760: DataConversionWarning: A column-vector y was passed when a 1d array was expected. Please change the shape of y to (n_samples, ), for example using ravel().\n",
            "  y = column_or_1d(y, warn=True)\n"
          ],
          "name": "stderr"
        }
      ]
    },
    {
      "cell_type": "markdown",
      "metadata": {
        "id": "r7zKz8d2HsMb"
      },
      "source": [
        "*Plot Weight Matrix*"
      ]
    },
    {
      "cell_type": "code",
      "metadata": {
        "colab": {
          "base_uri": "https://localhost:8080/",
          "height": 801
        },
        "id": "ZiRGaxKW_mPc",
        "outputId": "f7c8cdfd-7710-4722-9d08-82c1946563cf"
      },
      "source": [
        "import matplotlib.pyplot as plt\n",
        "diabetes_features = [x for i,x in enumerate(diabetes_df.columns)]\n",
        "plt.figure(figsize=(12,8))\n",
        "plt.rcParams.update({'font.size': 22})\n",
        "plt.plot(logreg.coef_.T, 'o', label=\"Weight\", markersize=22)\n",
        "plt.xticks(range(diabetes_df.shape[1]), diabetes_features, rotation=90)\n",
        "plt.hlines(0, 0, diabetes_df.shape[1])\n",
        "plt.ylim(-.5, 1.3)\n",
        "plt.xlabel(\"Feature\")\n",
        "plt.ylabel(\"Weights Matrix\")\n",
        "plt.legend()"
      ],
      "execution_count": 144,
      "outputs": [
        {
          "output_type": "execute_result",
          "data": {
            "text/plain": [
              "<matplotlib.legend.Legend at 0x7fc327f59b10>"
            ]
          },
          "metadata": {
            "tags": []
          },
          "execution_count": 144
        },
        {
          "output_type": "display_data",
          "data": {
            "image/png": "[encoded data removed]",
            "text/plain": [
              "<Figure size 864x576 with 1 Axes>"
            ]
          },
          "metadata": {
            "tags": [],
            "needs_background": "light"
          }
        }
      ]
    },
    {
      "cell_type": "markdown",
      "metadata": {
        "id": "Bb9jXtfGJ0TV"
      },
      "source": [
        "### How do we use this and what does it mean?"
      ]
    },
    {
      "cell_type": "markdown",
      "metadata": {
        "id": "2SWpkjRyJ30H"
      },
      "source": [
        "LARGER numbers mean MORE important to predict the Outcome! In this example, Glucose and BMI seem to be the MOST IMPORTANT to predict diabetes in patients!"
      ]
    },
    {
      "cell_type": "markdown",
      "metadata": {
        "id": "O17tJgJEQgWx"
      },
      "source": [
        "## [>](https://towardsdatascience.com/logistic-regression-using-python-sklearn-numpy-mnist-handwriting-recognition-matplotlib-a6b31e2b166a) Confusion Matrix"
      ]
    },
    {
      "cell_type": "code",
      "metadata": {
        "colab": {
          "base_uri": "https://localhost:8080/"
        },
        "id": "OXrntcMpLVOm",
        "outputId": "ed5b19fb-fdb6-46e6-f892-e5a747678b5f"
      },
      "source": [
        "import matplotlib.pyplot as plt\n",
        "import seaborn as sns\n",
        "from sklearn import metrics\n",
        "import numpy as np\n",
        "predictions = logreg.predict(X_test)\n",
        "cm = metrics.confusion_matrix(y_test, predictions)\n",
        "print(cm)"
      ],
      "execution_count": 102,
      "outputs": [
        {
          "output_type": "stream",
          "text": [
            "[[216  38]\n",
            " [ 44  86]]\n"
          ],
          "name": "stdout"
        }
      ]
    },
    {
      "cell_type": "code",
      "metadata": {
        "colab": {
          "base_uri": "https://localhost:8080/",
          "height": 640
        },
        "id": "S2gscmyrPaBI",
        "outputId": "ecb54d19-0586-4c22-e602-e6c23a43f247"
      },
      "source": [
        "# import required modules\n",
        "import numpy as np\n",
        "import matplotlib.pyplot as plt\n",
        "import seaborn as sns\n",
        "%matplotlib inline\n",
        "\n",
        "plt.figure(figsize=(12,8))\n",
        "sns.heatmap(pd.DataFrame(cm), annot=True, cmap=\"YlGnBu\" ,fmt='g',annot_kws={\"fontsize\":32})\n",
        "\n",
        "plt.tight_layout()\n",
        "tick_marks = np.arange(2)\n",
        "plt.xticks(tick_marks, [\"                                              Diabetes\", \"                                                      Not Diabetes\"], size = 15)\n",
        "plt.yticks(tick_marks, [\"Diabetes                        \", \" Not Diabetes                       \"], size = 15)\n",
        "plt.tight_layout()\n",
        "plt.title('Confusion matrix', y=1.1, size = 20)\n",
        "plt.ylabel('Actual label', size = 20)\n",
        "plt.xlabel('Predicted label', size = 20)"
      ],
      "execution_count": 126,
      "outputs": [
        {
          "output_type": "execute_result",
          "data": {
            "text/plain": [
              "Text(0.5, 1.7999999999999972, 'Predicted label')"
            ]
          },
          "metadata": {
            "tags": []
          },
          "execution_count": 126
        },
        {
          "output_type": "display_data",
          "data": {
            "image/png": "[encoded data removed]",
            "text/plain": [
              "<Figure size 864x576 with 2 Axes>"
            ]
          },
          "metadata": {
            "tags": [],
            "needs_background": "light"
          }
        }
      ]
    },
    {
      "cell_type": "markdown",
      "metadata": {
        "id": "kBvyGeSsRfLD"
      },
      "source": [
        "## What's missing from our model?"
      ]
    },
    {
      "cell_type": "markdown",
      "metadata": {
        "id": "jaPu0HubRksB"
      },
      "source": [
        "The ML model has more information than just 'Diabetes' and 'Not Diabetes' but a number between 0 and 1! What could we use this for? Could we make a risk score using this as a percentage likelihood that the patient has diabetes rather than simply saying 'Diabetes' and 'Not Diabetes'?"
      ]
    },
    {
      "cell_type": "markdown",
      "metadata": {
        "id": "6slUNXmuJl3z"
      },
      "source": [
        "## Save the Results"
      ]
    },
    {
      "cell_type": "markdown",
      "metadata": {
        "id": "OQnh6guO85Bc"
      },
      "source": [
        "*Save Weights in SQL Database*"
      ]
    },
    {
      "cell_type": "code",
      "metadata": {
        "id": "A3X_1WDrF9Yj"
      },
      "source": [
        "diabetes_ml = pd.DataFrame(logreg.coef_.T) # Export Weight Matrix\n",
        "diabetes_ml.columns = ['weight'] # Change column name to 'weight' "
      ],
      "execution_count": 104,
      "outputs": []
    },
    {
      "cell_type": "code",
      "metadata": {
        "colab": {
          "base_uri": "https://localhost:8080/",
          "height": 297
        },
        "id": "5fX7GsKRGFxm",
        "outputId": "48a78e40-5920-4076-a188-c5082d43d535"
      },
      "source": [
        "diabetes_ml[\"variable\"] = pd.DataFrame(diabetes_features) # Include Column Names\n",
        "diabetes_ml"
      ],
      "execution_count": 105,
      "outputs": [
        {
          "output_type": "execute_result",
          "data": {
            "text/html": [
              "<div>\n",
              "<style scoped>\n",
              "    .dataframe tbody tr th:only-of-type {\n",
              "        vertical-align: middle;\n",
              "    }\n",
              "\n",
              "    .dataframe tbody tr th {\n",
              "        vertical-align: top;\n",
              "    }\n",
              "\n",
              "    .dataframe thead th {\n",
              "        text-align: right;\n",
              "    }\n",
              "</style>\n",
              "<table border=\"1\" class=\"dataframe\">\n",
              "  <thead>\n",
              "    <tr style=\"text-align: right;\">\n",
              "      <th></th>\n",
              "      <th>weight</th>\n",
              "      <th>variable</th>\n",
              "    </tr>\n",
              "  </thead>\n",
              "  <tbody>\n",
              "    <tr>\n",
              "      <th>0</th>\n",
              "      <td>0.254279</td>\n",
              "      <td>Pregnancies</td>\n",
              "    </tr>\n",
              "    <tr>\n",
              "      <th>1</th>\n",
              "      <td>0.998293</td>\n",
              "      <td>Glucose</td>\n",
              "    </tr>\n",
              "    <tr>\n",
              "      <th>2</th>\n",
              "      <td>-0.258662</td>\n",
              "      <td>BloodPressure</td>\n",
              "    </tr>\n",
              "    <tr>\n",
              "      <th>3</th>\n",
              "      <td>-0.125226</td>\n",
              "      <td>SkinThickness</td>\n",
              "    </tr>\n",
              "    <tr>\n",
              "      <th>4</th>\n",
              "      <td>0.101080</td>\n",
              "      <td>Insulin</td>\n",
              "    </tr>\n",
              "    <tr>\n",
              "      <th>5</th>\n",
              "      <td>0.943905</td>\n",
              "      <td>BMI</td>\n",
              "    </tr>\n",
              "    <tr>\n",
              "      <th>6</th>\n",
              "      <td>0.186330</td>\n",
              "      <td>DiabetesPedigreeFunction</td>\n",
              "    </tr>\n",
              "    <tr>\n",
              "      <th>7</th>\n",
              "      <td>0.280974</td>\n",
              "      <td>Age</td>\n",
              "    </tr>\n",
              "  </tbody>\n",
              "</table>\n",
              "</div>"
            ],
            "text/plain": [
              "     weight                  variable\n",
              "0  0.254279               Pregnancies\n",
              "1  0.998293                   Glucose\n",
              "2 -0.258662             BloodPressure\n",
              "3 -0.125226             SkinThickness\n",
              "4  0.101080                   Insulin\n",
              "5  0.943905                       BMI\n",
              "6  0.186330  DiabetesPedigreeFunction\n",
              "7  0.280974                       Age"
            ]
          },
          "metadata": {
            "tags": []
          },
          "execution_count": 105
        }
      ]
    },
    {
      "cell_type": "code",
      "metadata": {
        "id": "ta-Y9qvxzHhg"
      },
      "source": [
        "diabetes_ml.to_sql(\"diabetes_ml\",sqlite, if_exists=\"replace\") # Save Pandas Dataframe to SQL"
      ],
      "execution_count": 106,
      "outputs": []
    },
    {
      "cell_type": "code",
      "metadata": {
        "colab": {
          "base_uri": "https://localhost:8080/"
        },
        "id": "Avoxytki5cKF",
        "outputId": "bccd0d79-74e2-4840-d3af-81b2d0165dc6"
      },
      "source": [
        "!sqlite3 diabetes.csv.db \".tables\" # List SQL Tables (Like Excel 'Sheets')"
      ],
      "execution_count": 107,
      "outputs": [
        {
          "output_type": "stream",
          "text": [
            "average_xyz   diabetes_csv  diabetes_ml \n"
          ],
          "name": "stdout"
        }
      ]
    },
    {
      "cell_type": "markdown",
      "metadata": {
        "id": "W5RkuBtOKyW_"
      },
      "source": [
        "*Make a Report of the Weights by Importance*"
      ]
    },
    {
      "cell_type": "code",
      "metadata": {
        "colab": {
          "base_uri": "https://localhost:8080/"
        },
        "id": "NT3Vr1mA13ls",
        "outputId": "c5fa7141-897e-48a2-cad7-8901ad881f93"
      },
      "source": [
        "!sqlite3 -header -column diabetes.csv.db \" \\\n",
        "select variable,round(weight,1) as weight from diabetes_ml order by abs(weight) desc\""
      ],
      "execution_count": 108,
      "outputs": [
        {
          "output_type": "stream",
          "text": [
            "variable    weight    \n",
            "----------  ----------\n",
            "Glucose     1.0       \n",
            "BMI         0.9       \n",
            "Age         0.3       \n",
            "BloodPress  -0.3      \n",
            "Pregnancie  0.3       \n",
            "DiabetesPe  0.2       \n",
            "SkinThickn  -0.1      \n",
            "Insulin     0.1       \n"
          ],
          "name": "stdout"
        }
      ]
    },
    {
      "cell_type": "code",
      "metadata": {
        "id": "ZhEkQAiL5QE_"
      },
      "source": [
        "sqlite.close() # Disconnect from SQL"
      ],
      "execution_count": 109,
      "outputs": []
    }
  ]
}
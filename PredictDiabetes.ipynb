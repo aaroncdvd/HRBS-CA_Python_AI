{
  "nbformat": 4,
  "nbformat_minor": 0,
  "metadata": {
    "colab": {
      "name": "PredictDiabetes.ipynb",
      "provenance": [],
      "collapsed_sections": [
        "FuGLDVElIfZt",
        "OUknLIsX8Ob3",
        "NcuQuZjGJM4_",
        "P5_uCXVgJV5I",
        "O17tJgJEQgWx",
        "kBvyGeSsRfLD",
        "6slUNXmuJl3z"
      ],
      "toc_visible": true,
      "authorship_tag": "ABX9TyMni4sFAH4mC7fz7ACh69uH",
      "include_colab_link": true
    },
    "kernelspec": {
      "name": "python3",
      "display_name": "Python 3"
    },
    "language_info": {
      "name": "python"
    }
  },
  "cells": [
    {
      "cell_type": "markdown",
      "metadata": {
        "id": "view-in-github",
        "colab_type": "text"
      },
      "source": [
        "<a href=\"https://colab.research.google.com/github/aaroncdvd/HRBS-CA_Python_AI/blob/main/PredictDiabetes.ipynb\" target=\"_parent\"><img src=\"https://colab.research.google.com/assets/colab-badge.svg\" alt=\"Open In Colab\"/></a>"
      ]
    },
    {
      "cell_type": "markdown",
      "metadata": {
        "id": "sDB97tWjIrsY"
      },
      "source": [
        "# How can we use an ML model with the diabetes patient data?"
      ]
    },
    {
      "cell_type": "markdown",
      "metadata": {
        "id": "tECH_Ww_RPGg"
      },
      "source": [
        "![](https://miro.medium.com/max/2066/1*wWRGcsBwoXw-WNJi5UpoOw.png)"
      ]
    },
    {
      "cell_type": "markdown",
      "metadata": {
        "id": "FuGLDVElIfZt"
      },
      "source": [
        "##Preparing your data!"
      ]
    },
    {
      "cell_type": "markdown",
      "metadata": {
        "id": "RoBKCo0K6JPT"
      },
      "source": [
        "![](https://hackr.io/blog/sql-cheat-sheet/thumbnail/large)"
      ]
    },
    {
      "cell_type": "markdown",
      "metadata": {
        "id": "yz-DxhJ3r2HP"
      },
      "source": [
        "###Download CSV to SQL"
      ]
    },
    {
      "cell_type": "code",
      "metadata": {
        "colab": {
          "base_uri": "https://localhost:8080/"
        },
        "id": "gwQsK6GIsYUV",
        "outputId": "21f45560-1b66-4128-8ead-00967c99daef"
      },
      "source": [
        "!apt-get install sqlite3 # Install SQLite"
      ],
      "execution_count": 399,
      "outputs": [
        {
          "output_type": "stream",
          "text": [
            "Reading package lists... Done\n",
            "Building dependency tree       \n",
            "Reading state information... Done\n",
            "sqlite3 is already the newest version (3.22.0-1ubuntu0.4).\n",
            "The following package was automatically installed and is no longer required:\n",
            "  libnvidia-common-460\n",
            "Use 'apt autoremove' to remove it.\n",
            "0 upgraded, 0 newly installed, 0 to remove and 34 not upgraded.\n"
          ],
          "name": "stdout"
        }
      ]
    },
    {
      "cell_type": "markdown",
      "metadata": {
        "id": "3ySabPjK27Qx"
      },
      "source": [
        "*Create SQL Database*"
      ]
    },
    {
      "cell_type": "code",
      "metadata": {
        "id": "AaQNOzShteAh"
      },
      "source": [
        "![ -e diabetes.csv.db ] && rm diabetes.csv.db # Remove Existing SQL Files and Load New SQL From CSV\n",
        "!wget -O - -o /dev/null 'https://raw.githubusercontent.com/plotly/datasets/master/diabetes.csv'|sqlite3 -csv diabetes.csv.db \".import /dev/stdin diabetes_csv\""
      ],
      "execution_count": 400,
      "outputs": []
    },
    {
      "cell_type": "code",
      "metadata": {
        "colab": {
          "base_uri": "https://localhost:8080/"
        },
        "id": "ooDHas5B2KL4",
        "outputId": "156f00ab-4b45-4c46-e96c-be4c55493ef2"
      },
      "source": [
        "!sqlite3 diabetes.csv.db \".tables\" # List SQL Tables (Like Excel 'Sheets')"
      ],
      "execution_count": 401,
      "outputs": [
        {
          "output_type": "stream",
          "text": [
            "diabetes_csv\n"
          ],
          "name": "stdout"
        }
      ]
    },
    {
      "cell_type": "markdown",
      "metadata": {
        "id": "B71U1Lr14qr4"
      },
      "source": [
        "*Query Diabetes.csv using SQL*"
      ]
    },
    {
      "cell_type": "code",
      "metadata": {
        "colab": {
          "base_uri": "https://localhost:8080/"
        },
        "id": "ZggcR26w7SUt",
        "outputId": "9cbe9144-1600-4b4b-dc2d-b45f5da9a94c"
      },
      "source": [
        "!sqlite3 -header -column diabetes.csv.db \" \\\n",
        "select * from diabetes_csv limit 1\""
      ],
      "execution_count": 402,
      "outputs": [
        {
          "output_type": "stream",
          "text": [
            "Pregnancies  Glucose     BloodPressure  SkinThickness  Insulin     BMI         DiabetesPedigreeFunction  Age         Outcome   \n",
            "-----------  ----------  -------------  -------------  ----------  ----------  ------------------------  ----------  ----------\n",
            "6            148         72             35             0           33.6        0.627                     50          1         \n"
          ],
          "name": "stdout"
        }
      ]
    },
    {
      "cell_type": "markdown",
      "metadata": {
        "id": "OUknLIsX8Ob3"
      },
      "source": [
        "###Exercise: Let's find Average BMI for patients with and without diabetes!"
      ]
    },
    {
      "cell_type": "code",
      "metadata": {
        "colab": {
          "base_uri": "https://localhost:8080/"
        },
        "id": "zjwUTrPQznGr",
        "outputId": "77dbe4c9-1f35-44ee-c708-814d4a8992ec"
      },
      "source": [
        "!sqlite3 -header -column diabetes.csv.db \" \\\n",
        "select Outcome,avg(BMI),count(*) as Patient from diabetes_csv group by Outcome\""
      ],
      "execution_count": 403,
      "outputs": [
        {
          "output_type": "stream",
          "text": [
            "Outcome     avg(BMI)    Patient   \n",
            "----------  ----------  ----------\n",
            "0           30.3042     500       \n",
            "1           35.1425373  268       \n"
          ],
          "name": "stdout"
        }
      ]
    },
    {
      "cell_type": "markdown",
      "metadata": {
        "id": "gStjg-ER74-d"
      },
      "source": [
        "*Make it Pretty!*"
      ]
    },
    {
      "cell_type": "code",
      "metadata": {
        "colab": {
          "base_uri": "https://localhost:8080/"
        },
        "id": "sSTQYd7E74Vd",
        "outputId": "efe3c97d-1746-4976-c517-c04ad5e113dc"
      },
      "source": [
        "!sqlite3 -header -column diabetes.csv.db \" \\\n",
        "select case when Outcome=0 then 'no diabetes' else 'diabetes' end as Diagnosis,avg(BMI) AveraveBMI from diabetes_csv group by Outcome\""
      ],
      "execution_count": 404,
      "outputs": [
        {
          "output_type": "stream",
          "text": [
            "Diagnosis    AveraveBMI\n",
            "-----------  ----------\n",
            "no diabetes  30.3042   \n",
            "diabetes     35.1425373\n"
          ],
          "name": "stdout"
        }
      ]
    },
    {
      "cell_type": "markdown",
      "metadata": {
        "id": "UUcd8syR2JzD"
      },
      "source": [
        "*Save the results as a Virtual Table: Average_BMI*"
      ]
    },
    {
      "cell_type": "code",
      "metadata": {
        "id": "5cdoivNmzjOE"
      },
      "source": [
        "!sqlite3 diabetes.csv.db \"drop view if exists average_BMI; create view average_BMI as \\\n",
        "select case when Outcome=0 then 'no diabetes' else 'diabetes' end as Outcome,avg(BMI) AverageBMI, avg(age) AverageAge from diabetes_csv group by Outcome\""
      ],
      "execution_count": 405,
      "outputs": []
    },
    {
      "cell_type": "code",
      "metadata": {
        "colab": {
          "base_uri": "https://localhost:8080/"
        },
        "id": "YJRAEBzH5Z9e",
        "outputId": "fd6c3681-1052-4720-d5bb-8ed57fc17f56"
      },
      "source": [
        "!sqlite3 diabetes.csv.db \".tables\" # List SQL Tables (Like Excel 'Sheets')"
      ],
      "execution_count": 406,
      "outputs": [
        {
          "output_type": "stream",
          "text": [
            "average_BMI   diabetes_csv\n"
          ],
          "name": "stdout"
        }
      ]
    },
    {
      "cell_type": "code",
      "metadata": {
        "id": "Lg4fLntF1EsD",
        "colab": {
          "base_uri": "https://localhost:8080/"
        },
        "outputId": "0d6ba33d-fd5c-4f85-8387-4efcc4a04573"
      },
      "source": [
        "!sqlite3 -header -column diabetes.csv.db \" \\\n",
        "select * from average_BMI\""
      ],
      "execution_count": 407,
      "outputs": [
        {
          "output_type": "stream",
          "text": [
            "Outcome      AverageBMI  AverageAge\n",
            "-----------  ----------  ----------\n",
            "no diabetes  30.3042     31.19     \n",
            "diabetes     35.1425373  37.0671641\n"
          ],
          "name": "stdout"
        }
      ]
    },
    {
      "cell_type": "markdown",
      "metadata": {
        "id": "pY_6m-9x2MxI"
      },
      "source": [
        "*Query Virtual Table*"
      ]
    },
    {
      "cell_type": "code",
      "metadata": {
        "colab": {
          "base_uri": "https://localhost:8080/"
        },
        "id": "dhOPGH9-1h3U",
        "outputId": "f4b1f847-dd96-468d-cc3f-840649bda91e"
      },
      "source": [
        "!sqlite3 -header -column diabetes.csv.db \" \\\n",
        "select * from average_BMI\""
      ],
      "execution_count": 408,
      "outputs": [
        {
          "output_type": "stream",
          "text": [
            "Outcome      AverageBMI  AverageAge\n",
            "-----------  ----------  ----------\n",
            "no diabetes  30.3042     31.19     \n",
            "diabetes     35.1425373  37.0671641\n"
          ],
          "name": "stdout"
        }
      ]
    },
    {
      "cell_type": "markdown",
      "metadata": {
        "id": "NcuQuZjGJM4_"
      },
      "source": [
        "### Load SQL to Python"
      ]
    },
    {
      "cell_type": "markdown",
      "metadata": {
        "id": "A6AJNGW50qAm"
      },
      "source": [
        "*Import SQL to Pandas*"
      ]
    },
    {
      "cell_type": "code",
      "metadata": {
        "id": "aVbYQxEKxAAH"
      },
      "source": [
        "import pandas as pd # Import Pandas\n",
        "import sqlite3 # Import SQL"
      ],
      "execution_count": 409,
      "outputs": []
    },
    {
      "cell_type": "code",
      "metadata": {
        "id": "BQslw4v1xden"
      },
      "source": [
        "sqlite = sqlite3.connect(\"diabetes.csv.db\") # Connect to Diabetes"
      ],
      "execution_count": 410,
      "outputs": []
    },
    {
      "cell_type": "code",
      "metadata": {
        "id": "VJxcEsiryBuF",
        "colab": {
          "base_uri": "https://localhost:8080/",
          "height": 0
        },
        "outputId": "a42d7cb3-af42-47aa-8f2a-ecc463ac2312"
      },
      "source": [
        "diabetes_df = pd.read_sql_query(\"select * from diabetes_csv\",sqlite) # Load SQL to Pandas\n",
        "diabetes_df"
      ],
      "execution_count": 411,
      "outputs": [
        {
          "output_type": "execute_result",
          "data": {
            "text/html": [
              "<div>\n",
              "<style scoped>\n",
              "    .dataframe tbody tr th:only-of-type {\n",
              "        vertical-align: middle;\n",
              "    }\n",
              "\n",
              "    .dataframe tbody tr th {\n",
              "        vertical-align: top;\n",
              "    }\n",
              "\n",
              "    .dataframe thead th {\n",
              "        text-align: right;\n",
              "    }\n",
              "</style>\n",
              "<table border=\"1\" class=\"dataframe\">\n",
              "  <thead>\n",
              "    <tr style=\"text-align: right;\">\n",
              "      <th></th>\n",
              "      <th>Pregnancies</th>\n",
              "      <th>Glucose</th>\n",
              "      <th>BloodPressure</th>\n",
              "      <th>SkinThickness</th>\n",
              "      <th>Insulin</th>\n",
              "      <th>BMI</th>\n",
              "      <th>DiabetesPedigreeFunction</th>\n",
              "      <th>Age</th>\n",
              "      <th>Outcome</th>\n",
              "    </tr>\n",
              "  </thead>\n",
              "  <tbody>\n",
              "    <tr>\n",
              "      <th>0</th>\n",
              "      <td>6</td>\n",
              "      <td>148</td>\n",
              "      <td>72</td>\n",
              "      <td>35</td>\n",
              "      <td>0</td>\n",
              "      <td>33.6</td>\n",
              "      <td>0.627</td>\n",
              "      <td>50</td>\n",
              "      <td>1</td>\n",
              "    </tr>\n",
              "    <tr>\n",
              "      <th>1</th>\n",
              "      <td>1</td>\n",
              "      <td>85</td>\n",
              "      <td>66</td>\n",
              "      <td>29</td>\n",
              "      <td>0</td>\n",
              "      <td>26.6</td>\n",
              "      <td>0.351</td>\n",
              "      <td>31</td>\n",
              "      <td>0</td>\n",
              "    </tr>\n",
              "    <tr>\n",
              "      <th>2</th>\n",
              "      <td>8</td>\n",
              "      <td>183</td>\n",
              "      <td>64</td>\n",
              "      <td>0</td>\n",
              "      <td>0</td>\n",
              "      <td>23.3</td>\n",
              "      <td>0.672</td>\n",
              "      <td>32</td>\n",
              "      <td>1</td>\n",
              "    </tr>\n",
              "    <tr>\n",
              "      <th>3</th>\n",
              "      <td>1</td>\n",
              "      <td>89</td>\n",
              "      <td>66</td>\n",
              "      <td>23</td>\n",
              "      <td>94</td>\n",
              "      <td>28.1</td>\n",
              "      <td>0.167</td>\n",
              "      <td>21</td>\n",
              "      <td>0</td>\n",
              "    </tr>\n",
              "    <tr>\n",
              "      <th>4</th>\n",
              "      <td>0</td>\n",
              "      <td>137</td>\n",
              "      <td>40</td>\n",
              "      <td>35</td>\n",
              "      <td>168</td>\n",
              "      <td>43.1</td>\n",
              "      <td>2.288</td>\n",
              "      <td>33</td>\n",
              "      <td>1</td>\n",
              "    </tr>\n",
              "    <tr>\n",
              "      <th>...</th>\n",
              "      <td>...</td>\n",
              "      <td>...</td>\n",
              "      <td>...</td>\n",
              "      <td>...</td>\n",
              "      <td>...</td>\n",
              "      <td>...</td>\n",
              "      <td>...</td>\n",
              "      <td>...</td>\n",
              "      <td>...</td>\n",
              "    </tr>\n",
              "    <tr>\n",
              "      <th>763</th>\n",
              "      <td>10</td>\n",
              "      <td>101</td>\n",
              "      <td>76</td>\n",
              "      <td>48</td>\n",
              "      <td>180</td>\n",
              "      <td>32.9</td>\n",
              "      <td>0.171</td>\n",
              "      <td>63</td>\n",
              "      <td>0</td>\n",
              "    </tr>\n",
              "    <tr>\n",
              "      <th>764</th>\n",
              "      <td>2</td>\n",
              "      <td>122</td>\n",
              "      <td>70</td>\n",
              "      <td>27</td>\n",
              "      <td>0</td>\n",
              "      <td>36.8</td>\n",
              "      <td>0.34</td>\n",
              "      <td>27</td>\n",
              "      <td>0</td>\n",
              "    </tr>\n",
              "    <tr>\n",
              "      <th>765</th>\n",
              "      <td>5</td>\n",
              "      <td>121</td>\n",
              "      <td>72</td>\n",
              "      <td>23</td>\n",
              "      <td>112</td>\n",
              "      <td>26.2</td>\n",
              "      <td>0.245</td>\n",
              "      <td>30</td>\n",
              "      <td>0</td>\n",
              "    </tr>\n",
              "    <tr>\n",
              "      <th>766</th>\n",
              "      <td>1</td>\n",
              "      <td>126</td>\n",
              "      <td>60</td>\n",
              "      <td>0</td>\n",
              "      <td>0</td>\n",
              "      <td>30.1</td>\n",
              "      <td>0.349</td>\n",
              "      <td>47</td>\n",
              "      <td>1</td>\n",
              "    </tr>\n",
              "    <tr>\n",
              "      <th>767</th>\n",
              "      <td>1</td>\n",
              "      <td>93</td>\n",
              "      <td>70</td>\n",
              "      <td>31</td>\n",
              "      <td>0</td>\n",
              "      <td>30.4</td>\n",
              "      <td>0.315</td>\n",
              "      <td>23</td>\n",
              "      <td>0</td>\n",
              "    </tr>\n",
              "  </tbody>\n",
              "</table>\n",
              "<p>768 rows × 9 columns</p>\n",
              "</div>"
            ],
            "text/plain": [
              "    Pregnancies Glucose BloodPressure  ... DiabetesPedigreeFunction Age Outcome\n",
              "0             6     148            72  ...                    0.627  50       1\n",
              "1             1      85            66  ...                    0.351  31       0\n",
              "2             8     183            64  ...                    0.672  32       1\n",
              "3             1      89            66  ...                    0.167  21       0\n",
              "4             0     137            40  ...                    2.288  33       1\n",
              "..          ...     ...           ...  ...                      ...  ..     ...\n",
              "763          10     101            76  ...                    0.171  63       0\n",
              "764           2     122            70  ...                     0.34  27       0\n",
              "765           5     121            72  ...                    0.245  30       0\n",
              "766           1     126            60  ...                    0.349  47       1\n",
              "767           1      93            70  ...                    0.315  23       0\n",
              "\n",
              "[768 rows x 9 columns]"
            ]
          },
          "metadata": {
            "tags": []
          },
          "execution_count": 411
        }
      ]
    },
    {
      "cell_type": "code",
      "metadata": {
        "id": "uRC9--nY-PKB"
      },
      "source": [
        "diabetesX=diabetes_df[diabetes_df.columns[:8]]"
      ],
      "execution_count": 412,
      "outputs": []
    },
    {
      "cell_type": "code",
      "metadata": {
        "id": "RQN8R94A-_qk"
      },
      "source": [
        "diabetesY=diabetes_df[diabetes_df.columns[8:]]"
      ],
      "execution_count": 413,
      "outputs": []
    },
    {
      "cell_type": "markdown",
      "metadata": {
        "id": "P5_uCXVgJV5I"
      },
      "source": [
        "## [>](https://datascienceplus.com/machine-learning-for-diabetes-with-python/) Do Machine Learning!"
      ]
    },
    {
      "cell_type": "markdown",
      "metadata": {
        "id": "v_6ewekhHmlt"
      },
      "source": [
        "*Split into Test and Training*"
      ]
    },
    {
      "cell_type": "code",
      "metadata": {
        "id": "dhsvkcUpC8WJ"
      },
      "source": [
        "from sklearn.model_selection import train_test_split\n",
        "from sklearn.preprocessing import StandardScaler\n",
        "X_train, X_test, y_train, y_test = train_test_split(StandardScaler().fit_transform(diabetesX), diabetesY, test_size=0.5, random_state=42)"
      ],
      "execution_count": 414,
      "outputs": []
    },
    {
      "cell_type": "markdown",
      "metadata": {
        "id": "-s-lkGmrHdKe"
      },
      "source": [
        "*Predict Diabetes Using ML Model*"
      ]
    },
    {
      "cell_type": "code",
      "metadata": {
        "id": "mJdbH6eY9Oo4"
      },
      "source": [
        "import sklearn\n",
        "from sklearn.linear_model import LogisticRegression\n",
        "logreg = LogisticRegression().fit(X_train, y_train.values.ravel())"
      ],
      "execution_count": 415,
      "outputs": []
    },
    {
      "cell_type": "markdown",
      "metadata": {
        "id": "JIqnwHfylSeP"
      },
      "source": [
        "*Calculate Accuracy on Test and Training Data*"
      ]
    },
    {
      "cell_type": "code",
      "metadata": {
        "id": "4syC14mmlKII",
        "outputId": "ca0dd930-d019-4828-b710-32bdbfb141dd",
        "colab": {
          "base_uri": "https://localhost:8080/"
        }
      },
      "source": [
        "print(\"Training accuracy: {:d}%\".format(round(logreg.score(X_train, y_train)*100),0))\n",
        "print(\"Test accuracy: {:d}%\".format(round(logreg.score(X_test, y_test)*100))) "
      ],
      "execution_count": 416,
      "outputs": [
        {
          "output_type": "stream",
          "text": [
            "Training accuracy: 77%\n",
            "Test accuracy: 79%\n"
          ],
          "name": "stdout"
        }
      ]
    },
    {
      "cell_type": "markdown",
      "metadata": {
        "id": "r7zKz8d2HsMb"
      },
      "source": [
        "*Plot Weight Matrix*"
      ]
    },
    {
      "cell_type": "code",
      "metadata": {
        "colab": {
          "base_uri": "https://localhost:8080/",
          "height": 0
        },
        "id": "ZiRGaxKW_mPc",
        "outputId": "679c4fe4-0230-4eb6-c56d-281050a56cdf"
      },
      "source": [
        "import matplotlib.pyplot as plt\n",
        "diabetes_features = [x for i,x in enumerate(diabetes_df.columns)]\n",
        "plt.figure(figsize=(12,8))\n",
        "plt.rcParams.update({'font.size': 22})\n",
        "plt.plot(logreg.coef_.T, 'o', label=\"Weight\", markersize=22)\n",
        "plt.xticks(range(diabetes_df.shape[1]), diabetes_features, rotation=90)\n",
        "plt.hlines(0, 0, diabetes_df.shape[1])\n",
        "plt.ylim(-.5, 1.3)\n",
        "plt.xlabel(\"Feature\")\n",
        "plt.ylabel(\"Weights Matrix\")\n",
        "plt.legend()"
      ],
      "execution_count": 417,
      "outputs": [
        {
          "output_type": "execute_result",
          "data": {
            "text/plain": [
              "<matplotlib.legend.Legend at 0x7fc323ed9a90>"
            ]
          },
          "metadata": {
            "tags": []
          },
          "execution_count": 417
        },
        {
          "output_type": "display_data",
          "data": {
            "image/png": "[encoded data removed]",
            "text/plain": [
              "<Figure size 864x576 with 1 Axes>"
            ]
          },
          "metadata": {
            "tags": [],
            "needs_background": "light"
          }
        }
      ]
    },
    {
      "cell_type": "markdown",
      "metadata": {
        "id": "Bb9jXtfGJ0TV"
      },
      "source": [
        "*How do we use this and what does it mean?*"
      ]
    },
    {
      "cell_type": "markdown",
      "metadata": {
        "id": "2SWpkjRyJ30H"
      },
      "source": [
        "LARGER numbers mean MORE important to predict the Outcome! In this example, Glucose and BMI seem to be the MOST IMPORTANT to predict diabetes in patients!"
      ]
    },
    {
      "cell_type": "markdown",
      "metadata": {
        "id": "O17tJgJEQgWx"
      },
      "source": [
        "*Logistic Regression Confusion Matrix*"
      ]
    },
    {
      "cell_type": "code",
      "metadata": {
        "colab": {
          "base_uri": "https://localhost:8080/"
        },
        "id": "OXrntcMpLVOm",
        "outputId": "fa48abaa-aa5c-4f70-e50a-088f8e35f6ab"
      },
      "source": [
        "import matplotlib.pyplot as plt\n",
        "import seaborn as sns\n",
        "from sklearn import metrics\n",
        "import numpy as np\n",
        "predictions = logreg.predict(X_test)\n",
        "cm = metrics.confusion_matrix(y_test, predictions)\n",
        "print(cm)"
      ],
      "execution_count": 418,
      "outputs": [
        {
          "output_type": "stream",
          "text": [
            "[[216  38]\n",
            " [ 44  86]]\n"
          ],
          "name": "stdout"
        }
      ]
    },
    {
      "cell_type": "code",
      "metadata": {
        "colab": {
          "base_uri": "https://localhost:8080/",
          "height": 0
        },
        "id": "S2gscmyrPaBI",
        "outputId": "8f242595-7a6c-4fd7-8a02-65b6bbac8630"
      },
      "source": [
        "# import required modules\n",
        "import numpy as np\n",
        "import matplotlib.pyplot as plt\n",
        "import seaborn as sns\n",
        "%matplotlib inline\n",
        "\n",
        "plt.figure(figsize=(12,8))\n",
        "sns.heatmap(pd.DataFrame(cm), annot=True, cmap=\"YlGnBu\" ,fmt='g',annot_kws={\"fontsize\":32})\n",
        "\n",
        "plt.tight_layout()\n",
        "tick_marks = np.arange(2)\n",
        "plt.xticks(tick_marks, [\"                                              Diabetes\", \"                                                      Not Diabetes\"], size = 15)\n",
        "plt.yticks(tick_marks, [\"Diabetes                        \", \"Not Diabetes                       \"], size = 15)\n",
        "plt.tight_layout()\n",
        "plt.title('Confusion matrix', y=1.1, size = 20)\n",
        "plt.ylabel('Actual label', size = 20)\n",
        "plt.xlabel('Predicted label', size = 20)"
      ],
      "execution_count": 419,
      "outputs": [
        {
          "output_type": "execute_result",
          "data": {
            "text/plain": [
              "Text(0.5, 1.7999999999999972, 'Predicted label')"
            ]
          },
          "metadata": {
            "tags": []
          },
          "execution_count": 419
        },
        {
          "output_type": "display_data",
          "data": {
            "image/png": "[encoded data removed]",
            "text/plain": [
              "<Figure size 864x576 with 2 Axes>"
            ]
          },
          "metadata": {
            "tags": [],
            "needs_background": "light"
          }
        }
      ]
    },
    {
      "cell_type": "markdown",
      "metadata": {
        "id": "kBvyGeSsRfLD"
      },
      "source": [
        " *What's missing from our model?*"
      ]
    },
    {
      "cell_type": "markdown",
      "metadata": {
        "id": "jaPu0HubRksB"
      },
      "source": [
        "The ML model has more information than just 'Diabetes' and 'Not Diabetes' but a number between 0 and 1! What could we use this for? Could we make a risk score using this as a percentage likelihood that the patient has diabetes rather than simply saying 'Diabetes' and 'Not Diabetes'?"
      ]
    },
    {
      "cell_type": "markdown",
      "metadata": {
        "id": "6slUNXmuJl3z"
      },
      "source": [
        "### Save the Results in SQL"
      ]
    },
    {
      "cell_type": "markdown",
      "metadata": {
        "id": "OQnh6guO85Bc"
      },
      "source": [
        "*Save Weights in SQL Database*"
      ]
    },
    {
      "cell_type": "code",
      "metadata": {
        "id": "A3X_1WDrF9Yj"
      },
      "source": [
        "diabetes_ml = pd.DataFrame(logreg.coef_.T) # Export Weight Matrix\n",
        "diabetes_ml.columns = ['weight'] # Change column name to 'weight' "
      ],
      "execution_count": 420,
      "outputs": []
    },
    {
      "cell_type": "code",
      "metadata": {
        "colab": {
          "base_uri": "https://localhost:8080/",
          "height": 0
        },
        "id": "5fX7GsKRGFxm",
        "outputId": "aee111a3-e0d2-4734-9d57-d030a79381ff"
      },
      "source": [
        "diabetes_ml[\"variable\"] = pd.DataFrame(diabetes_features) # Include Column Names\n",
        "diabetes_ml"
      ],
      "execution_count": 421,
      "outputs": [
        {
          "output_type": "execute_result",
          "data": {
            "text/html": [
              "<div>\n",
              "<style scoped>\n",
              "    .dataframe tbody tr th:only-of-type {\n",
              "        vertical-align: middle;\n",
              "    }\n",
              "\n",
              "    .dataframe tbody tr th {\n",
              "        vertical-align: top;\n",
              "    }\n",
              "\n",
              "    .dataframe thead th {\n",
              "        text-align: right;\n",
              "    }\n",
              "</style>\n",
              "<table border=\"1\" class=\"dataframe\">\n",
              "  <thead>\n",
              "    <tr style=\"text-align: right;\">\n",
              "      <th></th>\n",
              "      <th>weight</th>\n",
              "      <th>variable</th>\n",
              "    </tr>\n",
              "  </thead>\n",
              "  <tbody>\n",
              "    <tr>\n",
              "      <th>0</th>\n",
              "      <td>0.254279</td>\n",
              "      <td>Pregnancies</td>\n",
              "    </tr>\n",
              "    <tr>\n",
              "      <th>1</th>\n",
              "      <td>0.998293</td>\n",
              "      <td>Glucose</td>\n",
              "    </tr>\n",
              "    <tr>\n",
              "      <th>2</th>\n",
              "      <td>-0.258662</td>\n",
              "      <td>BloodPressure</td>\n",
              "    </tr>\n",
              "    <tr>\n",
              "      <th>3</th>\n",
              "      <td>-0.125226</td>\n",
              "      <td>SkinThickness</td>\n",
              "    </tr>\n",
              "    <tr>\n",
              "      <th>4</th>\n",
              "      <td>0.101080</td>\n",
              "      <td>Insulin</td>\n",
              "    </tr>\n",
              "    <tr>\n",
              "      <th>5</th>\n",
              "      <td>0.943905</td>\n",
              "      <td>BMI</td>\n",
              "    </tr>\n",
              "    <tr>\n",
              "      <th>6</th>\n",
              "      <td>0.186330</td>\n",
              "      <td>DiabetesPedigreeFunction</td>\n",
              "    </tr>\n",
              "    <tr>\n",
              "      <th>7</th>\n",
              "      <td>0.280974</td>\n",
              "      <td>Age</td>\n",
              "    </tr>\n",
              "  </tbody>\n",
              "</table>\n",
              "</div>"
            ],
            "text/plain": [
              "     weight                  variable\n",
              "0  0.254279               Pregnancies\n",
              "1  0.998293                   Glucose\n",
              "2 -0.258662             BloodPressure\n",
              "3 -0.125226             SkinThickness\n",
              "4  0.101080                   Insulin\n",
              "5  0.943905                       BMI\n",
              "6  0.186330  DiabetesPedigreeFunction\n",
              "7  0.280974                       Age"
            ]
          },
          "metadata": {
            "tags": []
          },
          "execution_count": 421
        }
      ]
    },
    {
      "cell_type": "code",
      "metadata": {
        "id": "ta-Y9qvxzHhg"
      },
      "source": [
        "diabetes_ml.to_sql(\"diabetes_ml\",sqlite, if_exists=\"replace\") # Save Pandas Dataframe to SQL"
      ],
      "execution_count": 422,
      "outputs": []
    },
    {
      "cell_type": "code",
      "metadata": {
        "colab": {
          "base_uri": "https://localhost:8080/"
        },
        "id": "Avoxytki5cKF",
        "outputId": "6e0bffcd-6a07-42a5-925b-f78c8f0d5e59"
      },
      "source": [
        "!sqlite3 diabetes.csv.db \".tables\" # List SQL Tables (Like Excel 'Sheets')"
      ],
      "execution_count": 423,
      "outputs": [
        {
          "output_type": "stream",
          "text": [
            "average_BMI   diabetes_csv  diabetes_ml \n"
          ],
          "name": "stdout"
        }
      ]
    },
    {
      "cell_type": "markdown",
      "metadata": {
        "id": "W5RkuBtOKyW_"
      },
      "source": [
        "*Make a Report of the Weights by Importance*"
      ]
    },
    {
      "cell_type": "code",
      "metadata": {
        "colab": {
          "base_uri": "https://localhost:8080/"
        },
        "id": "NT3Vr1mA13ls",
        "outputId": "74959ed7-669c-4335-839b-3516415b4eb8"
      },
      "source": [
        "!sqlite3 -header -column diabetes.csv.db \" \\\n",
        "select variable,round(weight,1) as weight from diabetes_ml order by abs(weight) desc\""
      ],
      "execution_count": 424,
      "outputs": [
        {
          "output_type": "stream",
          "text": [
            "variable    weight    \n",
            "----------  ----------\n",
            "Glucose     1.0       \n",
            "BMI         0.9       \n",
            "Age         0.3       \n",
            "BloodPress  -0.3      \n",
            "Pregnancie  0.3       \n",
            "DiabetesPe  0.2       \n",
            "SkinThickn  -0.1      \n",
            "Insulin     0.1       \n"
          ],
          "name": "stdout"
        }
      ]
    },
    {
      "cell_type": "code",
      "metadata": {
        "id": "ZhEkQAiL5QE_"
      },
      "source": [
        "sqlite.close() # Disconnect from SQL"
      ],
      "execution_count": 425,
      "outputs": []
    },
    {
      "cell_type": "markdown",
      "metadata": {
        "id": "YCKfEw70e-T9"
      },
      "source": [
        "## [>](https://github.com/Anny8910/Decision-Tree-Classification-on-Diabetes-Dataset/blob/master/Diabetes_set_(Decision_tree).ipynb) Another ML Model, the Decision Tree!"
      ]
    },
    {
      "cell_type": "markdown",
      "metadata": {
        "id": "1_iRFilLqe29"
      },
      "source": [
        "*Can a simple algorithm like this be accurate?*"
      ]
    },
    {
      "cell_type": "markdown",
      "metadata": {
        "id": "rbv_X3KUqZG6"
      },
      "source": [
        "![](https://www.analyticsindiamag.com/wp-content/uploads/2019/01/decisn-tree.jpg)"
      ]
    },
    {
      "cell_type": "markdown",
      "metadata": {
        "id": "tAPRvZCUppMw"
      },
      "source": [
        "*Split into Test and Training*"
      ]
    },
    {
      "cell_type": "code",
      "metadata": {
        "id": "4fZUsr6RpiWh"
      },
      "source": [
        "from sklearn.model_selection import train_test_split\n",
        "X_train, X_test, y_train, y_test = train_test_split(diabetesX, diabetesY, test_size=0.5, random_state=42) # Split into Test and Training datasets"
      ],
      "execution_count": 426,
      "outputs": []
    },
    {
      "cell_type": "code",
      "metadata": {
        "id": "1CrCBaQLe9eB"
      },
      "source": [
        "from sklearn.tree import DecisionTreeClassifier # Import Decision Tree Classifier\n",
        "model = DecisionTreeClassifier(criterion=\"entropy\", max_depth=1) # Create Decision Tree classifer object\n",
        "model = model.fit(X_train,y_train.values.ravel()) # Train Decision Tree Classifer"
      ],
      "execution_count": 427,
      "outputs": []
    },
    {
      "cell_type": "code",
      "metadata": {
        "colab": {
          "base_uri": "https://localhost:8080/",
          "height": 0
        },
        "id": "HZQYUObwgMrC",
        "outputId": "7dad45e2-8c73-4f38-ef7c-481338443244"
      },
      "source": [
        "from sklearn.externals.six import StringIO  \n",
        "from IPython.display import Image  \n",
        "from sklearn.tree import export_graphviz\n",
        "import pydotplus\n",
        "dot_data = StringIO()\n",
        "export_graphviz(model, out_file=dot_data,filled=True, rounded=True,special_characters=True, feature_names = diabetesX.columns,class_names=['Not Diabetic','Diabetic'])\n",
        "graph = pydotplus.graph_from_dot_data(dot_data.getvalue())  \n",
        "Image(graph.create_png())"
      ],
      "execution_count": 428,
      "outputs": [
        {
          "output_type": "execute_result",
          "data": {
            "image/png": "[encoded data removed]",
            "text/plain": [
              "<IPython.core.display.Image object>"
            ]
          },
          "metadata": {
            "tags": []
          },
          "execution_count": 428
        }
      ]
    },
    {
      "cell_type": "markdown",
      "metadata": {
        "id": "ZphWosNvi8XJ"
      },
      "source": [
        "*Calculate Accuracy on Test and Training Data*"
      ]
    },
    {
      "cell_type": "code",
      "metadata": {
        "colab": {
          "base_uri": "https://localhost:8080/"
        },
        "id": "yPlhDIYWi5ov",
        "outputId": "bdff96a8-47f5-4cb1-fa15-2f213ff52000"
      },
      "source": [
        "from sklearn import metrics #Import scikit-learn metrics module for accuracy calculation\n",
        "y_pred_train = model.predict(X_train) # Predict the response for train dataset\n",
        "y_pred_test = model.predict(X_test) # Predict the response for test dataset\n",
        "print(\"Training accuracy: {:d}%\".format(round(metrics.accuracy_score(y_train, y_pred_train)*100)))\n",
        "print(\"Test accuracy: {:d}%\".format(round(metrics.accuracy_score(y_test, y_pred_test)*100)))"
      ],
      "execution_count": 429,
      "outputs": [
        {
          "output_type": "stream",
          "text": [
            "Training accuracy: 75%\n",
            "Test accuracy: 75%\n"
          ],
          "name": "stdout"
        }
      ]
    },
    {
      "cell_type": "markdown",
      "metadata": {
        "id": "sMym6KfBmlQO"
      },
      "source": [
        "[>](https://towardsdatascience.com/logistic-regression-using-python-sklearn-numpy-mnist-handwriting-recognition-matplotlib-a6b31e2b166a)  *Decision Tree Confusion Matrix* "
      ]
    },
    {
      "cell_type": "code",
      "metadata": {
        "colab": {
          "base_uri": "https://localhost:8080/"
        },
        "id": "vPBf2jETik5k",
        "outputId": "a0335038-e61a-41e0-a4c2-aabb6f5d316f"
      },
      "source": [
        "#Evaluation using Confusion matrix\n",
        "from sklearn.metrics import confusion_matrix\n",
        "cm2=confusion_matrix(y_test,y_pred)\n",
        "cm2"
      ],
      "execution_count": 430,
      "outputs": [
        {
          "output_type": "execute_result",
          "data": {
            "text/plain": [
              "array([[240,  14],\n",
              "       [ 84,  46]])"
            ]
          },
          "metadata": {
            "tags": []
          },
          "execution_count": 430
        }
      ]
    },
    {
      "cell_type": "code",
      "metadata": {
        "id": "d_knADJHkoQs",
        "outputId": "146f13f2-744e-4f3e-8b60-8b46e357a0f9",
        "colab": {
          "base_uri": "https://localhost:8080/",
          "height": 0
        }
      },
      "source": [
        "# import required modules\n",
        "import numpy as np\n",
        "import matplotlib.pyplot as plt\n",
        "import seaborn as sns\n",
        "%matplotlib inline\n",
        "\n",
        "plt.figure(figsize=(12,8))\n",
        "sns.heatmap(pd.DataFrame(cm2), annot=True, cmap=\"YlGnBu\" ,fmt='g',annot_kws={\"fontsize\":32})\n",
        "\n",
        "plt.tight_layout()\n",
        "tick_marks = np.arange(2)\n",
        "plt.xticks(tick_marks, [\"                                              Diabetes\", \"                                                      Not Diabetes\"], size = 15)\n",
        "plt.yticks(tick_marks, [\"Diabetes                        \", \"Not Diabetes                       \"], size = 15)\n",
        "plt.tight_layout()\n",
        "plt.title('Confusion matrix', y=1.1, size = 20)\n",
        "plt.ylabel('Actual label', size = 20)\n",
        "plt.xlabel('Predicted label', size = 20)"
      ],
      "execution_count": 431,
      "outputs": [
        {
          "output_type": "execute_result",
          "data": {
            "text/plain": [
              "Text(0.5, 1.7999999999999972, 'Predicted label')"
            ]
          },
          "metadata": {
            "tags": []
          },
          "execution_count": 431
        },
        {
          "output_type": "display_data",
          "data": {
            "image/png": "[encoded data removed]",
            "text/plain": [
              "<Figure size 864x576 with 2 Axes>"
            ]
          },
          "metadata": {
            "tags": [],
            "needs_background": "light"
          }
        }
      ]
    }
  ]
}
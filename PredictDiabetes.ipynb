{
  "nbformat": 4,
  "nbformat_minor": 0,
  "metadata": {
    "colab": {
      "name": "PredictDiabetes.ipynb",
      "provenance": [],
      "collapsed_sections": [
        "FuGLDVElIfZt",
        "OUknLIsX8Ob3",
        "NcuQuZjGJM4_",
        "P5_uCXVgJV5I",
        "O17tJgJEQgWx",
        "kBvyGeSsRfLD",
        "6slUNXmuJl3z"
      ],
      "toc_visible": true,
      "authorship_tag": "ABX9TyM0iHRR+ZLDWTx6C9Tb0yYf",
      "include_colab_link": true
    },
    "kernelspec": {
      "name": "python3",
      "display_name": "Python 3"
    },
    "language_info": {
      "name": "python"
    }
  },
  "cells": [
    {
      "cell_type": "markdown",
      "metadata": {
        "id": "view-in-github",
        "colab_type": "text"
      },
      "source": [
        "<a href=\"https://colab.research.google.com/github/aaroncdvd/HRBS-CA_Python_AI/blob/main/PredictDiabetes.ipynb\" target=\"_parent\"><img src=\"https://colab.research.google.com/assets/colab-badge.svg\" alt=\"Open In Colab\"/></a>"
      ]
    },
    {
      "cell_type": "markdown",
      "metadata": {
        "id": "sDB97tWjIrsY"
      },
      "source": [
        "# How can we use an ML model with the diabetes patient data?"
      ]
    },
    {
      "cell_type": "markdown",
      "metadata": {
        "id": "tECH_Ww_RPGg"
      },
      "source": [
        "![](https://miro.medium.com/max/2066/1*wWRGcsBwoXw-WNJi5UpoOw.png)"
      ]
    },
    {
      "cell_type": "markdown",
      "metadata": {
        "id": "FuGLDVElIfZt"
      },
      "source": [
        "##Preparing your data!"
      ]
    },
    {
      "cell_type": "markdown",
      "metadata": {
        "id": "3ySabPjK27Qx"
      },
      "source": [
        "*Create SQL Database*"
      ]
    },
    {
      "cell_type": "markdown",
      "metadata": {
        "id": "RoBKCo0K6JPT"
      },
      "source": [
        "![](https://hackr.io/blog/sql-cheat-sheet/thumbnail/large)"
      ]
    },
    {
      "cell_type": "code",
      "metadata": {
        "colab": {
          "base_uri": "https://localhost:8080/"
        },
        "id": "gwQsK6GIsYUV",
        "outputId": "354e15b3-a579-44a1-b3c5-950d307fbf41"
      },
      "source": [
        "!apt-get install sqlite3 # Install SQLite"
      ],
      "execution_count": null,
      "outputs": [
        {
          "output_type": "stream",
          "text": [
            "Reading package lists... Done\n",
            "Building dependency tree       \n",
            "Reading state information... Done\n",
            "The following package was automatically installed and is no longer required:\n",
            "  libnvidia-common-460\n",
            "Use 'apt autoremove' to remove it.\n",
            "Suggested packages:\n",
            "  sqlite3-doc\n",
            "The following NEW packages will be installed:\n",
            "  sqlite3\n",
            "0 upgraded, 1 newly installed, 0 to remove and 34 not upgraded.\n",
            "Need to get 752 kB of archives.\n",
            "After this operation, 2,482 kB of additional disk space will be used.\n",
            "Get:1 http://archive.ubuntu.com/ubuntu bionic-updates/main amd64 sqlite3 amd64 3.22.0-1ubuntu0.4 [752 kB]\n",
            "Fetched 752 kB in 1s (698 kB/s)\n",
            "Selecting previously unselected package sqlite3.\n",
            "(Reading database ... 160706 files and directories currently installed.)\n",
            "Preparing to unpack .../sqlite3_3.22.0-1ubuntu0.4_amd64.deb ...\n",
            "Unpacking sqlite3 (3.22.0-1ubuntu0.4) ...\n",
            "Setting up sqlite3 (3.22.0-1ubuntu0.4) ...\n",
            "Processing triggers for man-db (2.8.3-2ubuntu0.1) ...\n"
          ],
          "name": "stdout"
        }
      ]
    },
    {
      "cell_type": "code",
      "metadata": {
        "id": "AaQNOzShteAh"
      },
      "source": [
        "![ -e diabetes.csv.db ] && rm diabetes.csv.db # Remove Existing SQL Files and Load New SQL From CSV\n",
        "!wget -O - -o /dev/null 'https://raw.githubusercontent.com/plotly/datasets/master/diabetes.csv'|sqlite3 -csv diabetes.csv.db \".import /dev/stdin diabetes_csv\""
      ],
      "execution_count": null,
      "outputs": []
    },
    {
      "cell_type": "code",
      "metadata": {
        "colab": {
          "base_uri": "https://localhost:8080/"
        },
        "id": "ooDHas5B2KL4",
        "outputId": "71709f21-3ee7-4447-d1db-4ef82718f09e"
      },
      "source": [
        "!sqlite3 diabetes.csv.db \".tables\" # List SQL Tables (Like Excel 'Sheets')"
      ],
      "execution_count": null,
      "outputs": [
        {
          "output_type": "stream",
          "text": [
            "diabetes_csv\n"
          ],
          "name": "stdout"
        }
      ]
    },
    {
      "cell_type": "markdown",
      "metadata": {
        "id": "B71U1Lr14qr4"
      },
      "source": [
        "*Query Diabetes.csv using SQL*"
      ]
    },
    {
      "cell_type": "code",
      "metadata": {
        "colab": {
          "base_uri": "https://localhost:8080/"
        },
        "id": "ZggcR26w7SUt",
        "outputId": "e0c303c3-4670-4355-9a63-fc82bc3d6769"
      },
      "source": [
        "!sqlite3 -header -column diabetes.csv.db \" \\\n",
        "select rowid,* from diabetes_csv limit 1\""
      ],
      "execution_count": null,
      "outputs": [
        {
          "output_type": "stream",
          "text": [
            "rowid       Pregnancies  Glucose     BloodPressure  SkinThickness  Insulin     BMI         DiabetesPedigreeFunction  Age         Outcome   \n",
            "----------  -----------  ----------  -------------  -------------  ----------  ----------  ------------------------  ----------  ----------\n",
            "1           6            148         72             35             0           33.6        0.627                     50          1         \n"
          ],
          "name": "stdout"
        }
      ]
    },
    {
      "cell_type": "markdown",
      "metadata": {
        "id": "OUknLIsX8Ob3"
      },
      "source": [
        "##Exercise: Let's find Average BMI for patients with and without diabetes!"
      ]
    },
    {
      "cell_type": "code",
      "metadata": {
        "colab": {
          "base_uri": "https://localhost:8080/"
        },
        "id": "zjwUTrPQznGr",
        "outputId": "0185dc30-ecc2-45d1-d9f1-235131167799"
      },
      "source": [
        "!sqlite3 -header -column diabetes.csv.db \" \\\n",
        "select Outcome,avg(BMI) from diabetes_csv group by Outcome\""
      ],
      "execution_count": null,
      "outputs": [
        {
          "output_type": "stream",
          "text": [
            "Outcome     avg(BMI)  \n",
            "----------  ----------\n",
            "0           30.3042   \n",
            "1           35.1425373\n"
          ],
          "name": "stdout"
        }
      ]
    },
    {
      "cell_type": "markdown",
      "metadata": {
        "id": "gStjg-ER74-d"
      },
      "source": [
        "*Make it Pretty!*"
      ]
    },
    {
      "cell_type": "code",
      "metadata": {
        "colab": {
          "base_uri": "https://localhost:8080/"
        },
        "id": "sSTQYd7E74Vd",
        "outputId": "3a21e4b0-ea79-40b8-da6b-9daabb19412e"
      },
      "source": [
        "!sqlite3 -header -column diabetes.csv.db \" \\\n",
        "select case when Outcome=0 then 'no diabetes' else 'diabetes' end as Outcome,avg(BMI) AveraveBMI from diabetes_csv group by Outcome\""
      ],
      "execution_count": null,
      "outputs": [
        {
          "output_type": "stream",
          "text": [
            "Outcome      AveraveBMI\n",
            "-----------  ----------\n",
            "no diabetes  30.3042   \n",
            "diabetes     35.1425373\n"
          ],
          "name": "stdout"
        }
      ]
    },
    {
      "cell_type": "markdown",
      "metadata": {
        "id": "UUcd8syR2JzD"
      },
      "source": [
        "*Save the results as a Virtual Table: Average_BMI*"
      ]
    },
    {
      "cell_type": "code",
      "metadata": {
        "id": "5cdoivNmzjOE"
      },
      "source": [
        "!sqlite3 diabetes.csv.db \"drop view if exists average_bmi; create view average_bmi as \\\n",
        "select case when Outcome=0 then 'no diabetes' else 'diabetes' end as Outcome,avg(BMI) AverageBMI from diabetes_csv group by Outcome\""
      ],
      "execution_count": null,
      "outputs": []
    },
    {
      "cell_type": "code",
      "metadata": {
        "colab": {
          "base_uri": "https://localhost:8080/"
        },
        "id": "YJRAEBzH5Z9e",
        "outputId": "59f6cb0e-21f8-47d3-8f34-a055a4c7f41d"
      },
      "source": [
        "!sqlite3 diabetes.csv.db \".tables\" # List SQL Tables (Like Excel 'Sheets')"
      ],
      "execution_count": null,
      "outputs": [
        {
          "output_type": "stream",
          "text": [
            "average_bmi   diabetes_csv  diabetes_ml \n"
          ],
          "name": "stdout"
        }
      ]
    },
    {
      "cell_type": "markdown",
      "metadata": {
        "id": "pY_6m-9x2MxI"
      },
      "source": [
        "*Query Virtual Table*"
      ]
    },
    {
      "cell_type": "code",
      "metadata": {
        "colab": {
          "base_uri": "https://localhost:8080/"
        },
        "id": "dhOPGH9-1h3U",
        "outputId": "ee9e7cee-0037-4644-8a69-6e38eb5f28e9"
      },
      "source": [
        "!sqlite3 -header -column diabetes.csv.db \" \\\n",
        "select * from average_BMI\""
      ],
      "execution_count": null,
      "outputs": [
        {
          "output_type": "stream",
          "text": [
            "Outcome      avg(BMI)  \n",
            "-----------  ----------\n",
            "no diabetes  30.3042   \n",
            "diabetes     35.1425373\n"
          ],
          "name": "stdout"
        }
      ]
    },
    {
      "cell_type": "markdown",
      "metadata": {
        "id": "NcuQuZjGJM4_"
      },
      "source": [
        "## Load Data to Python"
      ]
    },
    {
      "cell_type": "markdown",
      "metadata": {
        "id": "A6AJNGW50qAm"
      },
      "source": [
        "*Import SQL to Pandas*"
      ]
    },
    {
      "cell_type": "code",
      "metadata": {
        "id": "aVbYQxEKxAAH"
      },
      "source": [
        "import pandas as pd # Import Pandas\n",
        "import sqlite3 # Import SQL"
      ],
      "execution_count": null,
      "outputs": []
    },
    {
      "cell_type": "code",
      "metadata": {
        "id": "BQslw4v1xden"
      },
      "source": [
        "sqlite = sqlite3.connect(\"diabetes.csv.db\") # Connect to Diabetes"
      ],
      "execution_count": null,
      "outputs": []
    },
    {
      "cell_type": "code",
      "metadata": {
        "id": "VJxcEsiryBuF",
        "colab": {
          "base_uri": "https://localhost:8080/",
          "height": 419
        },
        "outputId": "8150b723-ee6d-4b7f-8784-4e158f3404ac"
      },
      "source": [
        "diabetes_df = pd.read_sql_query(\"select * from diabetes_csv\",sqlite) # Load SQL to Pandas\n",
        "diabetes_df"
      ],
      "execution_count": null,
      "outputs": [
        {
          "output_type": "execute_result",
          "data": {
            "text/html": [
              "<div>\n",
              "<style scoped>\n",
              "    .dataframe tbody tr th:only-of-type {\n",
              "        vertical-align: middle;\n",
              "    }\n",
              "\n",
              "    .dataframe tbody tr th {\n",
              "        vertical-align: top;\n",
              "    }\n",
              "\n",
              "    .dataframe thead th {\n",
              "        text-align: right;\n",
              "    }\n",
              "</style>\n",
              "<table border=\"1\" class=\"dataframe\">\n",
              "  <thead>\n",
              "    <tr style=\"text-align: right;\">\n",
              "      <th></th>\n",
              "      <th>Pregnancies</th>\n",
              "      <th>Glucose</th>\n",
              "      <th>BloodPressure</th>\n",
              "      <th>SkinThickness</th>\n",
              "      <th>Insulin</th>\n",
              "      <th>BMI</th>\n",
              "      <th>DiabetesPedigreeFunction</th>\n",
              "      <th>Age</th>\n",
              "      <th>Outcome</th>\n",
              "    </tr>\n",
              "  </thead>\n",
              "  <tbody>\n",
              "    <tr>\n",
              "      <th>0</th>\n",
              "      <td>6</td>\n",
              "      <td>148</td>\n",
              "      <td>72</td>\n",
              "      <td>35</td>\n",
              "      <td>0</td>\n",
              "      <td>33.6</td>\n",
              "      <td>0.627</td>\n",
              "      <td>50</td>\n",
              "      <td>1</td>\n",
              "    </tr>\n",
              "    <tr>\n",
              "      <th>1</th>\n",
              "      <td>1</td>\n",
              "      <td>85</td>\n",
              "      <td>66</td>\n",
              "      <td>29</td>\n",
              "      <td>0</td>\n",
              "      <td>26.6</td>\n",
              "      <td>0.351</td>\n",
              "      <td>31</td>\n",
              "      <td>0</td>\n",
              "    </tr>\n",
              "    <tr>\n",
              "      <th>2</th>\n",
              "      <td>8</td>\n",
              "      <td>183</td>\n",
              "      <td>64</td>\n",
              "      <td>0</td>\n",
              "      <td>0</td>\n",
              "      <td>23.3</td>\n",
              "      <td>0.672</td>\n",
              "      <td>32</td>\n",
              "      <td>1</td>\n",
              "    </tr>\n",
              "    <tr>\n",
              "      <th>3</th>\n",
              "      <td>1</td>\n",
              "      <td>89</td>\n",
              "      <td>66</td>\n",
              "      <td>23</td>\n",
              "      <td>94</td>\n",
              "      <td>28.1</td>\n",
              "      <td>0.167</td>\n",
              "      <td>21</td>\n",
              "      <td>0</td>\n",
              "    </tr>\n",
              "    <tr>\n",
              "      <th>4</th>\n",
              "      <td>0</td>\n",
              "      <td>137</td>\n",
              "      <td>40</td>\n",
              "      <td>35</td>\n",
              "      <td>168</td>\n",
              "      <td>43.1</td>\n",
              "      <td>2.288</td>\n",
              "      <td>33</td>\n",
              "      <td>1</td>\n",
              "    </tr>\n",
              "    <tr>\n",
              "      <th>...</th>\n",
              "      <td>...</td>\n",
              "      <td>...</td>\n",
              "      <td>...</td>\n",
              "      <td>...</td>\n",
              "      <td>...</td>\n",
              "      <td>...</td>\n",
              "      <td>...</td>\n",
              "      <td>...</td>\n",
              "      <td>...</td>\n",
              "    </tr>\n",
              "    <tr>\n",
              "      <th>763</th>\n",
              "      <td>10</td>\n",
              "      <td>101</td>\n",
              "      <td>76</td>\n",
              "      <td>48</td>\n",
              "      <td>180</td>\n",
              "      <td>32.9</td>\n",
              "      <td>0.171</td>\n",
              "      <td>63</td>\n",
              "      <td>0</td>\n",
              "    </tr>\n",
              "    <tr>\n",
              "      <th>764</th>\n",
              "      <td>2</td>\n",
              "      <td>122</td>\n",
              "      <td>70</td>\n",
              "      <td>27</td>\n",
              "      <td>0</td>\n",
              "      <td>36.8</td>\n",
              "      <td>0.34</td>\n",
              "      <td>27</td>\n",
              "      <td>0</td>\n",
              "    </tr>\n",
              "    <tr>\n",
              "      <th>765</th>\n",
              "      <td>5</td>\n",
              "      <td>121</td>\n",
              "      <td>72</td>\n",
              "      <td>23</td>\n",
              "      <td>112</td>\n",
              "      <td>26.2</td>\n",
              "      <td>0.245</td>\n",
              "      <td>30</td>\n",
              "      <td>0</td>\n",
              "    </tr>\n",
              "    <tr>\n",
              "      <th>766</th>\n",
              "      <td>1</td>\n",
              "      <td>126</td>\n",
              "      <td>60</td>\n",
              "      <td>0</td>\n",
              "      <td>0</td>\n",
              "      <td>30.1</td>\n",
              "      <td>0.349</td>\n",
              "      <td>47</td>\n",
              "      <td>1</td>\n",
              "    </tr>\n",
              "    <tr>\n",
              "      <th>767</th>\n",
              "      <td>1</td>\n",
              "      <td>93</td>\n",
              "      <td>70</td>\n",
              "      <td>31</td>\n",
              "      <td>0</td>\n",
              "      <td>30.4</td>\n",
              "      <td>0.315</td>\n",
              "      <td>23</td>\n",
              "      <td>0</td>\n",
              "    </tr>\n",
              "  </tbody>\n",
              "</table>\n",
              "<p>768 rows × 9 columns</p>\n",
              "</div>"
            ],
            "text/plain": [
              "    Pregnancies Glucose BloodPressure  ... DiabetesPedigreeFunction Age Outcome\n",
              "0             6     148            72  ...                    0.627  50       1\n",
              "1             1      85            66  ...                    0.351  31       0\n",
              "2             8     183            64  ...                    0.672  32       1\n",
              "3             1      89            66  ...                    0.167  21       0\n",
              "4             0     137            40  ...                    2.288  33       1\n",
              "..          ...     ...           ...  ...                      ...  ..     ...\n",
              "763          10     101            76  ...                    0.171  63       0\n",
              "764           2     122            70  ...                     0.34  27       0\n",
              "765           5     121            72  ...                    0.245  30       0\n",
              "766           1     126            60  ...                    0.349  47       1\n",
              "767           1      93            70  ...                    0.315  23       0\n",
              "\n",
              "[768 rows x 9 columns]"
            ]
          },
          "metadata": {
            "tags": []
          },
          "execution_count": 124
        }
      ]
    },
    {
      "cell_type": "code",
      "metadata": {
        "id": "uRC9--nY-PKB"
      },
      "source": [
        "diabetesX=diabetes_df[diabetes_df.columns[:8]]"
      ],
      "execution_count": null,
      "outputs": []
    },
    {
      "cell_type": "code",
      "metadata": {
        "id": "RQN8R94A-_qk"
      },
      "source": [
        "diabetesY=diabetes_df[diabetes_df.columns[8:]]"
      ],
      "execution_count": null,
      "outputs": []
    },
    {
      "cell_type": "markdown",
      "metadata": {
        "id": "P5_uCXVgJV5I"
      },
      "source": [
        "## [>](https://datascienceplus.com/machine-learning-for-diabetes-with-python/) Do Machine Learning!"
      ]
    },
    {
      "cell_type": "markdown",
      "metadata": {
        "id": "v_6ewekhHmlt"
      },
      "source": [
        "*Split into Test and Training*"
      ]
    },
    {
      "cell_type": "code",
      "metadata": {
        "id": "dhsvkcUpC8WJ"
      },
      "source": [
        "from sklearn.model_selection import train_test_split\n",
        "from sklearn.preprocessing import StandardScaler\n",
        "X_train, X_test, y_train, y_test = train_test_split(StandardScaler().fit_transform(diabetesX), diabetesY, test_size=0.1, random_state=42)"
      ],
      "execution_count": null,
      "outputs": []
    },
    {
      "cell_type": "markdown",
      "metadata": {
        "id": "-s-lkGmrHdKe"
      },
      "source": [
        "*Predict Diabetes Using ML Model*"
      ]
    },
    {
      "cell_type": "code",
      "metadata": {
        "colab": {
          "base_uri": "https://localhost:8080/"
        },
        "id": "mJdbH6eY9Oo4",
        "outputId": "d4107644-0f8b-43dd-a5ad-615a07c53df6"
      },
      "source": [
        "import sklearn\n",
        "from sklearn.linear_model import LogisticRegression\n",
        "logreg = LogisticRegression().fit(X_train, y_train)\n",
        "print(\"Training set score: {:.3f}\".format(logreg.score(X_train, y_train)))\n",
        "print(\"Test set score: {:.3f}\".format(logreg.score(X_test, y_test)))"
      ],
      "execution_count": null,
      "outputs": [
        {
          "output_type": "stream",
          "text": [
            "Training set score: 0.776\n",
            "Test set score: 0.701\n"
          ],
          "name": "stdout"
        },
        {
          "output_type": "stream",
          "text": [
            "/usr/local/lib/python3.7/dist-packages/sklearn/utils/validation.py:760: DataConversionWarning: A column-vector y was passed when a 1d array was expected. Please change the shape of y to (n_samples, ), for example using ravel().\n",
            "  y = column_or_1d(y, warn=True)\n"
          ],
          "name": "stderr"
        }
      ]
    },
    {
      "cell_type": "markdown",
      "metadata": {
        "id": "r7zKz8d2HsMb"
      },
      "source": [
        "*Plot Weight Matrix*"
      ]
    },
    {
      "cell_type": "code",
      "metadata": {
        "colab": {
          "base_uri": "https://localhost:8080/",
          "height": 526
        },
        "id": "ZiRGaxKW_mPc",
        "outputId": "a0b07a74-42ba-429f-b654-ab76a627aa12"
      },
      "source": [
        "import matplotlib.pyplot as plt\n",
        "diabetes_features = [x for i,x in enumerate(diabetes_df.columns)]\n",
        "plt.figure(figsize=(8,6))\n",
        "plt.plot(logreg.coef_.T, 'o', label=\"Weight\")\n",
        "plt.xticks(range(diabetes_df.shape[1]), diabetes_features, rotation=90)\n",
        "plt.hlines(0, 0, diabetes_df.shape[1])\n",
        "plt.ylim(-.5, 1.3)\n",
        "plt.xlabel(\"Feature\")\n",
        "plt.ylabel(\"Weights Matrix\")\n",
        "plt.legend()"
      ],
      "execution_count": null,
      "outputs": [
        {
          "output_type": "execute_result",
          "data": {
            "text/plain": [
              "<matplotlib.legend.Legend at 0x7f3243ab8790>"
            ]
          },
          "metadata": {
            "tags": []
          },
          "execution_count": 107
        },
        {
          "output_type": "display_data",
          "data": {
            "image/png": "[encoded data removed]",
            "text/plain": [
              "<Figure size 576x432 with 1 Axes>"
            ]
          },
          "metadata": {
            "tags": [],
            "needs_background": "light"
          }
        }
      ]
    },
    {
      "cell_type": "markdown",
      "metadata": {
        "id": "Bb9jXtfGJ0TV"
      },
      "source": [
        "### How do we use this and what does it mean?"
      ]
    },
    {
      "cell_type": "markdown",
      "metadata": {
        "id": "2SWpkjRyJ30H"
      },
      "source": [
        "LARGER numbers mean MORE important to predict the Outcome! In this example, Glucose and BMI seem to be the MOST IMPORTANT to predict diabetes in patients!"
      ]
    },
    {
      "cell_type": "markdown",
      "metadata": {
        "id": "O17tJgJEQgWx"
      },
      "source": [
        "## [>](https://towardsdatascience.com/logistic-regression-using-python-sklearn-numpy-mnist-handwriting-recognition-matplotlib-a6b31e2b166a) Confusion Matrix"
      ]
    },
    {
      "cell_type": "code",
      "metadata": {
        "colab": {
          "base_uri": "https://localhost:8080/"
        },
        "id": "OXrntcMpLVOm",
        "outputId": "cc6e19b8-ea57-4e37-89ec-6ec2563f74ef"
      },
      "source": [
        "import matplotlib.pyplot as plt\n",
        "import seaborn as sns\n",
        "from sklearn import metrics\n",
        "import numpy as np\n",
        "predictions = logreg.predict(X_test)\n",
        "cm = metrics.confusion_matrix(y_test, predictions)\n",
        "print(cm)"
      ],
      "execution_count": null,
      "outputs": [
        {
          "output_type": "stream",
          "text": [
            "[[36 14]\n",
            " [ 9 18]]\n"
          ],
          "name": "stdout"
        }
      ]
    },
    {
      "cell_type": "code",
      "metadata": {
        "colab": {
          "base_uri": "https://localhost:8080/",
          "height": 345
        },
        "id": "S2gscmyrPaBI",
        "outputId": "88947196-8ac2-4791-8420-30a691952448"
      },
      "source": [
        "# import required modules\n",
        "import numpy as np\n",
        "import matplotlib.pyplot as plt\n",
        "import seaborn as sns\n",
        "%matplotlib inline\n",
        "\n",
        "sns.heatmap(pd.DataFrame(cm), annot=True, cmap=\"YlGnBu\" ,fmt='g')\n",
        "ax.xaxis.set_label_position(\"top\")\n",
        "plt.tight_layout()\n",
        "tick_marks = np.arange(2)\n",
        "plt.xticks(tick_marks, [\"                      Diabetes\", \"                Not Diabetes\"], size = 15)\n",
        "plt.yticks(tick_marks, [\"                      Diabetes\", \"                Not Diabetes\"], size = 15)\n",
        "plt.tight_layout()\n",
        "plt.title('Confusion matrix', y=1.1, size = 20)\n",
        "plt.ylabel('Actual label', size = 15)\n",
        "plt.xlabel('Predicted label', size = 15)"
      ],
      "execution_count": null,
      "outputs": [
        {
          "output_type": "execute_result",
          "data": {
            "text/plain": [
              "Text(0.5, 1.7999999999999972, 'Predicted label')"
            ]
          },
          "metadata": {
            "tags": []
          },
          "execution_count": 175
        },
        {
          "output_type": "display_data",
          "data": {
            "image/png": "[encoded data removed]",
            "text/plain": [
              "<Figure size 432x288 with 2 Axes>"
            ]
          },
          "metadata": {
            "tags": [],
            "needs_background": "light"
          }
        }
      ]
    },
    {
      "cell_type": "markdown",
      "metadata": {
        "id": "kBvyGeSsRfLD"
      },
      "source": [
        "## What's missing from our model?"
      ]
    },
    {
      "cell_type": "markdown",
      "metadata": {
        "id": "jaPu0HubRksB"
      },
      "source": [
        "The ML model has more information than just 'Diabetes' and 'Not Diabetes' but a number between 0 and 1! What could we use this for? Could we make a risk score using this as a percentage likelihood that the patient has diabetes rather than simply saying 'Diabetes' and 'Not Diabetes'?"
      ]
    },
    {
      "cell_type": "markdown",
      "metadata": {
        "id": "6slUNXmuJl3z"
      },
      "source": [
        "## Save the Results"
      ]
    },
    {
      "cell_type": "markdown",
      "metadata": {
        "id": "OQnh6guO85Bc"
      },
      "source": [
        "*Save Weights in SQL Database*"
      ]
    },
    {
      "cell_type": "code",
      "metadata": {
        "id": "A3X_1WDrF9Yj"
      },
      "source": [
        "diabetes_ml[\"weight\"] = pd.DataFrame(logreg.coef_.T) # Export Weight Matrix"
      ],
      "execution_count": null,
      "outputs": []
    },
    {
      "cell_type": "code",
      "metadata": {
        "colab": {
          "base_uri": "https://localhost:8080/",
          "height": 297
        },
        "id": "5fX7GsKRGFxm",
        "outputId": "1f73dc75-3ad7-460b-cf63-f33e3fdb4049"
      },
      "source": [
        "diabetes_ml[\"variable\"] = pd.DataFrame(diabetes_features) # Include Column Names\n",
        "diabetes_ml"
      ],
      "execution_count": null,
      "outputs": [
        {
          "output_type": "execute_result",
          "data": {
            "text/html": [
              "<div>\n",
              "<style scoped>\n",
              "    .dataframe tbody tr th:only-of-type {\n",
              "        vertical-align: middle;\n",
              "    }\n",
              "\n",
              "    .dataframe tbody tr th {\n",
              "        vertical-align: top;\n",
              "    }\n",
              "\n",
              "    .dataframe thead th {\n",
              "        text-align: right;\n",
              "    }\n",
              "</style>\n",
              "<table border=\"1\" class=\"dataframe\">\n",
              "  <thead>\n",
              "    <tr style=\"text-align: right;\">\n",
              "      <th></th>\n",
              "      <th>0</th>\n",
              "      <th>variable</th>\n",
              "      <th>weight</th>\n",
              "    </tr>\n",
              "  </thead>\n",
              "  <tbody>\n",
              "    <tr>\n",
              "      <th>0</th>\n",
              "      <td>0.335147</td>\n",
              "      <td>Pregnancies</td>\n",
              "      <td>0.335147</td>\n",
              "    </tr>\n",
              "    <tr>\n",
              "      <th>1</th>\n",
              "      <td>1.095746</td>\n",
              "      <td>Glucose</td>\n",
              "      <td>1.095746</td>\n",
              "    </tr>\n",
              "    <tr>\n",
              "      <th>2</th>\n",
              "      <td>-0.261345</td>\n",
              "      <td>BloodPressure</td>\n",
              "      <td>-0.261345</td>\n",
              "    </tr>\n",
              "    <tr>\n",
              "      <th>3</th>\n",
              "      <td>0.034341</td>\n",
              "      <td>SkinThickness</td>\n",
              "      <td>0.034341</td>\n",
              "    </tr>\n",
              "    <tr>\n",
              "      <th>4</th>\n",
              "      <td>-0.168987</td>\n",
              "      <td>Insulin</td>\n",
              "      <td>-0.168987</td>\n",
              "    </tr>\n",
              "    <tr>\n",
              "      <th>5</th>\n",
              "      <td>0.699556</td>\n",
              "      <td>BMI</td>\n",
              "      <td>0.699556</td>\n",
              "    </tr>\n",
              "    <tr>\n",
              "      <th>6</th>\n",
              "      <td>0.300003</td>\n",
              "      <td>DiabetesPedigreeFunction</td>\n",
              "      <td>0.300003</td>\n",
              "    </tr>\n",
              "    <tr>\n",
              "      <th>7</th>\n",
              "      <td>0.349094</td>\n",
              "      <td>Age</td>\n",
              "      <td>0.349094</td>\n",
              "    </tr>\n",
              "  </tbody>\n",
              "</table>\n",
              "</div>"
            ],
            "text/plain": [
              "          0                  variable    weight\n",
              "0  0.335147               Pregnancies  0.335147\n",
              "1  1.095746                   Glucose  1.095746\n",
              "2 -0.261345             BloodPressure -0.261345\n",
              "3  0.034341             SkinThickness  0.034341\n",
              "4 -0.168987                   Insulin -0.168987\n",
              "5  0.699556                       BMI  0.699556\n",
              "6  0.300003  DiabetesPedigreeFunction  0.300003\n",
              "7  0.349094                       Age  0.349094"
            ]
          },
          "metadata": {
            "tags": []
          },
          "execution_count": 128
        }
      ]
    },
    {
      "cell_type": "code",
      "metadata": {
        "id": "ta-Y9qvxzHhg"
      },
      "source": [
        "diabetes_ml.to_sql(\"diabetes_ml\",sqlite, if_exists=\"replace\") # Save Pandas Dataframe to SQL"
      ],
      "execution_count": null,
      "outputs": []
    },
    {
      "cell_type": "code",
      "metadata": {
        "colab": {
          "base_uri": "https://localhost:8080/"
        },
        "id": "Avoxytki5cKF",
        "outputId": "edc822b0-bcff-4a65-a2a4-1c4f645d4019"
      },
      "source": [
        "!sqlite3 diabetes.csv.db \".tables\" # List SQL Tables (Like Excel 'Sheets')"
      ],
      "execution_count": null,
      "outputs": [
        {
          "output_type": "stream",
          "text": [
            "average_bmi   diabetes_csv  diabetes_ml \n"
          ],
          "name": "stdout"
        }
      ]
    },
    {
      "cell_type": "markdown",
      "metadata": {
        "id": "W5RkuBtOKyW_"
      },
      "source": [
        "*Make a Report of the Weights by Importance*"
      ]
    },
    {
      "cell_type": "code",
      "metadata": {
        "colab": {
          "base_uri": "https://localhost:8080/"
        },
        "id": "NT3Vr1mA13ls",
        "outputId": "ea2fb718-4938-4e74-bdae-dee728e120ab"
      },
      "source": [
        "!sqlite3 -header -column diabetes.csv.db \" \\\n",
        "select variable,round(weight,1) as weight from diabetes_ml order by weight desc\""
      ],
      "execution_count": null,
      "outputs": [
        {
          "output_type": "stream",
          "text": [
            "variable    weight    \n",
            "----------  ----------\n",
            "Glucose     1.1       \n",
            "BMI         0.7       \n",
            "Pregnancie  0.3       \n",
            "DiabetesPe  0.3       \n",
            "Age         0.3       \n",
            "SkinThickn  0.0       \n",
            "Insulin     -0.2      \n",
            "BloodPress  -0.3      \n"
          ],
          "name": "stdout"
        }
      ]
    },
    {
      "cell_type": "code",
      "metadata": {
        "id": "ZhEkQAiL5QE_"
      },
      "source": [
        "sqlite.close() # Disconnect from SQL"
      ],
      "execution_count": null,
      "outputs": []
    }
  ]
}
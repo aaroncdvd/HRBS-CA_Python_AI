{
  "nbformat": 4,
  "nbformat_minor": 0,
  "metadata": {
    "colab": {
      "name": "Questions&Answers.ipynb",
      "provenance": [],
      "collapsed_sections": [
        "33lxbqpkNJg6",
        "7fX9d177pKhX",
        "Km2YWHrXeGbK",
        "NHzlo84OPzRY",
        "V26Prk-JRhD2",
        "R0TRzfKHP4k8",
        "U0bNYINaepww",
        "XhovUXcIhp6z",
        "0dKbPtpTRGJH",
        "VPJ3jZBKQKJ6",
        "IqIHbfHLoEgy",
        "PUVJzbS4nbqP",
        "oU0XB-3QK6Rf",
        "VBRCo5yj7Wh6",
        "7_Q0_BufJ6J8",
        "POoAj1lUKjIX",
        "Nk6UdAJZHNMf",
        "l_XdyIJyZIvI",
        "Jwcf3ETTHplY",
        "o9wHBCEQLl-q",
        "MGwuViAYTyaa",
        "eCG-wTciT1jo"
      ],
      "authorship_tag": "ABX9TyOHd1mw2o3aeYKtw+b83Ls1",
      "include_colab_link": true
    },
    "kernelspec": {
      "name": "python3",
      "display_name": "Python 3"
    },
    "language_info": {
      "name": "python"
    }
  },
  "cells": [
    {
      "cell_type": "markdown",
      "metadata": {
        "id": "view-in-github",
        "colab_type": "text"
      },
      "source": [
        "<a href=\"https://colab.research.google.com/github/aaroncdvd/HRBS-CA_Python_AI/blob/main/Questions%26Answers.ipynb\" target=\"_parent\"><img src=\"https://colab.research.google.com/assets/colab-badge.svg\" alt=\"Open In Colab\"/></a>"
      ]
    },
    {
      "cell_type": "markdown",
      "metadata": {
        "id": "EOZ53Jb_7NhT"
      },
      "source": [
        "# Machine Learning Questions & Answers"
      ]
    },
    {
      "cell_type": "markdown",
      "metadata": {
        "id": "ZQOEJnFScya1"
      },
      "source": [
        "Useful Links:\n",
        "\n",
        "[Tensorflow Playground](https://playground.tensorflow.org/)\n",
        "\n",
        "[Google Machine Learning Crash Course](https://developers.google.com/machine-learning/crash-course/ml-intro)\n",
        "\n",
        "[]()"
      ]
    },
    {
      "cell_type": "markdown",
      "metadata": {
        "id": "33lxbqpkNJg6"
      },
      "source": [
        "## What is Machine Learning?"
      ]
    },
    {
      "cell_type": "markdown",
      "metadata": {
        "id": "b5gCfCEdNMBR"
      },
      "source": [
        "Machine Learning discovers a function using your data that takes INPUT(S) and returns an OUTPUT, which updates iteratively in an attempt to minimize the error (maximise the accuracy). \n",
        "\n",
        "It is a SEARCH to find a function that expresses the data in a generic way that also applies to unseen data!\n",
        "\n",
        "![](http://s4.thingpic.com/images/Cp/zkZazEAuqPHGG5MMTTJfEcHu.png)"
      ]
    },
    {
      "cell_type": "markdown",
      "metadata": {
        "id": "Ck6l9O5Fd2GY"
      },
      "source": [
        "![](https://lh4.googleusercontent.com/K17BRCQTR5hHU-qOthrs9KIQa4DLAWJh5jeXkyn6NZRQfimHnCAadWbw3EaZPZl1bit2IBQPeBv1CZURiyFYkIDPH1Z3Pb0O_qkeS9av7vrEtQLpMLWdtDJ7YNlRki8CoAsY8bmn)"
      ]
    },
    {
      "cell_type": "markdown",
      "metadata": {
        "id": "GwDqd3XvdsuB"
      },
      "source": [
        "![](https://i0.wp.com/vinodsblog.com/wp-content/uploads/2018/11/Classification-vs-Regression.png?fit=2048%2C1158&ssl=1)"
      ]
    },
    {
      "cell_type": "markdown",
      "metadata": {
        "id": "VC_ZD47beYey"
      },
      "source": [
        "![](https://media-exp1.licdn.com/dms/image/C5112AQFICvyPxAdFrg/article-cover_image-shrink_720_1280/0/1524313502059?e=1625702400&v=beta&t=7LXQGVKm8eLYWRJrR2Z1ldjYp0w2bRjoZZs6YSRjYE8)"
      ]
    },
    {
      "cell_type": "markdown",
      "metadata": {
        "id": "7fX9d177pKhX"
      },
      "source": [
        "## What are the generic steps in Machine Learning projects?"
      ]
    },
    {
      "cell_type": "markdown",
      "metadata": {
        "id": "HAaWVt5XpQF5"
      },
      "source": [
        "![](https://blogs.mathworks.com/images/loren/2020/AutoML-Workflow.jpg)"
      ]
    },
    {
      "cell_type": "markdown",
      "metadata": {
        "id": "Km2YWHrXeGbK"
      },
      "source": [
        "## What models have we used in class?"
      ]
    },
    {
      "cell_type": "markdown",
      "metadata": {
        "id": "jNWrnYPyeKZI"
      },
      "source": [
        "Logistic regression and neural network for classification."
      ]
    },
    {
      "cell_type": "markdown",
      "metadata": {
        "id": "HLYQFHW9dgQN"
      },
      "source": [
        "![](https://thedatafrog.com/static/blog/images/2019/01/one_neuron.49288164e12e.png)"
      ]
    },
    {
      "cell_type": "markdown",
      "metadata": {
        "id": "jFMBo2qnlS4Z"
      },
      "source": [
        "![](https://i.stack.imgur.com/fKvva.png)"
      ]
    },
    {
      "cell_type": "markdown",
      "metadata": {
        "id": "NHzlo84OPzRY"
      },
      "source": [
        "## How does Machine Learning work?"
      ]
    },
    {
      "cell_type": "markdown",
      "metadata": {
        "id": "JWm5nAbaX8zb"
      },
      "source": [
        "Machine Learning updates weights. Updates to weights are applied based on the amount of error from the predictions."
      ]
    },
    {
      "cell_type": "markdown",
      "metadata": {
        "id": "64NLqHR2P08a"
      },
      "source": [
        "![](https://www.deepnetts.com/wp-content/uploads/2019/02/LinearRegression.png)"
      ]
    },
    {
      "cell_type": "markdown",
      "metadata": {
        "id": "ApUPKCwknXRf"
      },
      "source": [
        "The model is then used to predict new data."
      ]
    },
    {
      "cell_type": "markdown",
      "metadata": {
        "id": "c5LT27-9fRCb"
      },
      "source": [
        "![](https://blogs.sap.com/wp-content/uploads/2020/08/Fig-01-2.jpg)"
      ]
    },
    {
      "cell_type": "markdown",
      "metadata": {
        "id": "V26Prk-JRhD2"
      },
      "source": [
        "## What is the LOSS function?"
      ]
    },
    {
      "cell_type": "markdown",
      "metadata": {
        "id": "gZ7nqMfvRkm2"
      },
      "source": [
        "Imagine you are on a lake in a boat and you want to find the DEEPEST part. Your model is a LAKE that your model tries to find the deepest part of.\n",
        "\n",
        "![](https://ak.picdn.net/offset/photos/5ea1ea7cd164c0404ea4dcb4/medium/offset_931713.jpg)\n",
        "\n",
        "The DEPTH is the ERROR your model calculates and tries to MINIMIZE. The model will travel around the lake making turns and jumps to predict where the deepest part is. \n",
        "\n",
        "![](https://www.researchgate.net/profile/David-Mueller-5/publication/284587353/figure/fig1/AS:643152750854144@1530350973294/Illustration-of-a-boat-mounted-acoustic-Doppler-current-profiler-ADCP-measuring.png)"
      ]
    },
    {
      "cell_type": "markdown",
      "metadata": {
        "id": "R0TRzfKHP4k8"
      },
      "source": [
        "## How does Machine Learning minimize the error (loss)?"
      ]
    },
    {
      "cell_type": "markdown",
      "metadata": {
        "id": "21_URfM4QfTP"
      },
      "source": [
        "Weights get UPDATED based on the loss! The error is re-calculated on each update of the WEIGHTS! \n",
        "\n",
        "Weights are slopes and intercept coefficients, there can be MANY."
      ]
    },
    {
      "cell_type": "markdown",
      "metadata": {
        "id": "hKH0PV_UW_d5"
      },
      "source": [
        "![](https://madhureshkumar.files.wordpress.com/2015/07/regressioncurv.png)"
      ]
    },
    {
      "cell_type": "markdown",
      "metadata": {
        "id": "krejjvwmVVH9"
      },
      "source": [
        "![](http://rasbt.github.io/mlxtend/user_guide/general_concepts/linear-gradient-derivative_files/regression-vs-adaline.png)"
      ]
    },
    {
      "cell_type": "markdown",
      "metadata": {
        "id": "U0bNYINaepww"
      },
      "source": [
        "## What do weights mean?"
      ]
    },
    {
      "cell_type": "markdown",
      "metadata": {
        "id": "XDuPqihnevZB"
      },
      "source": [
        "Weights are slopes and intercepts. They are like RECIPIES, telling you how much of each ingredient (input variable) to add to the output. \n",
        "\n",
        "In complex models, these are used to find images with high similarity!\n",
        "\n",
        "![](https://sielearning.tafensw.edu.au/toolboxes/KitchenOps/tools/office/images/s_recipeAdjust1.gif)\n",
        "\n",
        "![](https://sielearning.tafensw.edu.au/toolboxes/KitchenOps/tools/office/images/s_recipeAdjust2.gif)\n",
        "\n"
      ]
    },
    {
      "cell_type": "markdown",
      "metadata": {
        "id": "XhovUXcIhp6z"
      },
      "source": [
        "## How can I visualize my weights?"
      ]
    },
    {
      "cell_type": "markdown",
      "metadata": {
        "id": "1V_K0v0Dhshm"
      },
      "source": [
        "Using feature importance, weights can be visualized!\n",
        "\n",
        "![](https://datascienceplus.com/wp-content/uploads/2018/03/diabetes_8.png)"
      ]
    },
    {
      "cell_type": "markdown",
      "metadata": {
        "id": "dHFcutsWi5Rm"
      },
      "source": [
        "Sometimes, they can be visualized and interpreted. For example, using images of numbers, the weights can be visualized and look like the numbers.\n",
        "\n",
        "![](https://static.packt-cdn.com/products/9781786468574/graphics/B05474_03_06.jpg)"
      ]
    },
    {
      "cell_type": "markdown",
      "metadata": {
        "id": "W9upSNdBhAzo"
      },
      "source": [
        "Here are the weights from the images above."
      ]
    },
    {
      "cell_type": "markdown",
      "metadata": {
        "id": "HKfTgvkEg1ah"
      },
      "source": [
        "![](https://scikit-learn.org/stable/_images/sphx_glr_plot_sparse_logistic_regression_mnist_001.png)"
      ]
    },
    {
      "cell_type": "markdown",
      "metadata": {
        "id": "itI-CC8QgalO"
      },
      "source": [
        "These are weights from deep learning models."
      ]
    },
    {
      "cell_type": "markdown",
      "metadata": {
        "id": "L3Z4pdmlib7i"
      },
      "source": [
        "![](https://i.stack.imgur.com/Hl2H6.png)"
      ]
    },
    {
      "cell_type": "markdown",
      "metadata": {
        "id": "0dKbPtpTRGJH"
      },
      "source": [
        "## What are hyperparameters?\n"
      ]
    },
    {
      "cell_type": "markdown",
      "metadata": {
        "id": "pjVmIsqAS7gA"
      },
      "source": [
        "In Tensorflow Playground for example, everything that can be changed is a HYPERPARAMETER!"
      ]
    },
    {
      "cell_type": "markdown",
      "metadata": {
        "id": "ZyyPm3W2S36t"
      },
      "source": [
        "![](https://image.slidesharecdn.com/tipsandtechniquesforhyperparameteroptimization-171005024938/95/tips-and-techniques-for-hyperparameter-optimization-3-638.jpg?cb=1507172077)"
      ]
    },
    {
      "cell_type": "markdown",
      "metadata": {
        "id": "VPJ3jZBKQKJ6"
      },
      "source": [
        "## How can I decrease the error?"
      ]
    },
    {
      "cell_type": "markdown",
      "metadata": {
        "id": "ilIaBzxkQ_Mr"
      },
      "source": [
        "Start with the simplest model you can, the models at the top of this picture like Linear Regression and Decision Tree, then move down if you need a higher accuracy.\n",
        "\n",
        "You can also change the MODEL or HYPERPARAMETERS for better results!\n",
        "\n",
        "![](https://res.infoq.com/presentations/machine-learning-gdpr/en/slides/sl16-1546226378470.jpg)\n",
        "\n",
        "\n",
        "Sometimes, you don't want to improve the error because it increases model complexity!"
      ]
    },
    {
      "cell_type": "markdown",
      "metadata": {
        "id": "mV4VFeUEqE0r"
      },
      "source": [
        "![](https://miro.medium.com/max/3610/1*fkg_s9tR4ootsi9jPkFgVA.png)"
      ]
    },
    {
      "cell_type": "markdown",
      "metadata": {
        "id": "y6bP38b3p_P3"
      },
      "source": [
        "![](https://qph.fs.quoracdn.net/main-qimg-17ec84ff3f63f77f6b368f0eb6ef1890.webp?source=post_page---------------------------)"
      ]
    },
    {
      "cell_type": "markdown",
      "metadata": {
        "id": "IqIHbfHLoEgy"
      },
      "source": [
        "## What are the most important hyperparameters?"
      ]
    },
    {
      "cell_type": "markdown",
      "metadata": {
        "id": "Ku20tmSNRJI-"
      },
      "source": [
        "Each model has DIFFERENT hyperparameters. They are model-specific. They are different for every model and the settings change how the update function changes the weights for every iteration.\n",
        "\n",
        "For example, one hyperparameter used in most models is the LEARNING RATE!"
      ]
    },
    {
      "cell_type": "markdown",
      "metadata": {
        "id": "RdIVQ9qtQPRo"
      },
      "source": [
        "![](http://cs231n.github.io/assets/nn3/learningrates.jpeg)"
      ]
    },
    {
      "cell_type": "markdown",
      "metadata": {
        "id": "PUVJzbS4nbqP"
      },
      "source": [
        "## Can the best hyperparameters automatically be selected?"
      ]
    },
    {
      "cell_type": "markdown",
      "metadata": {
        "id": "Vc_ZrWTbnheq"
      },
      "source": [
        "Yes and no. It does not understand your problem or data. Use it sparingly and for experimentation. It is best to read the documentation for your model for tips rather than rely on the autooptimizer.\n",
        "\n",
        "Model accuracy can be improved from small (+.01%) to large improvements."
      ]
    },
    {
      "cell_type": "markdown",
      "metadata": {
        "id": "aJJLhAbQoeBi"
      },
      "source": [
        "![](https://miro.medium.com/max/571/1*5mStLTnIxsANpOHSwAFJhg.png)"
      ]
    },
    {
      "cell_type": "markdown",
      "metadata": {
        "id": "I78jqemZorfs"
      },
      "source": [
        "![](https://miro.medium.com/max/1998/1*eKSUWwWCGvrUyT592oX-vg.png)"
      ]
    },
    {
      "cell_type": "markdown",
      "metadata": {
        "id": "O03EHG-hno_m"
      },
      "source": [
        "![](https://media.springernature.com/original/springer-static/image/chp%3A10.1007%2F978-3-030-05318-5_1/MediaObjects/453309_1_En_1_Fig1_HTML.png)"
      ]
    },
    {
      "cell_type": "markdown",
      "metadata": {
        "id": "oU0XB-3QK6Rf"
      },
      "source": [
        "## How do I prepare my data for Machine Learning?"
      ]
    },
    {
      "cell_type": "markdown",
      "metadata": {
        "id": "UZXDvZMaK-my"
      },
      "source": [
        "![](https://www.topbots.com/wp-content/uploads/2019/09/cover_1600px_web.jpg)"
      ]
    },
    {
      "cell_type": "markdown",
      "metadata": {
        "id": "VBRCo5yj7Wh6"
      },
      "source": [
        "## What is bad data?"
      ]
    },
    {
      "cell_type": "markdown",
      "metadata": {
        "id": "nH2xlPwK7Zqr"
      },
      "source": [
        "![](https://cdn.business2community.com/wp-content/uploads/2018/04/image7-1-900x397.png)"
      ]
    },
    {
      "cell_type": "markdown",
      "metadata": {
        "id": "7_Q0_BufJ6J8"
      },
      "source": [
        "## How do I explore my data?"
      ]
    },
    {
      "cell_type": "markdown",
      "metadata": {
        "id": "asrGu0-NJ-VX"
      },
      "source": [
        "Use a heatmap or a pairplot!\n",
        "\n",
        "![](https://miro.medium.com/max/1200/0*E3vgeIODUr2Yv_Qy.)\n",
        "\n",
        "![](https://lh3.googleusercontent.com/proxy/R78dhtsXJxpwFogE3s_OzffMM7Ssvw3DcKISdCZl3J_4dMsK3KT-I_qu0chKs4JAuxKNcyyJxxCo05hgKtjo7jVC9zOlPHhvDamkXnXbY8_czu73KQlPaPg)"
      ]
    },
    {
      "cell_type": "markdown",
      "metadata": {
        "id": "POoAj1lUKjIX"
      },
      "source": [
        "## How do I choose an ML model?"
      ]
    },
    {
      "cell_type": "markdown",
      "metadata": {
        "id": "_rL7mMbJKpsD"
      },
      "source": [
        "Use the sklearn model guide:"
      ]
    },
    {
      "cell_type": "markdown",
      "metadata": {
        "id": "bd4Xltt_KtOK"
      },
      "source": [
        "![](https://scikit-learn.org/stable/_static/ml_map.png)"
      ]
    },
    {
      "cell_type": "markdown",
      "metadata": {
        "id": "Nk6UdAJZHNMf"
      },
      "source": [
        "## How do we know which variables are good for prediction and confirm our models work?"
      ]
    },
    {
      "cell_type": "markdown",
      "metadata": {
        "id": "v_J2NveuHRkQ"
      },
      "source": [
        "Find variables that **overlap as little as possible in the PAIRPLOT** or in the **HEATMAP correlate as much as possible**!"
      ]
    },
    {
      "cell_type": "markdown",
      "metadata": {
        "id": "fsAc2XWXHpnN"
      },
      "source": [
        "![](https://media.cheggcdn.com/media%2Fc13%2Fc13ed7c9-2c9f-4d8f-813e-e0c55c45eb5b%2FphpKXUeNJ.png)"
      ]
    },
    {
      "cell_type": "markdown",
      "metadata": {
        "id": "l_XdyIJyZIvI"
      },
      "source": [
        "## What is a confusion matrix?"
      ]
    },
    {
      "cell_type": "markdown",
      "metadata": {
        "id": "nQE_MM5KZLpk"
      },
      "source": [
        "This is the calculation of TRUE and FALSE predictions your model has made. This can be used to compare different models using STATISTICS."
      ]
    },
    {
      "cell_type": "markdown",
      "metadata": {
        "id": "ia7I0kCCZ-DN"
      },
      "source": [
        "In the image below, data are scored based on weights, slope and intercept (bias). \n",
        "\n",
        "The errors can be counted in the picture on the right, see below which colors do not fit in the group! Which below stick out?"
      ]
    },
    {
      "cell_type": "markdown",
      "metadata": {
        "id": "51vtRoRKZ3eA"
      },
      "source": [
        "![](https://media.springernature.com/original/springer-static/image/chp%3A10.1007%2F978-3-319-63450-0_5/MediaObjects/395337_1_En_5_Fig2_HTML.gif)"
      ]
    },
    {
      "cell_type": "markdown",
      "metadata": {
        "id": "PLu9Ih31aerp"
      },
      "source": [
        "The TRUE and FALSE classifications are counted and put into a table called the confusion matrix."
      ]
    },
    {
      "cell_type": "markdown",
      "metadata": {
        "id": "mE3Q-XDVal-v"
      },
      "source": [
        "![](https://i1.wp.com/skilllx.com/wp-content/uploads/2020/08/confuse.png?resize=589%2C408)"
      ]
    },
    {
      "cell_type": "markdown",
      "metadata": {
        "id": "C12eDEV8bLmK"
      },
      "source": [
        "![](https://encrypted-tbn0.gstatic.com/images?q=tbn:ANd9GcTKvRFTMUFwSKHpRYelh3SiI2Putg2PEWLb_mkIRAQlmv1uLIEArSpSWYNZKACc7hL9CXc&usqp=CAU)"
      ]
    },
    {
      "cell_type": "markdown",
      "metadata": {
        "id": "Jwcf3ETTHplY"
      },
      "source": [
        "## How do we know if the model works and compare different models?"
      ]
    },
    {
      "cell_type": "markdown",
      "metadata": {
        "id": "oj1v8fBpIjOz"
      },
      "source": [
        "Use the confusion matrix and compare between models!\n",
        "\n",
        "\n",
        "![](https://community.alteryx.com/t5/image/serverpage/image-id/63786i04AB6B2DF57DD37B?v=v2)"
      ]
    },
    {
      "cell_type": "markdown",
      "metadata": {
        "id": "o9wHBCEQLl-q"
      },
      "source": [
        "## Does a high accuracy mean my model is working?"
      ]
    },
    {
      "cell_type": "markdown",
      "metadata": {
        "id": "DTe3PaZ1LpBM"
      },
      "source": [
        "Not really. For rare diseases, it is very EASY to have a high model accuracy. Any model that predicts Negative will have the EXACT same accuracy as the population occurrence of the disease! \n",
        "\n",
        "For example, if .01% of people have brain cancer and you make a model that predicts Negative ALWAYS, your model will be 99.99% accurate. But it will never detect when someone has brain cancer! We need to check the model accuracy AND PRECISION, RECALL AND SPECIFICITY scores!\n",
        "\n",
        "![](https://miro.medium.com/max/4420/1*btcfBuM5Eqqc6rJ3iw3sNQ.png)"
      ]
    },
    {
      "cell_type": "markdown",
      "metadata": {
        "id": "MGwuViAYTyaa"
      },
      "source": [
        "## What is model overfitting?"
      ]
    },
    {
      "cell_type": "markdown",
      "metadata": {
        "id": "Q2DqwTSAUjyV"
      },
      "source": [
        "When the model is fit too much for the dataset, it will not work on new data, it is not GENERALLY useful!"
      ]
    },
    {
      "cell_type": "markdown",
      "metadata": {
        "id": "6pGbzryzUvLh"
      },
      "source": [
        "![](https://cdn.analyticsvidhya.com/wp-content/uploads/2020/02/Screenshot-2020-02-06-at-11.06.24.png)"
      ]
    },
    {
      "cell_type": "markdown",
      "metadata": {
        "id": "VnzTSUDrU-LL"
      },
      "source": [
        "![](https://media.geeksforgeeks.org/wp-content/cdn-uploads/20190523171258/overfitting_2.png)"
      ]
    },
    {
      "cell_type": "markdown",
      "metadata": {
        "id": "YEPfW1oeVpri"
      },
      "source": [
        "![](https://www.googleapis.com/download/storage/v1/b/kaggle-user-content/o/inbox%2F4533747%2F61b58caa4e9b00ead191242796e86e27%2Ffitting.JPG?generation=1594728310000042&alt=media)"
      ]
    },
    {
      "cell_type": "markdown",
      "metadata": {
        "id": "eCG-wTciT1jo"
      },
      "source": [
        "## How can I keep my model from overfitting?"
      ]
    },
    {
      "cell_type": "markdown",
      "metadata": {
        "id": "4sgSuryVlucd"
      },
      "source": [
        "Don't train too long! Don't let the training error be lower than the test error!"
      ]
    },
    {
      "cell_type": "markdown",
      "metadata": {
        "id": "koJBXEfeVezs"
      },
      "source": [
        "![](https://i.stack.imgur.com/rpqa6.jpg)"
      ]
    },
    {
      "cell_type": "markdown",
      "metadata": {
        "id": "2q0PomMAULZx"
      },
      "source": [
        "One way is to SPLIT the data into training and test. Use the training to fit the model weights and then compare the accuracy on both groups for each model."
      ]
    },
    {
      "cell_type": "markdown",
      "metadata": {
        "id": "hrf_lPXsT65D"
      },
      "source": [
        "![](https://labelyourdata.com/img/article-illustrations/training-data-testing-data.png)"
      ]
    }
  ]
}